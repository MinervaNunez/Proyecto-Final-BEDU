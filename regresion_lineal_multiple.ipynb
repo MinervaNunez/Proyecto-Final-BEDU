{
 "cells": [
  {
   "cell_type": "markdown",
   "metadata": {
    "colab_type": "text",
    "id": "view-in-github"
   },
   "source": [
    "<a href=\"https://colab.research.google.com/github/MinervaNunez/Proyecto-de-Python-BEDU/blob/main/bedu_proyecto_python.ipynb\" target=\"_parent\"><img src=\"https://colab.research.google.com/assets/colab-badge.svg\" alt=\"Open In Colab\"/></a>"
   ]
  },
  {
   "cell_type": "markdown",
   "metadata": {
    "id": "j4pLbdnVBPPd"
   },
   "source": [
    "# Proyecto de Python Equipo 8\n",
    "\n",
    ">   *   Nicky García Fierros (nickygarcia@ciencias.unam.mx)\n",
    ">   *   Kevin Martin Rivera Castro (kevinrc.unam@gmail.com)\n",
    ">   *   Jesús Manuel Jimenez Cardoza (chucho003@hotmail.com)\n",
    ">   *   Minerva Estefanía Núñez Manjarrez (estefania.nun.man@gmail.com)\n",
    ">   *   Luis Mateo Patricio Pineda (mateopa@gmail.com)"
   ]
  },
  {
   "cell_type": "markdown",
   "metadata": {},
   "source": [
    "---\n",
    "\n",
    "## Introducción\n",
    "\n",
    "---"
   ]
  },
  {
   "cell_type": "markdown",
   "metadata": {},
   "source": [
    "Nos podría interesar predecir la estatura de una persona, ya que posiblemente este sea el dato que se desconoce con mayor frecuencia al realizar un reporte de desaparición.\n",
    "\n",
    "Considerando lo anterior, utilizaremos un modelo de regresión lineal simple para predecir la altura de una persona a partir de la edad."
   ]
  },
  {
   "cell_type": "markdown",
   "metadata": {},
   "source": []
  },
  {
   "cell_type": "markdown",
   "metadata": {},
   "source": [
    "---\n",
    "\n",
    "## Librerías necesarias\n",
    "\n",
    "---"
   ]
  },
  {
   "cell_type": "code",
   "execution_count": 1,
   "metadata": {
    "ExecuteTime": {
     "end_time": "2022-12-12T03:15:19.153652Z",
     "start_time": "2022-12-12T03:15:17.748073Z"
    }
   },
   "outputs": [],
   "source": [
    "import pandas as pd\n",
    "import numpy as np\n",
    "\n",
    "import matplotlib.pyplot as plt\n",
    "import seaborn as sns\n",
    "\n",
    "from sklearn.model_selection import train_test_split #separacion de conjuntos entrenamiento-prueba\n",
    "from sklearn.linear_model import LinearRegression #Regresión lineal\n",
    "from sklearn.metrics import r2_score #score R2\n",
    "from sklearn.metrics import mean_squared_error #error cuadrado medio\n",
    "from sklearn.metrics import mean_absolute_error #error absoluto medio\n",
    "from sklearn.preprocessing import PolynomialFeatures #regresión polinomial"
   ]
  },
  {
   "cell_type": "markdown",
   "metadata": {},
   "source": [
    "---\n",
    "\n",
    "## Lectura de Datos\n",
    "\n",
    "---"
   ]
  },
  {
   "cell_type": "markdown",
   "metadata": {},
   "source": [
    "Leemos el ```DataFrame``` resultante de nuestro proyecto anterior."
   ]
  },
  {
   "cell_type": "code",
   "execution_count": 2,
   "metadata": {
    "ExecuteTime": {
     "end_time": "2022-12-12T03:15:19.279520Z",
     "start_time": "2022-12-12T03:15:19.157808Z"
    }
   },
   "outputs": [],
   "source": [
    "df = pd.read_csv('RNPEDFC_estatura.csv', encoding='ISO-8859-1')"
   ]
  },
  {
   "cell_type": "markdown",
   "metadata": {},
   "source": [
    "Obtenermos como resultado nuesto ```DataFrame``` principal."
   ]
  },
  {
   "cell_type": "code",
   "execution_count": 3,
   "metadata": {
    "ExecuteTime": {
     "end_time": "2022-12-12T03:15:19.313866Z",
     "start_time": "2022-12-12T03:15:19.282548Z"
    },
    "scrolled": true
   },
   "outputs": [
    {
     "data": {
      "text/html": [
       "<div>\n",
       "<style scoped>\n",
       "    .dataframe tbody tr th:only-of-type {\n",
       "        vertical-align: middle;\n",
       "    }\n",
       "\n",
       "    .dataframe tbody tr th {\n",
       "        vertical-align: top;\n",
       "    }\n",
       "\n",
       "    .dataframe thead th {\n",
       "        text-align: right;\n",
       "    }\n",
       "</style>\n",
       "<table border=\"1\" class=\"dataframe\">\n",
       "  <thead>\n",
       "    <tr style=\"text-align: right;\">\n",
       "      <th></th>\n",
       "      <th>fecha</th>\n",
       "      <th>hora</th>\n",
       "      <th>entidad</th>\n",
       "      <th>municipio</th>\n",
       "      <th>localidad</th>\n",
       "      <th>nacionalidad</th>\n",
       "      <th>sexo</th>\n",
       "      <th>edad</th>\n",
       "      <th>estatura</th>\n",
       "      <th>complexion</th>\n",
       "      <th>senas_particulares</th>\n",
       "      <th>discapacidad</th>\n",
       "      <th>dependecia_origen</th>\n",
       "    </tr>\n",
       "  </thead>\n",
       "  <tbody>\n",
       "    <tr>\n",
       "      <th>0</th>\n",
       "      <td>2012-03-18</td>\n",
       "      <td>05:00:00</td>\n",
       "      <td>Sonora</td>\n",
       "      <td>Navojoa</td>\n",
       "      <td>Navojoa</td>\n",
       "      <td>Mexicana</td>\n",
       "      <td>Mujer</td>\n",
       "      <td>7</td>\n",
       "      <td>1.10</td>\n",
       "      <td>Delgada</td>\n",
       "      <td>Tiene Una Cicatriz En La Rodilla Izquierda Por...</td>\n",
       "      <td>Ninguno</td>\n",
       "      <td>FGE - Sonora</td>\n",
       "    </tr>\n",
       "    <tr>\n",
       "      <th>1</th>\n",
       "      <td>2007-02-05</td>\n",
       "      <td>02:00:26</td>\n",
       "      <td>Estado De Mexico</td>\n",
       "      <td>Valle De Bravo</td>\n",
       "      <td>Valle De Bravo</td>\n",
       "      <td>Mexicana</td>\n",
       "      <td>Mujer</td>\n",
       "      <td>4</td>\n",
       "      <td>1.10</td>\n",
       "      <td>Delgada</td>\n",
       "      <td>No Especificado</td>\n",
       "      <td>Ninguno</td>\n",
       "      <td>FGJ - Estado De Mexico</td>\n",
       "    </tr>\n",
       "    <tr>\n",
       "      <th>2</th>\n",
       "      <td>2009-03-14</td>\n",
       "      <td>08:30:54</td>\n",
       "      <td>Estado De Mexico</td>\n",
       "      <td>Chalco</td>\n",
       "      <td>Chalco</td>\n",
       "      <td>Mexicana</td>\n",
       "      <td>Hombre</td>\n",
       "      <td>6</td>\n",
       "      <td>1.10</td>\n",
       "      <td>Delgada</td>\n",
       "      <td>Manchas, Parte Superior De Pierna Derecha, Cic...</td>\n",
       "      <td>Ninguno</td>\n",
       "      <td>FGJ - Estado De Mexico</td>\n",
       "    </tr>\n",
       "    <tr>\n",
       "      <th>3</th>\n",
       "      <td>2006-12-23</td>\n",
       "      <td>08:00:28</td>\n",
       "      <td>Estado De Mexico</td>\n",
       "      <td>Tlalnepantla De Baz</td>\n",
       "      <td>Tlalnepantla De Baz</td>\n",
       "      <td>Mexicana</td>\n",
       "      <td>Hombre</td>\n",
       "      <td>10</td>\n",
       "      <td>1.10</td>\n",
       "      <td>Delgada</td>\n",
       "      <td>Lunares, A La Altura De La Cinturaforma De Man...</td>\n",
       "      <td>Ninguno</td>\n",
       "      <td>FGJ - Estado De Mexico</td>\n",
       "    </tr>\n",
       "    <tr>\n",
       "      <th>4</th>\n",
       "      <td>2008-01-11</td>\n",
       "      <td>12:00:17</td>\n",
       "      <td>Estado De Mexico</td>\n",
       "      <td>Toluca</td>\n",
       "      <td>Toluca</td>\n",
       "      <td>Mexicana</td>\n",
       "      <td>Hombre</td>\n",
       "      <td>4</td>\n",
       "      <td>1.10</td>\n",
       "      <td>Delgada</td>\n",
       "      <td>No Especificado</td>\n",
       "      <td>Ninguno</td>\n",
       "      <td>FGJ - Estado De Mexico</td>\n",
       "    </tr>\n",
       "    <tr>\n",
       "      <th>...</th>\n",
       "      <td>...</td>\n",
       "      <td>...</td>\n",
       "      <td>...</td>\n",
       "      <td>...</td>\n",
       "      <td>...</td>\n",
       "      <td>...</td>\n",
       "      <td>...</td>\n",
       "      <td>...</td>\n",
       "      <td>...</td>\n",
       "      <td>...</td>\n",
       "      <td>...</td>\n",
       "      <td>...</td>\n",
       "      <td>...</td>\n",
       "    </tr>\n",
       "    <tr>\n",
       "      <th>35922</th>\n",
       "      <td>2018-04-26</td>\n",
       "      <td>08:00:00</td>\n",
       "      <td>Puebla</td>\n",
       "      <td>Puebla</td>\n",
       "      <td>Puebla</td>\n",
       "      <td>Mexicana</td>\n",
       "      <td>Hombre</td>\n",
       "      <td>22</td>\n",
       "      <td>1.60</td>\n",
       "      <td>Delgada</td>\n",
       "      <td>Lunar En La Mejilla Y Tatuaje En El Cuello En ...</td>\n",
       "      <td>Ninguno</td>\n",
       "      <td>FGE - Puebla</td>\n",
       "    </tr>\n",
       "    <tr>\n",
       "      <th>35923</th>\n",
       "      <td>2018-01-08</td>\n",
       "      <td>11:00:00</td>\n",
       "      <td>Colima</td>\n",
       "      <td>Villa De Alvarez</td>\n",
       "      <td>Villa De Alvarez</td>\n",
       "      <td>Mexicana</td>\n",
       "      <td>Mujer</td>\n",
       "      <td>27</td>\n",
       "      <td>1.70</td>\n",
       "      <td>Robusta</td>\n",
       "      <td>El Ojo Izquierdo Tiene Un Enfermedad Como Tic,...</td>\n",
       "      <td>Ninguno</td>\n",
       "      <td>PGJ - Colima</td>\n",
       "    </tr>\n",
       "    <tr>\n",
       "      <th>35924</th>\n",
       "      <td>2015-02-02</td>\n",
       "      <td>07:00:00</td>\n",
       "      <td>Puebla</td>\n",
       "      <td>Chila</td>\n",
       "      <td>Chilas De Las Flores</td>\n",
       "      <td>Mexicana</td>\n",
       "      <td>Mujer</td>\n",
       "      <td>86</td>\n",
       "      <td>1.77</td>\n",
       "      <td>Mediana</td>\n",
       "      <td>No Especificado</td>\n",
       "      <td>Ninguno</td>\n",
       "      <td>FGE - Puebla</td>\n",
       "    </tr>\n",
       "    <tr>\n",
       "      <th>35925</th>\n",
       "      <td>2017-08-22</td>\n",
       "      <td>04:00:00</td>\n",
       "      <td>Colima</td>\n",
       "      <td>Villa De Alvarez</td>\n",
       "      <td>Villa De Alvarez</td>\n",
       "      <td>Mexicana</td>\n",
       "      <td>Hombre</td>\n",
       "      <td>41</td>\n",
       "      <td>1.76</td>\n",
       "      <td>Robusta</td>\n",
       "      <td>Tatuaje En El Brazo Izquierdo Con La Imagen De...</td>\n",
       "      <td>Ninguno</td>\n",
       "      <td>PGJ - Colima</td>\n",
       "    </tr>\n",
       "    <tr>\n",
       "      <th>35926</th>\n",
       "      <td>2018-04-11</td>\n",
       "      <td>02:00:00</td>\n",
       "      <td>Nuevo Leon</td>\n",
       "      <td>San Nicolas De Los Garza</td>\n",
       "      <td>San Nicolas De Los Garza</td>\n",
       "      <td>Mexicana</td>\n",
       "      <td>Mujer</td>\n",
       "      <td>14</td>\n",
       "      <td>1.60</td>\n",
       "      <td>Delgada</td>\n",
       "      <td>No Especificado</td>\n",
       "      <td>Ninguno</td>\n",
       "      <td>PGJ - Nuevo Leon</td>\n",
       "    </tr>\n",
       "  </tbody>\n",
       "</table>\n",
       "<p>35927 rows × 13 columns</p>\n",
       "</div>"
      ],
      "text/plain": [
       "            fecha      hora           entidad                 municipio  \\\n",
       "0      2012-03-18  05:00:00            Sonora                   Navojoa   \n",
       "1      2007-02-05  02:00:26  Estado De Mexico            Valle De Bravo   \n",
       "2      2009-03-14  08:30:54  Estado De Mexico                    Chalco   \n",
       "3      2006-12-23  08:00:28  Estado De Mexico       Tlalnepantla De Baz   \n",
       "4      2008-01-11  12:00:17  Estado De Mexico                    Toluca   \n",
       "...           ...       ...               ...                       ...   \n",
       "35922  2018-04-26  08:00:00            Puebla                    Puebla   \n",
       "35923  2018-01-08  11:00:00            Colima          Villa De Alvarez   \n",
       "35924  2015-02-02  07:00:00            Puebla                     Chila   \n",
       "35925  2017-08-22  04:00:00            Colima          Villa De Alvarez   \n",
       "35926  2018-04-11  02:00:00        Nuevo Leon  San Nicolas De Los Garza   \n",
       "\n",
       "                      localidad nacionalidad    sexo  edad  estatura  \\\n",
       "0                       Navojoa     Mexicana   Mujer     7      1.10   \n",
       "1                Valle De Bravo     Mexicana   Mujer     4      1.10   \n",
       "2                        Chalco     Mexicana  Hombre     6      1.10   \n",
       "3           Tlalnepantla De Baz     Mexicana  Hombre    10      1.10   \n",
       "4                        Toluca     Mexicana  Hombre     4      1.10   \n",
       "...                         ...          ...     ...   ...       ...   \n",
       "35922                    Puebla     Mexicana  Hombre    22      1.60   \n",
       "35923          Villa De Alvarez     Mexicana   Mujer    27      1.70   \n",
       "35924      Chilas De Las Flores     Mexicana   Mujer    86      1.77   \n",
       "35925          Villa De Alvarez     Mexicana  Hombre    41      1.76   \n",
       "35926  San Nicolas De Los Garza     Mexicana   Mujer    14      1.60   \n",
       "\n",
       "      complexion                                 senas_particulares  \\\n",
       "0        Delgada  Tiene Una Cicatriz En La Rodilla Izquierda Por...   \n",
       "1        Delgada                                    No Especificado   \n",
       "2        Delgada  Manchas, Parte Superior De Pierna Derecha, Cic...   \n",
       "3        Delgada  Lunares, A La Altura De La Cinturaforma De Man...   \n",
       "4        Delgada                                    No Especificado   \n",
       "...          ...                                                ...   \n",
       "35922    Delgada  Lunar En La Mejilla Y Tatuaje En El Cuello En ...   \n",
       "35923    Robusta  El Ojo Izquierdo Tiene Un Enfermedad Como Tic,...   \n",
       "35924    Mediana                                    No Especificado   \n",
       "35925    Robusta  Tatuaje En El Brazo Izquierdo Con La Imagen De...   \n",
       "35926    Delgada                                    No Especificado   \n",
       "\n",
       "      discapacidad       dependecia_origen  \n",
       "0          Ninguno            FGE - Sonora  \n",
       "1          Ninguno  FGJ - Estado De Mexico  \n",
       "2          Ninguno  FGJ - Estado De Mexico  \n",
       "3          Ninguno  FGJ - Estado De Mexico  \n",
       "4          Ninguno  FGJ - Estado De Mexico  \n",
       "...            ...                     ...  \n",
       "35922      Ninguno            FGE - Puebla  \n",
       "35923      Ninguno            PGJ - Colima  \n",
       "35924      Ninguno            FGE - Puebla  \n",
       "35925      Ninguno            PGJ - Colima  \n",
       "35926      Ninguno        PGJ - Nuevo Leon  \n",
       "\n",
       "[35927 rows x 13 columns]"
      ]
     },
     "execution_count": 3,
     "metadata": {},
     "output_type": "execute_result"
    }
   ],
   "source": [
    "df"
   ]
  },
  {
   "cell_type": "markdown",
   "metadata": {},
   "source": [
    "## Variable objetivo"
   ]
  },
  {
   "cell_type": "markdown",
   "metadata": {},
   "source": [
    "Nuestra variable de estatura presentaba valores nulos, en un primer trabajo de análisis y limpieza tomamos la decisión de realizar una imputación. Esta vez nuestro objetivo es lograr predecir este valor, por lo tanto, no utilizaremos valores imputados y solo nos centraremos en los valores que no nulos para que nuestro modelo pueda predecir de una mejor forma la realidad."
   ]
  },
  {
   "cell_type": "code",
   "execution_count": 4,
   "metadata": {
    "ExecuteTime": {
     "end_time": "2022-12-12T03:15:19.325728Z",
     "start_time": "2022-12-12T03:15:19.317245Z"
    }
   },
   "outputs": [],
   "source": [
    "#Elegimos todos los registros que no contengan nulos en estatura\n",
    "df = df[~df['estatura'].isnull()]"
   ]
  },
  {
   "cell_type": "code",
   "execution_count": 5,
   "metadata": {
    "ExecuteTime": {
     "end_time": "2022-12-12T03:15:19.338755Z",
     "start_time": "2022-12-12T03:15:19.330007Z"
    }
   },
   "outputs": [],
   "source": [
    "#corregimos el indice\n",
    "df = df.reset_index(drop=True)\n",
    "\n",
    "df.index = df.index + 1"
   ]
  },
  {
   "cell_type": "code",
   "execution_count": 6,
   "metadata": {
    "ExecuteTime": {
     "end_time": "2022-12-12T03:15:19.363849Z",
     "start_time": "2022-12-12T03:15:19.340944Z"
    }
   },
   "outputs": [
    {
     "data": {
      "text/html": [
       "<div>\n",
       "<style scoped>\n",
       "    .dataframe tbody tr th:only-of-type {\n",
       "        vertical-align: middle;\n",
       "    }\n",
       "\n",
       "    .dataframe tbody tr th {\n",
       "        vertical-align: top;\n",
       "    }\n",
       "\n",
       "    .dataframe thead th {\n",
       "        text-align: right;\n",
       "    }\n",
       "</style>\n",
       "<table border=\"1\" class=\"dataframe\">\n",
       "  <thead>\n",
       "    <tr style=\"text-align: right;\">\n",
       "      <th></th>\n",
       "      <th>fecha</th>\n",
       "      <th>hora</th>\n",
       "      <th>entidad</th>\n",
       "      <th>municipio</th>\n",
       "      <th>localidad</th>\n",
       "      <th>nacionalidad</th>\n",
       "      <th>sexo</th>\n",
       "      <th>edad</th>\n",
       "      <th>estatura</th>\n",
       "      <th>complexion</th>\n",
       "      <th>senas_particulares</th>\n",
       "      <th>discapacidad</th>\n",
       "      <th>dependecia_origen</th>\n",
       "    </tr>\n",
       "  </thead>\n",
       "  <tbody>\n",
       "    <tr>\n",
       "      <th>1</th>\n",
       "      <td>2012-03-18</td>\n",
       "      <td>05:00:00</td>\n",
       "      <td>Sonora</td>\n",
       "      <td>Navojoa</td>\n",
       "      <td>Navojoa</td>\n",
       "      <td>Mexicana</td>\n",
       "      <td>Mujer</td>\n",
       "      <td>7</td>\n",
       "      <td>1.10</td>\n",
       "      <td>Delgada</td>\n",
       "      <td>Tiene Una Cicatriz En La Rodilla Izquierda Por...</td>\n",
       "      <td>Ninguno</td>\n",
       "      <td>FGE - Sonora</td>\n",
       "    </tr>\n",
       "    <tr>\n",
       "      <th>2</th>\n",
       "      <td>2007-02-05</td>\n",
       "      <td>02:00:26</td>\n",
       "      <td>Estado De Mexico</td>\n",
       "      <td>Valle De Bravo</td>\n",
       "      <td>Valle De Bravo</td>\n",
       "      <td>Mexicana</td>\n",
       "      <td>Mujer</td>\n",
       "      <td>4</td>\n",
       "      <td>1.10</td>\n",
       "      <td>Delgada</td>\n",
       "      <td>No Especificado</td>\n",
       "      <td>Ninguno</td>\n",
       "      <td>FGJ - Estado De Mexico</td>\n",
       "    </tr>\n",
       "    <tr>\n",
       "      <th>3</th>\n",
       "      <td>2009-03-14</td>\n",
       "      <td>08:30:54</td>\n",
       "      <td>Estado De Mexico</td>\n",
       "      <td>Chalco</td>\n",
       "      <td>Chalco</td>\n",
       "      <td>Mexicana</td>\n",
       "      <td>Hombre</td>\n",
       "      <td>6</td>\n",
       "      <td>1.10</td>\n",
       "      <td>Delgada</td>\n",
       "      <td>Manchas, Parte Superior De Pierna Derecha, Cic...</td>\n",
       "      <td>Ninguno</td>\n",
       "      <td>FGJ - Estado De Mexico</td>\n",
       "    </tr>\n",
       "    <tr>\n",
       "      <th>4</th>\n",
       "      <td>2006-12-23</td>\n",
       "      <td>08:00:28</td>\n",
       "      <td>Estado De Mexico</td>\n",
       "      <td>Tlalnepantla De Baz</td>\n",
       "      <td>Tlalnepantla De Baz</td>\n",
       "      <td>Mexicana</td>\n",
       "      <td>Hombre</td>\n",
       "      <td>10</td>\n",
       "      <td>1.10</td>\n",
       "      <td>Delgada</td>\n",
       "      <td>Lunares, A La Altura De La Cinturaforma De Man...</td>\n",
       "      <td>Ninguno</td>\n",
       "      <td>FGJ - Estado De Mexico</td>\n",
       "    </tr>\n",
       "    <tr>\n",
       "      <th>5</th>\n",
       "      <td>2008-01-11</td>\n",
       "      <td>12:00:17</td>\n",
       "      <td>Estado De Mexico</td>\n",
       "      <td>Toluca</td>\n",
       "      <td>Toluca</td>\n",
       "      <td>Mexicana</td>\n",
       "      <td>Hombre</td>\n",
       "      <td>4</td>\n",
       "      <td>1.10</td>\n",
       "      <td>Delgada</td>\n",
       "      <td>No Especificado</td>\n",
       "      <td>Ninguno</td>\n",
       "      <td>FGJ - Estado De Mexico</td>\n",
       "    </tr>\n",
       "    <tr>\n",
       "      <th>...</th>\n",
       "      <td>...</td>\n",
       "      <td>...</td>\n",
       "      <td>...</td>\n",
       "      <td>...</td>\n",
       "      <td>...</td>\n",
       "      <td>...</td>\n",
       "      <td>...</td>\n",
       "      <td>...</td>\n",
       "      <td>...</td>\n",
       "      <td>...</td>\n",
       "      <td>...</td>\n",
       "      <td>...</td>\n",
       "      <td>...</td>\n",
       "    </tr>\n",
       "    <tr>\n",
       "      <th>25139</th>\n",
       "      <td>2018-04-26</td>\n",
       "      <td>08:00:00</td>\n",
       "      <td>Puebla</td>\n",
       "      <td>Puebla</td>\n",
       "      <td>Puebla</td>\n",
       "      <td>Mexicana</td>\n",
       "      <td>Hombre</td>\n",
       "      <td>22</td>\n",
       "      <td>1.60</td>\n",
       "      <td>Delgada</td>\n",
       "      <td>Lunar En La Mejilla Y Tatuaje En El Cuello En ...</td>\n",
       "      <td>Ninguno</td>\n",
       "      <td>FGE - Puebla</td>\n",
       "    </tr>\n",
       "    <tr>\n",
       "      <th>25140</th>\n",
       "      <td>2018-01-08</td>\n",
       "      <td>11:00:00</td>\n",
       "      <td>Colima</td>\n",
       "      <td>Villa De Alvarez</td>\n",
       "      <td>Villa De Alvarez</td>\n",
       "      <td>Mexicana</td>\n",
       "      <td>Mujer</td>\n",
       "      <td>27</td>\n",
       "      <td>1.70</td>\n",
       "      <td>Robusta</td>\n",
       "      <td>El Ojo Izquierdo Tiene Un Enfermedad Como Tic,...</td>\n",
       "      <td>Ninguno</td>\n",
       "      <td>PGJ - Colima</td>\n",
       "    </tr>\n",
       "    <tr>\n",
       "      <th>25141</th>\n",
       "      <td>2015-02-02</td>\n",
       "      <td>07:00:00</td>\n",
       "      <td>Puebla</td>\n",
       "      <td>Chila</td>\n",
       "      <td>Chilas De Las Flores</td>\n",
       "      <td>Mexicana</td>\n",
       "      <td>Mujer</td>\n",
       "      <td>86</td>\n",
       "      <td>1.77</td>\n",
       "      <td>Mediana</td>\n",
       "      <td>No Especificado</td>\n",
       "      <td>Ninguno</td>\n",
       "      <td>FGE - Puebla</td>\n",
       "    </tr>\n",
       "    <tr>\n",
       "      <th>25142</th>\n",
       "      <td>2017-08-22</td>\n",
       "      <td>04:00:00</td>\n",
       "      <td>Colima</td>\n",
       "      <td>Villa De Alvarez</td>\n",
       "      <td>Villa De Alvarez</td>\n",
       "      <td>Mexicana</td>\n",
       "      <td>Hombre</td>\n",
       "      <td>41</td>\n",
       "      <td>1.76</td>\n",
       "      <td>Robusta</td>\n",
       "      <td>Tatuaje En El Brazo Izquierdo Con La Imagen De...</td>\n",
       "      <td>Ninguno</td>\n",
       "      <td>PGJ - Colima</td>\n",
       "    </tr>\n",
       "    <tr>\n",
       "      <th>25143</th>\n",
       "      <td>2018-04-11</td>\n",
       "      <td>02:00:00</td>\n",
       "      <td>Nuevo Leon</td>\n",
       "      <td>San Nicolas De Los Garza</td>\n",
       "      <td>San Nicolas De Los Garza</td>\n",
       "      <td>Mexicana</td>\n",
       "      <td>Mujer</td>\n",
       "      <td>14</td>\n",
       "      <td>1.60</td>\n",
       "      <td>Delgada</td>\n",
       "      <td>No Especificado</td>\n",
       "      <td>Ninguno</td>\n",
       "      <td>PGJ - Nuevo Leon</td>\n",
       "    </tr>\n",
       "  </tbody>\n",
       "</table>\n",
       "<p>25143 rows × 13 columns</p>\n",
       "</div>"
      ],
      "text/plain": [
       "            fecha      hora           entidad                 municipio  \\\n",
       "1      2012-03-18  05:00:00            Sonora                   Navojoa   \n",
       "2      2007-02-05  02:00:26  Estado De Mexico            Valle De Bravo   \n",
       "3      2009-03-14  08:30:54  Estado De Mexico                    Chalco   \n",
       "4      2006-12-23  08:00:28  Estado De Mexico       Tlalnepantla De Baz   \n",
       "5      2008-01-11  12:00:17  Estado De Mexico                    Toluca   \n",
       "...           ...       ...               ...                       ...   \n",
       "25139  2018-04-26  08:00:00            Puebla                    Puebla   \n",
       "25140  2018-01-08  11:00:00            Colima          Villa De Alvarez   \n",
       "25141  2015-02-02  07:00:00            Puebla                     Chila   \n",
       "25142  2017-08-22  04:00:00            Colima          Villa De Alvarez   \n",
       "25143  2018-04-11  02:00:00        Nuevo Leon  San Nicolas De Los Garza   \n",
       "\n",
       "                      localidad nacionalidad    sexo  edad  estatura  \\\n",
       "1                       Navojoa     Mexicana   Mujer     7      1.10   \n",
       "2                Valle De Bravo     Mexicana   Mujer     4      1.10   \n",
       "3                        Chalco     Mexicana  Hombre     6      1.10   \n",
       "4           Tlalnepantla De Baz     Mexicana  Hombre    10      1.10   \n",
       "5                        Toluca     Mexicana  Hombre     4      1.10   \n",
       "...                         ...          ...     ...   ...       ...   \n",
       "25139                    Puebla     Mexicana  Hombre    22      1.60   \n",
       "25140          Villa De Alvarez     Mexicana   Mujer    27      1.70   \n",
       "25141      Chilas De Las Flores     Mexicana   Mujer    86      1.77   \n",
       "25142          Villa De Alvarez     Mexicana  Hombre    41      1.76   \n",
       "25143  San Nicolas De Los Garza     Mexicana   Mujer    14      1.60   \n",
       "\n",
       "      complexion                                 senas_particulares  \\\n",
       "1        Delgada  Tiene Una Cicatriz En La Rodilla Izquierda Por...   \n",
       "2        Delgada                                    No Especificado   \n",
       "3        Delgada  Manchas, Parte Superior De Pierna Derecha, Cic...   \n",
       "4        Delgada  Lunares, A La Altura De La Cinturaforma De Man...   \n",
       "5        Delgada                                    No Especificado   \n",
       "...          ...                                                ...   \n",
       "25139    Delgada  Lunar En La Mejilla Y Tatuaje En El Cuello En ...   \n",
       "25140    Robusta  El Ojo Izquierdo Tiene Un Enfermedad Como Tic,...   \n",
       "25141    Mediana                                    No Especificado   \n",
       "25142    Robusta  Tatuaje En El Brazo Izquierdo Con La Imagen De...   \n",
       "25143    Delgada                                    No Especificado   \n",
       "\n",
       "      discapacidad       dependecia_origen  \n",
       "1          Ninguno            FGE - Sonora  \n",
       "2          Ninguno  FGJ - Estado De Mexico  \n",
       "3          Ninguno  FGJ - Estado De Mexico  \n",
       "4          Ninguno  FGJ - Estado De Mexico  \n",
       "5          Ninguno  FGJ - Estado De Mexico  \n",
       "...            ...                     ...  \n",
       "25139      Ninguno            FGE - Puebla  \n",
       "25140      Ninguno            PGJ - Colima  \n",
       "25141      Ninguno            FGE - Puebla  \n",
       "25142      Ninguno            PGJ - Colima  \n",
       "25143      Ninguno        PGJ - Nuevo Leon  \n",
       "\n",
       "[25143 rows x 13 columns]"
      ]
     },
     "execution_count": 6,
     "metadata": {},
     "output_type": "execute_result"
    }
   ],
   "source": [
    "df"
   ]
  },
  {
   "cell_type": "markdown",
   "metadata": {},
   "source": [
    "## Variables predictoras"
   ]
  },
  {
   "cell_type": "markdown",
   "metadata": {},
   "source": [
    "Seleccionamos las variables que usaremos para predecir la estatura de las personas. Las variables que nos podrian ayudar en esta tarea son:\n",
    "* sexo\n",
    "* edad\n",
    "* complexión"
   ]
  },
  {
   "cell_type": "markdown",
   "metadata": {},
   "source": [
    "### Valores atípicos"
   ]
  },
  {
   "cell_type": "markdown",
   "metadata": {},
   "source": [
    "Visualicemos las correlación entre la edad y la estura."
   ]
  },
  {
   "cell_type": "code",
   "execution_count": 7,
   "metadata": {
    "ExecuteTime": {
     "end_time": "2022-12-12T03:15:19.666436Z",
     "start_time": "2022-12-12T03:15:19.366701Z"
    },
    "scrolled": false
   },
   "outputs": [
    {
     "name": "stderr",
     "output_type": "stream",
     "text": [
      "/home/kevin/.local/lib/python3.10/site-packages/seaborn/_decorators.py:36: FutureWarning: Pass the following variables as keyword args: x, y. From version 0.12, the only valid positional argument will be `data`, and passing other arguments without an explicit keyword will result in an error or misinterpretation.\n",
      "  warnings.warn(\n"
     ]
    },
    {
     "data": {
      "text/plain": [
       "<AxesSubplot:xlabel='edad', ylabel='estatura'>"
      ]
     },
     "execution_count": 7,
     "metadata": {},
     "output_type": "execute_result"
    },
    {
     "data": {
      "image/png": "[encoded data removed]",
      "text/plain": [
       "<Figure size 432x288 with 1 Axes>"
      ]
     },
     "metadata": {
      "needs_background": "light"
     },
     "output_type": "display_data"
    }
   ],
   "source": [
    "sns.scatterplot(df['edad'], df['estatura'])"
   ]
  },
  {
   "cell_type": "code",
   "execution_count": 8,
   "metadata": {
    "ExecuteTime": {
     "end_time": "2022-12-12T03:15:19.679091Z",
     "start_time": "2022-12-12T03:15:19.668827Z"
    }
   },
   "outputs": [
    {
     "data": {
      "text/plain": [
       "0.29997042109078453"
      ]
     },
     "execution_count": 8,
     "metadata": {},
     "output_type": "execute_result"
    }
   ],
   "source": [
    "df['edad'].corr(df['estatura'])"
   ]
  },
  {
   "cell_type": "markdown",
   "metadata": {},
   "source": [
    "> Podemos ver que no es clara una recta entre los valores."
   ]
  },
  {
   "cell_type": "markdown",
   "metadata": {},
   "source": [
    "Observaremos si existen valores atípicos en edad, y los eliminaremos para mejorar la relación entre estas variables."
   ]
  },
  {
   "cell_type": "code",
   "execution_count": 9,
   "metadata": {
    "ExecuteTime": {
     "end_time": "2022-12-12T03:15:19.697851Z",
     "start_time": "2022-12-12T03:15:19.682999Z"
    }
   },
   "outputs": [],
   "source": [
    "iqr_edad = df['edad'].quantile(0.75) - df['edad'].quantile(0.25)\n",
    "filter_upper_outliers = df['edad'] < (df['edad'].quantile(0.75) + iqr_edad * 1.5)\n",
    "df_edad_no_outliers = df[filter_upper_outliers]"
   ]
  },
  {
   "cell_type": "markdown",
   "metadata": {},
   "source": [
    "Calculamos nuevamente el coeficiente de correlación."
   ]
  },
  {
   "cell_type": "code",
   "execution_count": 10,
   "metadata": {
    "ExecuteTime": {
     "end_time": "2022-12-12T03:15:19.714616Z",
     "start_time": "2022-12-12T03:15:19.703170Z"
    }
   },
   "outputs": [
    {
     "data": {
      "text/plain": [
       "0.35925994950619883"
      ]
     },
     "execution_count": 10,
     "metadata": {},
     "output_type": "execute_result"
    }
   ],
   "source": [
    "df_edad_no_outliers['edad'].corr(df_edad_no_outliers['estatura'])"
   ]
  },
  {
   "cell_type": "markdown",
   "metadata": {},
   "source": [
    "## Regresión Lineal Multiple"
   ]
  },
  {
   "cell_type": "markdown",
   "metadata": {},
   "source": [
    "Usamos el `DataFrame` resultante de la eliminación de outliers en edad."
   ]
  },
  {
   "cell_type": "code",
   "execution_count": 11,
   "metadata": {
    "ExecuteTime": {
     "end_time": "2022-12-12T03:15:19.756684Z",
     "start_time": "2022-12-12T03:15:19.717163Z"
    },
    "scrolled": true
   },
   "outputs": [
    {
     "data": {
      "text/html": [
       "<div>\n",
       "<style scoped>\n",
       "    .dataframe tbody tr th:only-of-type {\n",
       "        vertical-align: middle;\n",
       "    }\n",
       "\n",
       "    .dataframe tbody tr th {\n",
       "        vertical-align: top;\n",
       "    }\n",
       "\n",
       "    .dataframe thead th {\n",
       "        text-align: right;\n",
       "    }\n",
       "</style>\n",
       "<table border=\"1\" class=\"dataframe\">\n",
       "  <thead>\n",
       "    <tr style=\"text-align: right;\">\n",
       "      <th></th>\n",
       "      <th>fecha</th>\n",
       "      <th>hora</th>\n",
       "      <th>entidad</th>\n",
       "      <th>municipio</th>\n",
       "      <th>localidad</th>\n",
       "      <th>nacionalidad</th>\n",
       "      <th>sexo</th>\n",
       "      <th>edad</th>\n",
       "      <th>estatura</th>\n",
       "      <th>complexion</th>\n",
       "      <th>senas_particulares</th>\n",
       "      <th>discapacidad</th>\n",
       "      <th>dependecia_origen</th>\n",
       "    </tr>\n",
       "  </thead>\n",
       "  <tbody>\n",
       "    <tr>\n",
       "      <th>1</th>\n",
       "      <td>2012-03-18</td>\n",
       "      <td>05:00:00</td>\n",
       "      <td>Sonora</td>\n",
       "      <td>Navojoa</td>\n",
       "      <td>Navojoa</td>\n",
       "      <td>Mexicana</td>\n",
       "      <td>Mujer</td>\n",
       "      <td>7</td>\n",
       "      <td>1.10</td>\n",
       "      <td>Delgada</td>\n",
       "      <td>Tiene Una Cicatriz En La Rodilla Izquierda Por...</td>\n",
       "      <td>Ninguno</td>\n",
       "      <td>FGE - Sonora</td>\n",
       "    </tr>\n",
       "    <tr>\n",
       "      <th>2</th>\n",
       "      <td>2007-02-05</td>\n",
       "      <td>02:00:26</td>\n",
       "      <td>Estado De Mexico</td>\n",
       "      <td>Valle De Bravo</td>\n",
       "      <td>Valle De Bravo</td>\n",
       "      <td>Mexicana</td>\n",
       "      <td>Mujer</td>\n",
       "      <td>4</td>\n",
       "      <td>1.10</td>\n",
       "      <td>Delgada</td>\n",
       "      <td>No Especificado</td>\n",
       "      <td>Ninguno</td>\n",
       "      <td>FGJ - Estado De Mexico</td>\n",
       "    </tr>\n",
       "    <tr>\n",
       "      <th>3</th>\n",
       "      <td>2009-03-14</td>\n",
       "      <td>08:30:54</td>\n",
       "      <td>Estado De Mexico</td>\n",
       "      <td>Chalco</td>\n",
       "      <td>Chalco</td>\n",
       "      <td>Mexicana</td>\n",
       "      <td>Hombre</td>\n",
       "      <td>6</td>\n",
       "      <td>1.10</td>\n",
       "      <td>Delgada</td>\n",
       "      <td>Manchas, Parte Superior De Pierna Derecha, Cic...</td>\n",
       "      <td>Ninguno</td>\n",
       "      <td>FGJ - Estado De Mexico</td>\n",
       "    </tr>\n",
       "    <tr>\n",
       "      <th>4</th>\n",
       "      <td>2006-12-23</td>\n",
       "      <td>08:00:28</td>\n",
       "      <td>Estado De Mexico</td>\n",
       "      <td>Tlalnepantla De Baz</td>\n",
       "      <td>Tlalnepantla De Baz</td>\n",
       "      <td>Mexicana</td>\n",
       "      <td>Hombre</td>\n",
       "      <td>10</td>\n",
       "      <td>1.10</td>\n",
       "      <td>Delgada</td>\n",
       "      <td>Lunares, A La Altura De La Cinturaforma De Man...</td>\n",
       "      <td>Ninguno</td>\n",
       "      <td>FGJ - Estado De Mexico</td>\n",
       "    </tr>\n",
       "    <tr>\n",
       "      <th>5</th>\n",
       "      <td>2008-01-11</td>\n",
       "      <td>12:00:17</td>\n",
       "      <td>Estado De Mexico</td>\n",
       "      <td>Toluca</td>\n",
       "      <td>Toluca</td>\n",
       "      <td>Mexicana</td>\n",
       "      <td>Hombre</td>\n",
       "      <td>4</td>\n",
       "      <td>1.10</td>\n",
       "      <td>Delgada</td>\n",
       "      <td>No Especificado</td>\n",
       "      <td>Ninguno</td>\n",
       "      <td>FGJ - Estado De Mexico</td>\n",
       "    </tr>\n",
       "    <tr>\n",
       "      <th>...</th>\n",
       "      <td>...</td>\n",
       "      <td>...</td>\n",
       "      <td>...</td>\n",
       "      <td>...</td>\n",
       "      <td>...</td>\n",
       "      <td>...</td>\n",
       "      <td>...</td>\n",
       "      <td>...</td>\n",
       "      <td>...</td>\n",
       "      <td>...</td>\n",
       "      <td>...</td>\n",
       "      <td>...</td>\n",
       "      <td>...</td>\n",
       "    </tr>\n",
       "    <tr>\n",
       "      <th>25138</th>\n",
       "      <td>2018-04-15</td>\n",
       "      <td>06:30:00</td>\n",
       "      <td>Colima</td>\n",
       "      <td>Colima</td>\n",
       "      <td>Colima</td>\n",
       "      <td>Mexicana</td>\n",
       "      <td>Hombre</td>\n",
       "      <td>57</td>\n",
       "      <td>1.59</td>\n",
       "      <td>Robusta</td>\n",
       "      <td>Tiene Una Cicatriz En La Parte Baja De Su Abdo...</td>\n",
       "      <td>Ninguno</td>\n",
       "      <td>PGJ - Colima</td>\n",
       "    </tr>\n",
       "    <tr>\n",
       "      <th>25139</th>\n",
       "      <td>2018-04-26</td>\n",
       "      <td>08:00:00</td>\n",
       "      <td>Puebla</td>\n",
       "      <td>Puebla</td>\n",
       "      <td>Puebla</td>\n",
       "      <td>Mexicana</td>\n",
       "      <td>Hombre</td>\n",
       "      <td>22</td>\n",
       "      <td>1.60</td>\n",
       "      <td>Delgada</td>\n",
       "      <td>Lunar En La Mejilla Y Tatuaje En El Cuello En ...</td>\n",
       "      <td>Ninguno</td>\n",
       "      <td>FGE - Puebla</td>\n",
       "    </tr>\n",
       "    <tr>\n",
       "      <th>25140</th>\n",
       "      <td>2018-01-08</td>\n",
       "      <td>11:00:00</td>\n",
       "      <td>Colima</td>\n",
       "      <td>Villa De Alvarez</td>\n",
       "      <td>Villa De Alvarez</td>\n",
       "      <td>Mexicana</td>\n",
       "      <td>Mujer</td>\n",
       "      <td>27</td>\n",
       "      <td>1.70</td>\n",
       "      <td>Robusta</td>\n",
       "      <td>El Ojo Izquierdo Tiene Un Enfermedad Como Tic,...</td>\n",
       "      <td>Ninguno</td>\n",
       "      <td>PGJ - Colima</td>\n",
       "    </tr>\n",
       "    <tr>\n",
       "      <th>25142</th>\n",
       "      <td>2017-08-22</td>\n",
       "      <td>04:00:00</td>\n",
       "      <td>Colima</td>\n",
       "      <td>Villa De Alvarez</td>\n",
       "      <td>Villa De Alvarez</td>\n",
       "      <td>Mexicana</td>\n",
       "      <td>Hombre</td>\n",
       "      <td>41</td>\n",
       "      <td>1.76</td>\n",
       "      <td>Robusta</td>\n",
       "      <td>Tatuaje En El Brazo Izquierdo Con La Imagen De...</td>\n",
       "      <td>Ninguno</td>\n",
       "      <td>PGJ - Colima</td>\n",
       "    </tr>\n",
       "    <tr>\n",
       "      <th>25143</th>\n",
       "      <td>2018-04-11</td>\n",
       "      <td>02:00:00</td>\n",
       "      <td>Nuevo Leon</td>\n",
       "      <td>San Nicolas De Los Garza</td>\n",
       "      <td>San Nicolas De Los Garza</td>\n",
       "      <td>Mexicana</td>\n",
       "      <td>Mujer</td>\n",
       "      <td>14</td>\n",
       "      <td>1.60</td>\n",
       "      <td>Delgada</td>\n",
       "      <td>No Especificado</td>\n",
       "      <td>Ninguno</td>\n",
       "      <td>PGJ - Nuevo Leon</td>\n",
       "    </tr>\n",
       "  </tbody>\n",
       "</table>\n",
       "<p>24481 rows × 13 columns</p>\n",
       "</div>"
      ],
      "text/plain": [
       "            fecha      hora           entidad                 municipio  \\\n",
       "1      2012-03-18  05:00:00            Sonora                   Navojoa   \n",
       "2      2007-02-05  02:00:26  Estado De Mexico            Valle De Bravo   \n",
       "3      2009-03-14  08:30:54  Estado De Mexico                    Chalco   \n",
       "4      2006-12-23  08:00:28  Estado De Mexico       Tlalnepantla De Baz   \n",
       "5      2008-01-11  12:00:17  Estado De Mexico                    Toluca   \n",
       "...           ...       ...               ...                       ...   \n",
       "25138  2018-04-15  06:30:00            Colima                    Colima   \n",
       "25139  2018-04-26  08:00:00            Puebla                    Puebla   \n",
       "25140  2018-01-08  11:00:00            Colima          Villa De Alvarez   \n",
       "25142  2017-08-22  04:00:00            Colima          Villa De Alvarez   \n",
       "25143  2018-04-11  02:00:00        Nuevo Leon  San Nicolas De Los Garza   \n",
       "\n",
       "                      localidad nacionalidad    sexo  edad  estatura  \\\n",
       "1                       Navojoa     Mexicana   Mujer     7      1.10   \n",
       "2                Valle De Bravo     Mexicana   Mujer     4      1.10   \n",
       "3                        Chalco     Mexicana  Hombre     6      1.10   \n",
       "4           Tlalnepantla De Baz     Mexicana  Hombre    10      1.10   \n",
       "5                        Toluca     Mexicana  Hombre     4      1.10   \n",
       "...                         ...          ...     ...   ...       ...   \n",
       "25138                    Colima     Mexicana  Hombre    57      1.59   \n",
       "25139                    Puebla     Mexicana  Hombre    22      1.60   \n",
       "25140          Villa De Alvarez     Mexicana   Mujer    27      1.70   \n",
       "25142          Villa De Alvarez     Mexicana  Hombre    41      1.76   \n",
       "25143  San Nicolas De Los Garza     Mexicana   Mujer    14      1.60   \n",
       "\n",
       "      complexion                                 senas_particulares  \\\n",
       "1        Delgada  Tiene Una Cicatriz En La Rodilla Izquierda Por...   \n",
       "2        Delgada                                    No Especificado   \n",
       "3        Delgada  Manchas, Parte Superior De Pierna Derecha, Cic...   \n",
       "4        Delgada  Lunares, A La Altura De La Cinturaforma De Man...   \n",
       "5        Delgada                                    No Especificado   \n",
       "...          ...                                                ...   \n",
       "25138    Robusta  Tiene Una Cicatriz En La Parte Baja De Su Abdo...   \n",
       "25139    Delgada  Lunar En La Mejilla Y Tatuaje En El Cuello En ...   \n",
       "25140    Robusta  El Ojo Izquierdo Tiene Un Enfermedad Como Tic,...   \n",
       "25142    Robusta  Tatuaje En El Brazo Izquierdo Con La Imagen De...   \n",
       "25143    Delgada                                    No Especificado   \n",
       "\n",
       "      discapacidad       dependecia_origen  \n",
       "1          Ninguno            FGE - Sonora  \n",
       "2          Ninguno  FGJ - Estado De Mexico  \n",
       "3          Ninguno  FGJ - Estado De Mexico  \n",
       "4          Ninguno  FGJ - Estado De Mexico  \n",
       "5          Ninguno  FGJ - Estado De Mexico  \n",
       "...            ...                     ...  \n",
       "25138      Ninguno            PGJ - Colima  \n",
       "25139      Ninguno            FGE - Puebla  \n",
       "25140      Ninguno            PGJ - Colima  \n",
       "25142      Ninguno            PGJ - Colima  \n",
       "25143      Ninguno        PGJ - Nuevo Leon  \n",
       "\n",
       "[24481 rows x 13 columns]"
      ]
     },
     "execution_count": 11,
     "metadata": {},
     "output_type": "execute_result"
    }
   ],
   "source": [
    "df = df_edad_no_outliers.copy()\n",
    "df"
   ]
  },
  {
   "cell_type": "markdown",
   "metadata": {},
   "source": [
    "### Variables discretas (categóricas)"
   ]
  },
  {
   "cell_type": "markdown",
   "metadata": {},
   "source": [
    "Necesitamos que todas nuestras variables predictoras sean numéricas, por lo tanto, realizaremos una transformación numérica en nuestras variables categóricas. Lo que aremos será calcular los promedios de estatura dependiendo del valor de la categoría.\n",
    "\n",
    "Ejemplo: remplazaremos el valor de la categoría 'Hombre' en sexo con la estatura promedio de los hombres según nuestros datos."
   ]
  },
  {
   "cell_type": "markdown",
   "metadata": {},
   "source": [
    "##### Sexo"
   ]
  },
  {
   "cell_type": "code",
   "execution_count": 12,
   "metadata": {
    "ExecuteTime": {
     "end_time": "2022-12-12T03:15:19.775699Z",
     "start_time": "2022-12-12T03:15:19.759350Z"
    }
   },
   "outputs": [],
   "source": [
    "#calculamos el promedio de la estatura de los hombres\n",
    "prom_hombre = df.loc[df['sexo'] == 'Hombre', 'estatura'].mean()\n",
    "#calculamos el promedio de la estatura de las mujeres\n",
    "prom_mujer = df.loc[df['sexo'] == 'Mujer', 'estatura'].mean()"
   ]
  },
  {
   "cell_type": "code",
   "execution_count": 13,
   "metadata": {
    "ExecuteTime": {
     "end_time": "2022-12-12T03:15:19.801091Z",
     "start_time": "2022-12-12T03:15:19.780585Z"
    }
   },
   "outputs": [],
   "source": [
    "#reemplazamos las estaturas promedio para cada valor\n",
    "df['sexo'] = df['sexo'].apply(lambda x: prom_mujer if x == 'Mujer' else prom_hombre)"
   ]
  },
  {
   "cell_type": "markdown",
   "metadata": {},
   "source": [
    "##### Complexión"
   ]
  },
  {
   "cell_type": "code",
   "execution_count": 14,
   "metadata": {
    "ExecuteTime": {
     "end_time": "2022-12-12T03:15:19.824815Z",
     "start_time": "2022-12-12T03:15:19.804098Z"
    }
   },
   "outputs": [],
   "source": [
    "#calculamos el promedio de la estatura de las personas con complexión 'delgada'\n",
    "prom_delgada = df.loc[df['complexion'] == 'Delgada', 'estatura'].mean()\n",
    "#calculamos el promedio de la estatura de las personas con complexión 'robusta'\n",
    "prom_robusta = df.loc[df['complexion'] == 'Robusta', 'estatura'].mean()\n",
    "#calculamos el promedio de la estatura de las personas con complexión 'mediana'\n",
    "prom_mediana = df.loc[df['complexion'] == 'Mediana', 'estatura'].mean()\n",
    "#calculamos el promedio de la estatura de las personas con complexión 'obesa'\n",
    "prom_obesa = df.loc[df['complexion'] == 'Obesa', 'estatura'].mean()\n",
    "#calculamos el promedio de la estatura de las personas sin complexión especificada\n",
    "prom_ne = df.loc[df['complexion'] == 'No Especificado', 'estatura'].mean()"
   ]
  },
  {
   "cell_type": "code",
   "execution_count": 15,
   "metadata": {
    "ExecuteTime": {
     "end_time": "2022-12-12T03:15:19.847241Z",
     "start_time": "2022-12-12T03:15:19.827207Z"
    }
   },
   "outputs": [],
   "source": [
    "#reemplazamos las estaturas promedio para cada valor\n",
    "complexion = {'Delgada': prom_delgada,\n",
    "              'Robusta': prom_robusta,\n",
    "              'Mediana': prom_mediana,\n",
    "              'Obesa': prom_obesa,\n",
    "              'No Especificado': prom_ne}\n",
    "\n",
    "df['complexion'] = df['complexion'].replace(complexion)"
   ]
  },
  {
   "cell_type": "markdown",
   "metadata": {},
   "source": [
    "### Conjuntos de entrenamiento y prueba"
   ]
  },
  {
   "cell_type": "code",
   "execution_count": 16,
   "metadata": {
    "ExecuteTime": {
     "end_time": "2022-12-12T03:15:19.855527Z",
     "start_time": "2022-12-12T03:15:19.849704Z"
    }
   },
   "outputs": [],
   "source": [
    "#variables predictoras\n",
    "X = df[['sexo', 'edad', 'complexion']]\n",
    "#variable onjetivo\n",
    "y = df['estatura']"
   ]
  },
  {
   "cell_type": "code",
   "execution_count": 17,
   "metadata": {
    "ExecuteTime": {
     "end_time": "2022-12-12T03:15:19.867511Z",
     "start_time": "2022-12-12T03:15:19.857949Z"
    },
    "cell_style": "split"
   },
   "outputs": [
    {
     "data": {
      "text/html": [
       "<div>\n",
       "<style scoped>\n",
       "    .dataframe tbody tr th:only-of-type {\n",
       "        vertical-align: middle;\n",
       "    }\n",
       "\n",
       "    .dataframe tbody tr th {\n",
       "        vertical-align: top;\n",
       "    }\n",
       "\n",
       "    .dataframe thead th {\n",
       "        text-align: right;\n",
       "    }\n",
       "</style>\n",
       "<table border=\"1\" class=\"dataframe\">\n",
       "  <thead>\n",
       "    <tr style=\"text-align: right;\">\n",
       "      <th></th>\n",
       "      <th>sexo</th>\n",
       "      <th>edad</th>\n",
       "      <th>complexion</th>\n",
       "    </tr>\n",
       "  </thead>\n",
       "  <tbody>\n",
       "    <tr>\n",
       "      <th>1</th>\n",
       "      <td>1.541211</td>\n",
       "      <td>7</td>\n",
       "      <td>1.626430</td>\n",
       "    </tr>\n",
       "    <tr>\n",
       "      <th>2</th>\n",
       "      <td>1.541211</td>\n",
       "      <td>4</td>\n",
       "      <td>1.626430</td>\n",
       "    </tr>\n",
       "    <tr>\n",
       "      <th>3</th>\n",
       "      <td>1.673482</td>\n",
       "      <td>6</td>\n",
       "      <td>1.626430</td>\n",
       "    </tr>\n",
       "    <tr>\n",
       "      <th>4</th>\n",
       "      <td>1.673482</td>\n",
       "      <td>10</td>\n",
       "      <td>1.626430</td>\n",
       "    </tr>\n",
       "    <tr>\n",
       "      <th>5</th>\n",
       "      <td>1.673482</td>\n",
       "      <td>4</td>\n",
       "      <td>1.626430</td>\n",
       "    </tr>\n",
       "    <tr>\n",
       "      <th>...</th>\n",
       "      <td>...</td>\n",
       "      <td>...</td>\n",
       "      <td>...</td>\n",
       "    </tr>\n",
       "    <tr>\n",
       "      <th>25138</th>\n",
       "      <td>1.673482</td>\n",
       "      <td>57</td>\n",
       "      <td>1.660852</td>\n",
       "    </tr>\n",
       "    <tr>\n",
       "      <th>25139</th>\n",
       "      <td>1.673482</td>\n",
       "      <td>22</td>\n",
       "      <td>1.626430</td>\n",
       "    </tr>\n",
       "    <tr>\n",
       "      <th>25140</th>\n",
       "      <td>1.541211</td>\n",
       "      <td>27</td>\n",
       "      <td>1.660852</td>\n",
       "    </tr>\n",
       "    <tr>\n",
       "      <th>25142</th>\n",
       "      <td>1.673482</td>\n",
       "      <td>41</td>\n",
       "      <td>1.660852</td>\n",
       "    </tr>\n",
       "    <tr>\n",
       "      <th>25143</th>\n",
       "      <td>1.541211</td>\n",
       "      <td>14</td>\n",
       "      <td>1.626430</td>\n",
       "    </tr>\n",
       "  </tbody>\n",
       "</table>\n",
       "<p>24481 rows × 3 columns</p>\n",
       "</div>"
      ],
      "text/plain": [
       "           sexo  edad  complexion\n",
       "1      1.541211     7    1.626430\n",
       "2      1.541211     4    1.626430\n",
       "3      1.673482     6    1.626430\n",
       "4      1.673482    10    1.626430\n",
       "5      1.673482     4    1.626430\n",
       "...         ...   ...         ...\n",
       "25138  1.673482    57    1.660852\n",
       "25139  1.673482    22    1.626430\n",
       "25140  1.541211    27    1.660852\n",
       "25142  1.673482    41    1.660852\n",
       "25143  1.541211    14    1.626430\n",
       "\n",
       "[24481 rows x 3 columns]"
      ]
     },
     "execution_count": 17,
     "metadata": {},
     "output_type": "execute_result"
    }
   ],
   "source": [
    "X"
   ]
  },
  {
   "cell_type": "code",
   "execution_count": 18,
   "metadata": {
    "ExecuteTime": {
     "end_time": "2022-12-12T03:15:19.879381Z",
     "start_time": "2022-12-12T03:15:19.869764Z"
    },
    "cell_style": "split"
   },
   "outputs": [
    {
     "data": {
      "text/plain": [
       "1        1.10\n",
       "2        1.10\n",
       "3        1.10\n",
       "4        1.10\n",
       "5        1.10\n",
       "         ... \n",
       "25138    1.59\n",
       "25139    1.60\n",
       "25140    1.70\n",
       "25142    1.76\n",
       "25143    1.60\n",
       "Name: estatura, Length: 24481, dtype: float64"
      ]
     },
     "execution_count": 18,
     "metadata": {},
     "output_type": "execute_result"
    }
   ],
   "source": [
    "y"
   ]
  },
  {
   "cell_type": "markdown",
   "metadata": {
    "ExecuteTime": {
     "end_time": "2022-12-12T01:49:32.503496Z",
     "start_time": "2022-12-12T01:49:32.499410Z"
    }
   },
   "source": [
    "Definimos nuestros conjuntos de entrenamiento y prueba."
   ]
  },
  {
   "cell_type": "code",
   "execution_count": 19,
   "metadata": {
    "ExecuteTime": {
     "end_time": "2022-12-12T03:15:19.888912Z",
     "start_time": "2022-12-12T03:15:19.882488Z"
    }
   },
   "outputs": [],
   "source": [
    "X_train, X_test, y_train, y_test = train_test_split(X, y, test_size=0.3, shuffle=True)"
   ]
  },
  {
   "cell_type": "markdown",
   "metadata": {},
   "source": [
    "Definimos nuestro modelo de regresión lineal y realizamos el entrenamiento."
   ]
  },
  {
   "cell_type": "code",
   "execution_count": 20,
   "metadata": {
    "ExecuteTime": {
     "end_time": "2022-12-12T03:15:19.903791Z",
     "start_time": "2022-12-12T03:15:19.890677Z"
    },
    "scrolled": true
   },
   "outputs": [
    {
     "data": {
      "text/html": [
       "<style>#sk-container-id-1 {color: black;background-color: white;}#sk-container-id-1 pre{padding: 0;}#sk-container-id-1 div.sk-toggleable {background-color: white;}#sk-container-id-1 label.sk-toggleable__label {cursor: pointer;display: block;width: 100%;margin-bottom: 0;padding: 0.3em;box-sizing: border-box;text-align: center;}#sk-container-id-1 label.sk-toggleable__label-arrow:before {content: \"▸\";float: left;margin-right: 0.25em;color: #696969;}#sk-container-id-1 label.sk-toggleable__label-arrow:hover:before {color: black;}#sk-container-id-1 div.sk-estimator:hover label.sk-toggleable__label-arrow:before {color: black;}#sk-container-id-1 div.sk-toggleable__content {max-height: 0;max-width: 0;overflow: hidden;text-align: left;background-color: #f0f8ff;}#sk-container-id-1 div.sk-toggleable__content pre {margin: 0.2em;color: black;border-radius: 0.25em;background-color: #f0f8ff;}#sk-container-id-1 input.sk-toggleable__control:checked~div.sk-toggleable__content {max-height: 200px;max-width: 100%;overflow: auto;}#sk-container-id-1 input.sk-toggleable__control:checked~label.sk-toggleable__label-arrow:before {content: \"▾\";}#sk-container-id-1 div.sk-estimator input.sk-toggleable__control:checked~label.sk-toggleable__label {background-color: #d4ebff;}#sk-container-id-1 div.sk-label input.sk-toggleable__control:checked~label.sk-toggleable__label {background-color: #d4ebff;}#sk-container-id-1 input.sk-hidden--visually {border: 0;clip: rect(1px 1px 1px 1px);clip: rect(1px, 1px, 1px, 1px);height: 1px;margin: -1px;overflow: hidden;padding: 0;position: absolute;width: 1px;}#sk-container-id-1 div.sk-estimator {font-family: monospace;background-color: #f0f8ff;border: 1px dotted black;border-radius: 0.25em;box-sizing: border-box;margin-bottom: 0.5em;}#sk-container-id-1 div.sk-estimator:hover {background-color: #d4ebff;}#sk-container-id-1 div.sk-parallel-item::after {content: \"\";width: 100%;border-bottom: 1px solid gray;flex-grow: 1;}#sk-container-id-1 div.sk-label:hover label.sk-toggleable__label {background-color: #d4ebff;}#sk-container-id-1 div.sk-serial::before {content: \"\";position: absolute;border-left: 1px solid gray;box-sizing: border-box;top: 0;bottom: 0;left: 50%;z-index: 0;}#sk-container-id-1 div.sk-serial {display: flex;flex-direction: column;align-items: center;background-color: white;padding-right: 0.2em;padding-left: 0.2em;position: relative;}#sk-container-id-1 div.sk-item {position: relative;z-index: 1;}#sk-container-id-1 div.sk-parallel {display: flex;align-items: stretch;justify-content: center;background-color: white;position: relative;}#sk-container-id-1 div.sk-item::before, #sk-container-id-1 div.sk-parallel-item::before {content: \"\";position: absolute;border-left: 1px solid gray;box-sizing: border-box;top: 0;bottom: 0;left: 50%;z-index: -1;}#sk-container-id-1 div.sk-parallel-item {display: flex;flex-direction: column;z-index: 1;position: relative;background-color: white;}#sk-container-id-1 div.sk-parallel-item:first-child::after {align-self: flex-end;width: 50%;}#sk-container-id-1 div.sk-parallel-item:last-child::after {align-self: flex-start;width: 50%;}#sk-container-id-1 div.sk-parallel-item:only-child::after {width: 0;}#sk-container-id-1 div.sk-dashed-wrapped {border: 1px dashed gray;margin: 0 0.4em 0.5em 0.4em;box-sizing: border-box;padding-bottom: 0.4em;background-color: white;}#sk-container-id-1 div.sk-label label {font-family: monospace;font-weight: bold;display: inline-block;line-height: 1.2em;}#sk-container-id-1 div.sk-label-container {text-align: center;}#sk-container-id-1 div.sk-container {/* jupyter's `normalize.less` sets `[hidden] { display: none; }` but bootstrap.min.css set `[hidden] { display: none !important; }` so we also need the `!important` here to be able to override the default hidden behavior on the sphinx rendered scikit-learn.org. See: https://github.com/scikit-learn/scikit-learn/issues/21755 */display: inline-block !important;position: relative;}#sk-container-id-1 div.sk-text-repr-fallback {display: none;}</style><div id=\"sk-container-id-1\" class=\"sk-top-container\"><div class=\"sk-text-repr-fallback\"><pre>LinearRegression()</pre><b>In a Jupyter environment, please rerun this cell to show the HTML representation or trust the notebook. <br />On GitHub, the HTML representation is unable to render, please try loading this page with nbviewer.org.</b></div><div class=\"sk-container\" hidden><div class=\"sk-item\"><div class=\"sk-estimator sk-toggleable\"><input class=\"sk-toggleable__control sk-hidden--visually\" id=\"sk-estimator-id-1\" type=\"checkbox\" checked><label for=\"sk-estimator-id-1\" class=\"sk-toggleable__label sk-toggleable__label-arrow\">LinearRegression</label><div class=\"sk-toggleable__content\"><pre>LinearRegression()</pre></div></div></div></div></div>"
      ],
      "text/plain": [
       "LinearRegression()"
      ]
     },
     "execution_count": 20,
     "metadata": {},
     "output_type": "execute_result"
    }
   ],
   "source": [
    "lr = LinearRegression()\n",
    "lr.fit(X_train, y_train)"
   ]
  },
  {
   "cell_type": "markdown",
   "metadata": {},
   "source": [
    "Realizamos la predicción de y del conjunto de entrenamiento y el conjunto de prueba"
   ]
  },
  {
   "cell_type": "code",
   "execution_count": 21,
   "metadata": {
    "ExecuteTime": {
     "end_time": "2022-12-12T03:15:19.915023Z",
     "start_time": "2022-12-12T03:15:19.905619Z"
    }
   },
   "outputs": [],
   "source": [
    "y_train_predict = lr.predict(X_train)\n",
    "y_test_predict = lr.predict(X_test)"
   ]
  },
  {
   "cell_type": "markdown",
   "metadata": {},
   "source": [
    "### Valor de $R^2$"
   ]
  },
  {
   "cell_type": "code",
   "execution_count": 22,
   "metadata": {
    "ExecuteTime": {
     "end_time": "2022-12-12T03:15:19.923200Z",
     "start_time": "2022-12-12T03:15:19.917272Z"
    }
   },
   "outputs": [
    {
     "name": "stdout",
     "output_type": "stream",
     "text": [
      "Entrenamiento: R2 = 0.19703748995566106\n",
      "Pruebas: R2 = 0.1954735102651297\n"
     ]
    }
   ],
   "source": [
    "R2 = r2_score(y_train, y_train_predict)\n",
    "print(\"Entrenamiento: R2 = \"+str(R2))\n",
    "\n",
    "R2 = r2_score(y_test, y_test_predict)\n",
    "print(\"Pruebas: R2 = \"+str(R2))"
   ]
  },
  {
   "cell_type": "markdown",
   "metadata": {
    "ExecuteTime": {
     "end_time": "2022-12-10T05:08:25.615225Z",
     "start_time": "2022-12-10T05:08:25.612551Z"
    }
   },
   "source": [
    "###  Error cuadrático medio (MSE)"
   ]
  },
  {
   "cell_type": "code",
   "execution_count": 23,
   "metadata": {
    "ExecuteTime": {
     "end_time": "2022-12-12T03:15:19.934065Z",
     "start_time": "2022-12-12T03:15:19.927269Z"
    }
   },
   "outputs": [
    {
     "name": "stdout",
     "output_type": "stream",
     "text": [
      "Entrenamiento: MSE =0.021450057778370297\n",
      "Pruebas: MSE =0.021972885175190016\n"
     ]
    }
   ],
   "source": [
    "MSE = mean_squared_error(y_train,y_train_predict)\n",
    "print(\"Entrenamiento: MSE =\"+str(MSE))\n",
    "\n",
    "MSE = (mean_squared_error(y_test, y_test_predict))\n",
    "print(\"Pruebas: MSE =\"+str(MSE))"
   ]
  },
  {
   "cell_type": "markdown",
   "metadata": {
    "ExecuteTime": {
     "end_time": "2022-12-10T05:12:34.110363Z",
     "start_time": "2022-12-10T05:12:34.106382Z"
    }
   },
   "source": [
    "### Error absoluto medio (MAE)"
   ]
  },
  {
   "cell_type": "code",
   "execution_count": 24,
   "metadata": {
    "ExecuteTime": {
     "end_time": "2022-12-12T03:15:19.950104Z",
     "start_time": "2022-12-12T03:15:19.937516Z"
    }
   },
   "outputs": [
    {
     "name": "stdout",
     "output_type": "stream",
     "text": [
      "Entrenamiento: MAE = 0.09219709897152538\n",
      "Pruebas: MAE = 0.09330760017238118\n"
     ]
    }
   ],
   "source": [
    "y_train_predict = lr.predict(X_train)\n",
    "MAE = mean_absolute_error(y_train, y_train_predict)\n",
    "print(\"Entrenamiento: MAE = \"+str(MAE))\n",
    "\n",
    "y_test_predict = lr.predict(X_test)\n",
    "MAE = mean_absolute_error(y_test, y_test_predict)\n",
    "print(\"Pruebas: MAE = \"+str(MAE))"
   ]
  },
  {
   "cell_type": "markdown",
   "metadata": {},
   "source": [
    "### Predicción"
   ]
  },
  {
   "cell_type": "code",
   "execution_count": 25,
   "metadata": {
    "ExecuteTime": {
     "end_time": "2022-12-12T03:15:19.964351Z",
     "start_time": "2022-12-12T03:15:19.952444Z"
    }
   },
   "outputs": [
    {
     "data": {
      "text/html": [
       "<div>\n",
       "<style scoped>\n",
       "    .dataframe tbody tr th:only-of-type {\n",
       "        vertical-align: middle;\n",
       "    }\n",
       "\n",
       "    .dataframe tbody tr th {\n",
       "        vertical-align: top;\n",
       "    }\n",
       "\n",
       "    .dataframe thead th {\n",
       "        text-align: right;\n",
       "    }\n",
       "</style>\n",
       "<table border=\"1\" class=\"dataframe\">\n",
       "  <thead>\n",
       "    <tr style=\"text-align: right;\">\n",
       "      <th></th>\n",
       "      <th>valor_real</th>\n",
       "      <th>prediccion</th>\n",
       "    </tr>\n",
       "  </thead>\n",
       "  <tbody>\n",
       "    <tr>\n",
       "      <th>0</th>\n",
       "      <td>1.55</td>\n",
       "      <td>1.511544</td>\n",
       "    </tr>\n",
       "    <tr>\n",
       "      <th>1</th>\n",
       "      <td>1.68</td>\n",
       "      <td>1.677125</td>\n",
       "    </tr>\n",
       "    <tr>\n",
       "      <th>2</th>\n",
       "      <td>1.80</td>\n",
       "      <td>1.694208</td>\n",
       "    </tr>\n",
       "    <tr>\n",
       "      <th>3</th>\n",
       "      <td>1.70</td>\n",
       "      <td>1.757602</td>\n",
       "    </tr>\n",
       "    <tr>\n",
       "      <th>4</th>\n",
       "      <td>1.70</td>\n",
       "      <td>1.696967</td>\n",
       "    </tr>\n",
       "    <tr>\n",
       "      <th>5</th>\n",
       "      <td>1.60</td>\n",
       "      <td>1.670292</td>\n",
       "    </tr>\n",
       "    <tr>\n",
       "      <th>6</th>\n",
       "      <td>1.50</td>\n",
       "      <td>1.652551</td>\n",
       "    </tr>\n",
       "    <tr>\n",
       "      <th>7</th>\n",
       "      <td>1.75</td>\n",
       "      <td>1.552543</td>\n",
       "    </tr>\n",
       "    <tr>\n",
       "      <th>8</th>\n",
       "      <td>1.57</td>\n",
       "      <td>1.631189</td>\n",
       "    </tr>\n",
       "    <tr>\n",
       "      <th>9</th>\n",
       "      <td>1.80</td>\n",
       "      <td>1.743936</td>\n",
       "    </tr>\n",
       "    <tr>\n",
       "      <th>10</th>\n",
       "      <td>1.60</td>\n",
       "      <td>1.508127</td>\n",
       "    </tr>\n",
       "    <tr>\n",
       "      <th>11</th>\n",
       "      <td>1.65</td>\n",
       "      <td>1.633790</td>\n",
       "    </tr>\n",
       "    <tr>\n",
       "      <th>12</th>\n",
       "      <td>1.80</td>\n",
       "      <td>1.658521</td>\n",
       "    </tr>\n",
       "    <tr>\n",
       "      <th>13</th>\n",
       "      <td>1.65</td>\n",
       "      <td>1.617522</td>\n",
       "    </tr>\n",
       "    <tr>\n",
       "      <th>14</th>\n",
       "      <td>1.75</td>\n",
       "      <td>1.768715</td>\n",
       "    </tr>\n",
       "    <tr>\n",
       "      <th>15</th>\n",
       "      <td>1.85</td>\n",
       "      <td>1.680541</td>\n",
       "    </tr>\n",
       "    <tr>\n",
       "      <th>16</th>\n",
       "      <td>1.70</td>\n",
       "      <td>1.667956</td>\n",
       "    </tr>\n",
       "    <tr>\n",
       "      <th>17</th>\n",
       "      <td>1.60</td>\n",
       "      <td>1.660042</td>\n",
       "    </tr>\n",
       "    <tr>\n",
       "      <th>18</th>\n",
       "      <td>1.20</td>\n",
       "      <td>1.579940</td>\n",
       "    </tr>\n",
       "    <tr>\n",
       "      <th>19</th>\n",
       "      <td>1.75</td>\n",
       "      <td>1.577322</td>\n",
       "    </tr>\n",
       "  </tbody>\n",
       "</table>\n",
       "</div>"
      ],
      "text/plain": [
       "    valor_real  prediccion\n",
       "0         1.55    1.511544\n",
       "1         1.68    1.677125\n",
       "2         1.80    1.694208\n",
       "3         1.70    1.757602\n",
       "4         1.70    1.696967\n",
       "5         1.60    1.670292\n",
       "6         1.50    1.652551\n",
       "7         1.75    1.552543\n",
       "8         1.57    1.631189\n",
       "9         1.80    1.743936\n",
       "10        1.60    1.508127\n",
       "11        1.65    1.633790\n",
       "12        1.80    1.658521\n",
       "13        1.65    1.617522\n",
       "14        1.75    1.768715\n",
       "15        1.85    1.680541\n",
       "16        1.70    1.667956\n",
       "17        1.60    1.660042\n",
       "18        1.20    1.579940\n",
       "19        1.75    1.577322"
      ]
     },
     "execution_count": 25,
     "metadata": {},
     "output_type": "execute_result"
    }
   ],
   "source": [
    "df_predicciones = pd.DataFrame({'valor_real':y_test, 'prediccion':y_test_predict})\n",
    "df_predicciones = df_predicciones.reset_index(drop = True)\n",
    "df_predicciones.head(20)"
   ]
  },
  {
   "cell_type": "markdown",
   "metadata": {},
   "source": []
  },
  {
   "cell_type": "markdown",
   "metadata": {},
   "source": [
    "## Regresión polinomial"
   ]
  },
  {
   "cell_type": "markdown",
   "metadata": {},
   "source": [
    "Como observamos, la recata de la regresión lineal no fue la mejor técnica para predecir nuestros valores. Cuando generamos la gráfica de dispersión entre la variable edad y estatura, observamos que no tenía una forma recta y podíamos observar una curvatura, construiremos un regresor polinomial para tratar de ajustar la curva de regresión."
   ]
  },
  {
   "cell_type": "markdown",
   "metadata": {},
   "source": [
    "### Polinomio de grado 2"
   ]
  },
  {
   "cell_type": "markdown",
   "metadata": {},
   "source": [
    "Definimos el grado del polinomio y entrenamos nuestro modelo."
   ]
  },
  {
   "cell_type": "code",
   "execution_count": 26,
   "metadata": {
    "ExecuteTime": {
     "end_time": "2022-12-12T03:15:19.989474Z",
     "start_time": "2022-12-12T03:15:19.966402Z"
    }
   },
   "outputs": [
    {
     "data": {
      "text/html": [
       "<style>#sk-container-id-2 {color: black;background-color: white;}#sk-container-id-2 pre{padding: 0;}#sk-container-id-2 div.sk-toggleable {background-color: white;}#sk-container-id-2 label.sk-toggleable__label {cursor: pointer;display: block;width: 100%;margin-bottom: 0;padding: 0.3em;box-sizing: border-box;text-align: center;}#sk-container-id-2 label.sk-toggleable__label-arrow:before {content: \"▸\";float: left;margin-right: 0.25em;color: #696969;}#sk-container-id-2 label.sk-toggleable__label-arrow:hover:before {color: black;}#sk-container-id-2 div.sk-estimator:hover label.sk-toggleable__label-arrow:before {color: black;}#sk-container-id-2 div.sk-toggleable__content {max-height: 0;max-width: 0;overflow: hidden;text-align: left;background-color: #f0f8ff;}#sk-container-id-2 div.sk-toggleable__content pre {margin: 0.2em;color: black;border-radius: 0.25em;background-color: #f0f8ff;}#sk-container-id-2 input.sk-toggleable__control:checked~div.sk-toggleable__content {max-height: 200px;max-width: 100%;overflow: auto;}#sk-container-id-2 input.sk-toggleable__control:checked~label.sk-toggleable__label-arrow:before {content: \"▾\";}#sk-container-id-2 div.sk-estimator input.sk-toggleable__control:checked~label.sk-toggleable__label {background-color: #d4ebff;}#sk-container-id-2 div.sk-label input.sk-toggleable__control:checked~label.sk-toggleable__label {background-color: #d4ebff;}#sk-container-id-2 input.sk-hidden--visually {border: 0;clip: rect(1px 1px 1px 1px);clip: rect(1px, 1px, 1px, 1px);height: 1px;margin: -1px;overflow: hidden;padding: 0;position: absolute;width: 1px;}#sk-container-id-2 div.sk-estimator {font-family: monospace;background-color: #f0f8ff;border: 1px dotted black;border-radius: 0.25em;box-sizing: border-box;margin-bottom: 0.5em;}#sk-container-id-2 div.sk-estimator:hover {background-color: #d4ebff;}#sk-container-id-2 div.sk-parallel-item::after {content: \"\";width: 100%;border-bottom: 1px solid gray;flex-grow: 1;}#sk-container-id-2 div.sk-label:hover label.sk-toggleable__label {background-color: #d4ebff;}#sk-container-id-2 div.sk-serial::before {content: \"\";position: absolute;border-left: 1px solid gray;box-sizing: border-box;top: 0;bottom: 0;left: 50%;z-index: 0;}#sk-container-id-2 div.sk-serial {display: flex;flex-direction: column;align-items: center;background-color: white;padding-right: 0.2em;padding-left: 0.2em;position: relative;}#sk-container-id-2 div.sk-item {position: relative;z-index: 1;}#sk-container-id-2 div.sk-parallel {display: flex;align-items: stretch;justify-content: center;background-color: white;position: relative;}#sk-container-id-2 div.sk-item::before, #sk-container-id-2 div.sk-parallel-item::before {content: \"\";position: absolute;border-left: 1px solid gray;box-sizing: border-box;top: 0;bottom: 0;left: 50%;z-index: -1;}#sk-container-id-2 div.sk-parallel-item {display: flex;flex-direction: column;z-index: 1;position: relative;background-color: white;}#sk-container-id-2 div.sk-parallel-item:first-child::after {align-self: flex-end;width: 50%;}#sk-container-id-2 div.sk-parallel-item:last-child::after {align-self: flex-start;width: 50%;}#sk-container-id-2 div.sk-parallel-item:only-child::after {width: 0;}#sk-container-id-2 div.sk-dashed-wrapped {border: 1px dashed gray;margin: 0 0.4em 0.5em 0.4em;box-sizing: border-box;padding-bottom: 0.4em;background-color: white;}#sk-container-id-2 div.sk-label label {font-family: monospace;font-weight: bold;display: inline-block;line-height: 1.2em;}#sk-container-id-2 div.sk-label-container {text-align: center;}#sk-container-id-2 div.sk-container {/* jupyter's `normalize.less` sets `[hidden] { display: none; }` but bootstrap.min.css set `[hidden] { display: none !important; }` so we also need the `!important` here to be able to override the default hidden behavior on the sphinx rendered scikit-learn.org. See: https://github.com/scikit-learn/scikit-learn/issues/21755 */display: inline-block !important;position: relative;}#sk-container-id-2 div.sk-text-repr-fallback {display: none;}</style><div id=\"sk-container-id-2\" class=\"sk-top-container\"><div class=\"sk-text-repr-fallback\"><pre>LinearRegression()</pre><b>In a Jupyter environment, please rerun this cell to show the HTML representation or trust the notebook. <br />On GitHub, the HTML representation is unable to render, please try loading this page with nbviewer.org.</b></div><div class=\"sk-container\" hidden><div class=\"sk-item\"><div class=\"sk-estimator sk-toggleable\"><input class=\"sk-toggleable__control sk-hidden--visually\" id=\"sk-estimator-id-2\" type=\"checkbox\" checked><label for=\"sk-estimator-id-2\" class=\"sk-toggleable__label sk-toggleable__label-arrow\">LinearRegression</label><div class=\"sk-toggleable__content\"><pre>LinearRegression()</pre></div></div></div></div></div>"
      ],
      "text/plain": [
       "LinearRegression()"
      ]
     },
     "execution_count": 26,
     "metadata": {},
     "output_type": "execute_result"
    }
   ],
   "source": [
    "poly_model = LinearRegression()\n",
    "poly = PolynomialFeatures(degree=2)\n",
    "\n",
    "Xpoly_train = poly.fit_transform(X_train)\n",
    "Xpoly_test = poly.fit_transform(X_test)\n",
    "\n",
    "poly_model.fit(Xpoly_train, y_train)"
   ]
  },
  {
   "cell_type": "markdown",
   "metadata": {},
   "source": [
    "Realizamos la predicción de y del conjunto de entrenamiento y el conjunto de prueba."
   ]
  },
  {
   "cell_type": "code",
   "execution_count": 27,
   "metadata": {
    "ExecuteTime": {
     "end_time": "2022-12-12T03:15:19.998048Z",
     "start_time": "2022-12-12T03:15:19.991905Z"
    }
   },
   "outputs": [],
   "source": [
    "y_train_predict = poly_model.predict(Xpoly_train)\n",
    "y_test_predict = poly_model.predict(Xpoly_test)"
   ]
  },
  {
   "cell_type": "markdown",
   "metadata": {},
   "source": [
    "#### Valor de $R^2$"
   ]
  },
  {
   "cell_type": "code",
   "execution_count": 28,
   "metadata": {
    "ExecuteTime": {
     "end_time": "2022-12-12T03:15:20.013882Z",
     "start_time": "2022-12-12T03:15:20.007844Z"
    }
   },
   "outputs": [
    {
     "name": "stdout",
     "output_type": "stream",
     "text": [
      "Entrenamiento: R2 = 0.3898619787096268\n",
      "Pruebas: R2 = 0.3998346028887023\n"
     ]
    }
   ],
   "source": [
    "R2 = r2_score(y_train, y_train_predict)\n",
    "print(\"Entrenamiento: R2 = \"+str(R2))\n",
    "\n",
    "R2 = r2_score(y_test, y_test_predict)\n",
    "print(\"Pruebas: R2 = \"+str(R2))"
   ]
  },
  {
   "cell_type": "markdown",
   "metadata": {
    "ExecuteTime": {
     "end_time": "2022-12-10T05:08:25.615225Z",
     "start_time": "2022-12-10T05:08:25.612551Z"
    }
   },
   "source": [
    "####  Error cuadrático medio (MSE)"
   ]
  },
  {
   "cell_type": "code",
   "execution_count": 29,
   "metadata": {
    "ExecuteTime": {
     "end_time": "2022-12-12T03:15:20.022017Z",
     "start_time": "2022-12-12T03:15:20.017383Z"
    }
   },
   "outputs": [
    {
     "name": "stdout",
     "output_type": "stream",
     "text": [
      "Entrenamiento: MSE =0.016299012277343247\n",
      "Pruebas: MSE =0.016391461965652276\n"
     ]
    }
   ],
   "source": [
    "MSE = mean_squared_error(y_train,y_train_predict)\n",
    "print(\"Entrenamiento: MSE =\"+str(MSE))\n",
    "\n",
    "MSE = (mean_squared_error(y_test, y_test_predict))\n",
    "print(\"Pruebas: MSE =\"+str(MSE))"
   ]
  },
  {
   "cell_type": "markdown",
   "metadata": {
    "ExecuteTime": {
     "end_time": "2022-12-10T05:12:34.110363Z",
     "start_time": "2022-12-10T05:12:34.106382Z"
    }
   },
   "source": [
    "#### Error absoluto medio (MAE)"
   ]
  },
  {
   "cell_type": "code",
   "execution_count": 30,
   "metadata": {
    "ExecuteTime": {
     "end_time": "2022-12-12T03:15:20.032774Z",
     "start_time": "2022-12-12T03:15:20.024299Z"
    }
   },
   "outputs": [
    {
     "name": "stdout",
     "output_type": "stream",
     "text": [
      "Entrenamiento: MAE = 0.09219709897152538\n",
      "Pruebas: MAE = 0.09330760017238118\n"
     ]
    }
   ],
   "source": [
    "y_train_predict = lr.predict(X_train)\n",
    "MAE = mean_absolute_error(y_train, y_train_predict)\n",
    "print(\"Entrenamiento: MAE = \"+str(MAE))\n",
    "\n",
    "y_test_predict = lr.predict(X_test)\n",
    "MAE = mean_absolute_error(y_test, y_test_predict)\n",
    "print(\"Pruebas: MAE = \"+str(MAE))"
   ]
  },
  {
   "cell_type": "markdown",
   "metadata": {},
   "source": [
    "### Polinomio de grado 4"
   ]
  },
  {
   "cell_type": "markdown",
   "metadata": {},
   "source": [
    "Definimos el grado del polinomio y entrenamos nuestro modelo."
   ]
  },
  {
   "cell_type": "code",
   "execution_count": 31,
   "metadata": {
    "ExecuteTime": {
     "end_time": "2022-12-12T03:15:20.109242Z",
     "start_time": "2022-12-12T03:15:20.034832Z"
    }
   },
   "outputs": [
    {
     "data": {
      "text/html": [
       "<style>#sk-container-id-3 {color: black;background-color: white;}#sk-container-id-3 pre{padding: 0;}#sk-container-id-3 div.sk-toggleable {background-color: white;}#sk-container-id-3 label.sk-toggleable__label {cursor: pointer;display: block;width: 100%;margin-bottom: 0;padding: 0.3em;box-sizing: border-box;text-align: center;}#sk-container-id-3 label.sk-toggleable__label-arrow:before {content: \"▸\";float: left;margin-right: 0.25em;color: #696969;}#sk-container-id-3 label.sk-toggleable__label-arrow:hover:before {color: black;}#sk-container-id-3 div.sk-estimator:hover label.sk-toggleable__label-arrow:before {color: black;}#sk-container-id-3 div.sk-toggleable__content {max-height: 0;max-width: 0;overflow: hidden;text-align: left;background-color: #f0f8ff;}#sk-container-id-3 div.sk-toggleable__content pre {margin: 0.2em;color: black;border-radius: 0.25em;background-color: #f0f8ff;}#sk-container-id-3 input.sk-toggleable__control:checked~div.sk-toggleable__content {max-height: 200px;max-width: 100%;overflow: auto;}#sk-container-id-3 input.sk-toggleable__control:checked~label.sk-toggleable__label-arrow:before {content: \"▾\";}#sk-container-id-3 div.sk-estimator input.sk-toggleable__control:checked~label.sk-toggleable__label {background-color: #d4ebff;}#sk-container-id-3 div.sk-label input.sk-toggleable__control:checked~label.sk-toggleable__label {background-color: #d4ebff;}#sk-container-id-3 input.sk-hidden--visually {border: 0;clip: rect(1px 1px 1px 1px);clip: rect(1px, 1px, 1px, 1px);height: 1px;margin: -1px;overflow: hidden;padding: 0;position: absolute;width: 1px;}#sk-container-id-3 div.sk-estimator {font-family: monospace;background-color: #f0f8ff;border: 1px dotted black;border-radius: 0.25em;box-sizing: border-box;margin-bottom: 0.5em;}#sk-container-id-3 div.sk-estimator:hover {background-color: #d4ebff;}#sk-container-id-3 div.sk-parallel-item::after {content: \"\";width: 100%;border-bottom: 1px solid gray;flex-grow: 1;}#sk-container-id-3 div.sk-label:hover label.sk-toggleable__label {background-color: #d4ebff;}#sk-container-id-3 div.sk-serial::before {content: \"\";position: absolute;border-left: 1px solid gray;box-sizing: border-box;top: 0;bottom: 0;left: 50%;z-index: 0;}#sk-container-id-3 div.sk-serial {display: flex;flex-direction: column;align-items: center;background-color: white;padding-right: 0.2em;padding-left: 0.2em;position: relative;}#sk-container-id-3 div.sk-item {position: relative;z-index: 1;}#sk-container-id-3 div.sk-parallel {display: flex;align-items: stretch;justify-content: center;background-color: white;position: relative;}#sk-container-id-3 div.sk-item::before, #sk-container-id-3 div.sk-parallel-item::before {content: \"\";position: absolute;border-left: 1px solid gray;box-sizing: border-box;top: 0;bottom: 0;left: 50%;z-index: -1;}#sk-container-id-3 div.sk-parallel-item {display: flex;flex-direction: column;z-index: 1;position: relative;background-color: white;}#sk-container-id-3 div.sk-parallel-item:first-child::after {align-self: flex-end;width: 50%;}#sk-container-id-3 div.sk-parallel-item:last-child::after {align-self: flex-start;width: 50%;}#sk-container-id-3 div.sk-parallel-item:only-child::after {width: 0;}#sk-container-id-3 div.sk-dashed-wrapped {border: 1px dashed gray;margin: 0 0.4em 0.5em 0.4em;box-sizing: border-box;padding-bottom: 0.4em;background-color: white;}#sk-container-id-3 div.sk-label label {font-family: monospace;font-weight: bold;display: inline-block;line-height: 1.2em;}#sk-container-id-3 div.sk-label-container {text-align: center;}#sk-container-id-3 div.sk-container {/* jupyter's `normalize.less` sets `[hidden] { display: none; }` but bootstrap.min.css set `[hidden] { display: none !important; }` so we also need the `!important` here to be able to override the default hidden behavior on the sphinx rendered scikit-learn.org. See: https://github.com/scikit-learn/scikit-learn/issues/21755 */display: inline-block !important;position: relative;}#sk-container-id-3 div.sk-text-repr-fallback {display: none;}</style><div id=\"sk-container-id-3\" class=\"sk-top-container\"><div class=\"sk-text-repr-fallback\"><pre>LinearRegression()</pre><b>In a Jupyter environment, please rerun this cell to show the HTML representation or trust the notebook. <br />On GitHub, the HTML representation is unable to render, please try loading this page with nbviewer.org.</b></div><div class=\"sk-container\" hidden><div class=\"sk-item\"><div class=\"sk-estimator sk-toggleable\"><input class=\"sk-toggleable__control sk-hidden--visually\" id=\"sk-estimator-id-3\" type=\"checkbox\" checked><label for=\"sk-estimator-id-3\" class=\"sk-toggleable__label sk-toggleable__label-arrow\">LinearRegression</label><div class=\"sk-toggleable__content\"><pre>LinearRegression()</pre></div></div></div></div></div>"
      ],
      "text/plain": [
       "LinearRegression()"
      ]
     },
     "execution_count": 31,
     "metadata": {},
     "output_type": "execute_result"
    }
   ],
   "source": [
    "poly = PolynomialFeatures(degree=4)\n",
    "\n",
    "Xpoly_train = poly.fit_transform(X_train)\n",
    "Xpoly_test = poly.fit_transform(X_test)\n",
    "\n",
    "poly_model.fit(Xpoly_train, y_train)"
   ]
  },
  {
   "cell_type": "markdown",
   "metadata": {},
   "source": [
    "Realizamos la predicción de y del conjunto de entrenamiento y el conjunto de prueba."
   ]
  },
  {
   "cell_type": "code",
   "execution_count": 32,
   "metadata": {
    "ExecuteTime": {
     "end_time": "2022-12-12T03:15:20.117829Z",
     "start_time": "2022-12-12T03:15:20.111990Z"
    }
   },
   "outputs": [],
   "source": [
    "y_train_predict = poly_model.predict(Xpoly_train)\n",
    "y_test_predict = poly_model.predict(Xpoly_test)"
   ]
  },
  {
   "cell_type": "markdown",
   "metadata": {},
   "source": [
    "#### Valor de $R^2$"
   ]
  },
  {
   "cell_type": "code",
   "execution_count": 33,
   "metadata": {
    "ExecuteTime": {
     "end_time": "2022-12-12T03:15:20.128136Z",
     "start_time": "2022-12-12T03:15:20.120216Z"
    }
   },
   "outputs": [
    {
     "name": "stdout",
     "output_type": "stream",
     "text": [
      "Entrenamiento: R2 = 0.6024636964606264\n",
      "Pruebas: R2 = 0.5973705095450377\n"
     ]
    }
   ],
   "source": [
    "R2 = r2_score(y_train, y_train_predict)\n",
    "print(\"Entrenamiento: R2 = \"+str(R2))\n",
    "\n",
    "R2 = r2_score(y_test, y_test_predict)\n",
    "print(\"Pruebas: R2 = \"+str(R2))"
   ]
  },
  {
   "cell_type": "markdown",
   "metadata": {
    "ExecuteTime": {
     "end_time": "2022-12-10T05:08:25.615225Z",
     "start_time": "2022-12-10T05:08:25.612551Z"
    }
   },
   "source": [
    "####  Error cuadrático medio (MSE)"
   ]
  },
  {
   "cell_type": "code",
   "execution_count": 34,
   "metadata": {
    "ExecuteTime": {
     "end_time": "2022-12-12T03:15:20.141967Z",
     "start_time": "2022-12-12T03:15:20.130307Z"
    }
   },
   "outputs": [
    {
     "name": "stdout",
     "output_type": "stream",
     "text": [
      "Entrenamiento: MSE =0.010619644844251137\n",
      "Pruebas: MSE =0.010996445331250234\n"
     ]
    }
   ],
   "source": [
    "MSE = mean_squared_error(y_train,y_train_predict)\n",
    "print(\"Entrenamiento: MSE =\"+str(MSE))\n",
    "\n",
    "MSE = (mean_squared_error(y_test, y_test_predict))\n",
    "print(\"Pruebas: MSE =\"+str(MSE))"
   ]
  },
  {
   "cell_type": "markdown",
   "metadata": {
    "ExecuteTime": {
     "end_time": "2022-12-10T05:12:34.110363Z",
     "start_time": "2022-12-10T05:12:34.106382Z"
    }
   },
   "source": [
    "#### Error absoluto medio (MAE)"
   ]
  },
  {
   "cell_type": "code",
   "execution_count": 35,
   "metadata": {
    "ExecuteTime": {
     "end_time": "2022-12-12T03:15:20.170555Z",
     "start_time": "2022-12-12T03:15:20.149262Z"
    }
   },
   "outputs": [
    {
     "name": "stdout",
     "output_type": "stream",
     "text": [
      "Entrenamiento: MAE = 0.09219709897152538\n",
      "Pruebas: MAE = 0.09330760017238118\n"
     ]
    }
   ],
   "source": [
    "y_train_predict = lr.predict(X_train)\n",
    "MAE = mean_absolute_error(y_train, y_train_predict)\n",
    "print(\"Entrenamiento: MAE = \"+str(MAE))\n",
    "\n",
    "y_test_predict = lr.predict(X_test)\n",
    "MAE = mean_absolute_error(y_test, y_test_predict)\n",
    "print(\"Pruebas: MAE = \"+str(MAE))"
   ]
  },
  {
   "cell_type": "markdown",
   "metadata": {},
   "source": [
    "### Polinomio de grado 6"
   ]
  },
  {
   "cell_type": "markdown",
   "metadata": {},
   "source": [
    "Definimos el grado del polinomio y entrenamos nuestro modelo."
   ]
  },
  {
   "cell_type": "code",
   "execution_count": 36,
   "metadata": {
    "ExecuteTime": {
     "end_time": "2022-12-12T03:15:20.317177Z",
     "start_time": "2022-12-12T03:15:20.179247Z"
    }
   },
   "outputs": [
    {
     "data": {
      "text/html": [
       "<style>#sk-container-id-4 {color: black;background-color: white;}#sk-container-id-4 pre{padding: 0;}#sk-container-id-4 div.sk-toggleable {background-color: white;}#sk-container-id-4 label.sk-toggleable__label {cursor: pointer;display: block;width: 100%;margin-bottom: 0;padding: 0.3em;box-sizing: border-box;text-align: center;}#sk-container-id-4 label.sk-toggleable__label-arrow:before {content: \"▸\";float: left;margin-right: 0.25em;color: #696969;}#sk-container-id-4 label.sk-toggleable__label-arrow:hover:before {color: black;}#sk-container-id-4 div.sk-estimator:hover label.sk-toggleable__label-arrow:before {color: black;}#sk-container-id-4 div.sk-toggleable__content {max-height: 0;max-width: 0;overflow: hidden;text-align: left;background-color: #f0f8ff;}#sk-container-id-4 div.sk-toggleable__content pre {margin: 0.2em;color: black;border-radius: 0.25em;background-color: #f0f8ff;}#sk-container-id-4 input.sk-toggleable__control:checked~div.sk-toggleable__content {max-height: 200px;max-width: 100%;overflow: auto;}#sk-container-id-4 input.sk-toggleable__control:checked~label.sk-toggleable__label-arrow:before {content: \"▾\";}#sk-container-id-4 div.sk-estimator input.sk-toggleable__control:checked~label.sk-toggleable__label {background-color: #d4ebff;}#sk-container-id-4 div.sk-label input.sk-toggleable__control:checked~label.sk-toggleable__label {background-color: #d4ebff;}#sk-container-id-4 input.sk-hidden--visually {border: 0;clip: rect(1px 1px 1px 1px);clip: rect(1px, 1px, 1px, 1px);height: 1px;margin: -1px;overflow: hidden;padding: 0;position: absolute;width: 1px;}#sk-container-id-4 div.sk-estimator {font-family: monospace;background-color: #f0f8ff;border: 1px dotted black;border-radius: 0.25em;box-sizing: border-box;margin-bottom: 0.5em;}#sk-container-id-4 div.sk-estimator:hover {background-color: #d4ebff;}#sk-container-id-4 div.sk-parallel-item::after {content: \"\";width: 100%;border-bottom: 1px solid gray;flex-grow: 1;}#sk-container-id-4 div.sk-label:hover label.sk-toggleable__label {background-color: #d4ebff;}#sk-container-id-4 div.sk-serial::before {content: \"\";position: absolute;border-left: 1px solid gray;box-sizing: border-box;top: 0;bottom: 0;left: 50%;z-index: 0;}#sk-container-id-4 div.sk-serial {display: flex;flex-direction: column;align-items: center;background-color: white;padding-right: 0.2em;padding-left: 0.2em;position: relative;}#sk-container-id-4 div.sk-item {position: relative;z-index: 1;}#sk-container-id-4 div.sk-parallel {display: flex;align-items: stretch;justify-content: center;background-color: white;position: relative;}#sk-container-id-4 div.sk-item::before, #sk-container-id-4 div.sk-parallel-item::before {content: \"\";position: absolute;border-left: 1px solid gray;box-sizing: border-box;top: 0;bottom: 0;left: 50%;z-index: -1;}#sk-container-id-4 div.sk-parallel-item {display: flex;flex-direction: column;z-index: 1;position: relative;background-color: white;}#sk-container-id-4 div.sk-parallel-item:first-child::after {align-self: flex-end;width: 50%;}#sk-container-id-4 div.sk-parallel-item:last-child::after {align-self: flex-start;width: 50%;}#sk-container-id-4 div.sk-parallel-item:only-child::after {width: 0;}#sk-container-id-4 div.sk-dashed-wrapped {border: 1px dashed gray;margin: 0 0.4em 0.5em 0.4em;box-sizing: border-box;padding-bottom: 0.4em;background-color: white;}#sk-container-id-4 div.sk-label label {font-family: monospace;font-weight: bold;display: inline-block;line-height: 1.2em;}#sk-container-id-4 div.sk-label-container {text-align: center;}#sk-container-id-4 div.sk-container {/* jupyter's `normalize.less` sets `[hidden] { display: none; }` but bootstrap.min.css set `[hidden] { display: none !important; }` so we also need the `!important` here to be able to override the default hidden behavior on the sphinx rendered scikit-learn.org. See: https://github.com/scikit-learn/scikit-learn/issues/21755 */display: inline-block !important;position: relative;}#sk-container-id-4 div.sk-text-repr-fallback {display: none;}</style><div id=\"sk-container-id-4\" class=\"sk-top-container\"><div class=\"sk-text-repr-fallback\"><pre>LinearRegression()</pre><b>In a Jupyter environment, please rerun this cell to show the HTML representation or trust the notebook. <br />On GitHub, the HTML representation is unable to render, please try loading this page with nbviewer.org.</b></div><div class=\"sk-container\" hidden><div class=\"sk-item\"><div class=\"sk-estimator sk-toggleable\"><input class=\"sk-toggleable__control sk-hidden--visually\" id=\"sk-estimator-id-4\" type=\"checkbox\" checked><label for=\"sk-estimator-id-4\" class=\"sk-toggleable__label sk-toggleable__label-arrow\">LinearRegression</label><div class=\"sk-toggleable__content\"><pre>LinearRegression()</pre></div></div></div></div></div>"
      ],
      "text/plain": [
       "LinearRegression()"
      ]
     },
     "execution_count": 36,
     "metadata": {},
     "output_type": "execute_result"
    }
   ],
   "source": [
    "poly = PolynomialFeatures(degree=6)\n",
    "\n",
    "Xpoly_train = poly.fit_transform(X_train)\n",
    "Xpoly_test = poly.fit_transform(X_test)\n",
    "\n",
    "poly_model.fit(Xpoly_train, y_train)"
   ]
  },
  {
   "cell_type": "markdown",
   "metadata": {},
   "source": [
    "Realizamos la predicción de y del conjunto de entrenamiento y el conjunto de prueba."
   ]
  },
  {
   "cell_type": "code",
   "execution_count": 37,
   "metadata": {
    "ExecuteTime": {
     "end_time": "2022-12-12T03:15:20.348927Z",
     "start_time": "2022-12-12T03:15:20.332073Z"
    }
   },
   "outputs": [],
   "source": [
    "y_train_predict = poly_model.predict(Xpoly_train)\n",
    "y_test_predict = poly_model.predict(Xpoly_test)"
   ]
  },
  {
   "cell_type": "markdown",
   "metadata": {},
   "source": [
    "#### Valor de $R^2$"
   ]
  },
  {
   "cell_type": "code",
   "execution_count": 38,
   "metadata": {
    "ExecuteTime": {
     "end_time": "2022-12-12T03:15:20.373979Z",
     "start_time": "2022-12-12T03:15:20.355593Z"
    }
   },
   "outputs": [
    {
     "name": "stdout",
     "output_type": "stream",
     "text": [
      "Entrenamiento: R2 = 0.6103389940446398\n",
      "Pruebas: R2 = 0.6090747737081341\n"
     ]
    }
   ],
   "source": [
    "R2 = r2_score(y_train, y_train_predict)\n",
    "print(\"Entrenamiento: R2 = \"+str(R2))\n",
    "\n",
    "R2 = r2_score(y_test, y_test_predict)\n",
    "print(\"Pruebas: R2 = \"+str(R2))"
   ]
  },
  {
   "cell_type": "markdown",
   "metadata": {
    "ExecuteTime": {
     "end_time": "2022-12-10T05:08:25.615225Z",
     "start_time": "2022-12-10T05:08:25.612551Z"
    }
   },
   "source": [
    "####  Error cuadrático medio (MSE)"
   ]
  },
  {
   "cell_type": "code",
   "execution_count": 39,
   "metadata": {
    "ExecuteTime": {
     "end_time": "2022-12-12T03:15:20.391775Z",
     "start_time": "2022-12-12T03:15:20.380854Z"
    }
   },
   "outputs": [
    {
     "name": "stdout",
     "output_type": "stream",
     "text": [
      "Entrenamiento: MSE =0.010409266917404191\n",
      "Pruebas: MSE =0.010676783448394686\n"
     ]
    }
   ],
   "source": [
    "MSE = mean_squared_error(y_train,y_train_predict)\n",
    "print(\"Entrenamiento: MSE =\"+str(MSE))\n",
    "\n",
    "MSE = (mean_squared_error(y_test, y_test_predict))\n",
    "print(\"Pruebas: MSE =\"+str(MSE))"
   ]
  },
  {
   "cell_type": "markdown",
   "metadata": {
    "ExecuteTime": {
     "end_time": "2022-12-10T05:12:34.110363Z",
     "start_time": "2022-12-10T05:12:34.106382Z"
    }
   },
   "source": [
    "#### Error absoluto medio (MAE)"
   ]
  },
  {
   "cell_type": "code",
   "execution_count": 40,
   "metadata": {
    "ExecuteTime": {
     "end_time": "2022-12-12T03:15:20.419406Z",
     "start_time": "2022-12-12T03:15:20.397567Z"
    },
    "scrolled": true
   },
   "outputs": [
    {
     "name": "stdout",
     "output_type": "stream",
     "text": [
      "Entrenamiento: MAE = 0.09219709897152538\n",
      "Pruebas: MAE = 0.09330760017238118\n"
     ]
    }
   ],
   "source": [
    "y_train_predict = lr.predict(X_train)\n",
    "MAE = mean_absolute_error(y_train, y_train_predict)\n",
    "print(\"Entrenamiento: MAE = \"+str(MAE))\n",
    "\n",
    "y_test_predict = lr.predict(X_test)\n",
    "MAE = mean_absolute_error(y_test, y_test_predict)\n",
    "print(\"Pruebas: MAE = \"+str(MAE))"
   ]
  },
  {
   "cell_type": "markdown",
   "metadata": {},
   "source": [
    "#### Predicciones"
   ]
  },
  {
   "cell_type": "code",
   "execution_count": 41,
   "metadata": {
    "ExecuteTime": {
     "end_time": "2022-12-12T03:15:20.452516Z",
     "start_time": "2022-12-12T03:15:20.431855Z"
    }
   },
   "outputs": [
    {
     "data": {
      "text/html": [
       "<div>\n",
       "<style scoped>\n",
       "    .dataframe tbody tr th:only-of-type {\n",
       "        vertical-align: middle;\n",
       "    }\n",
       "\n",
       "    .dataframe tbody tr th {\n",
       "        vertical-align: top;\n",
       "    }\n",
       "\n",
       "    .dataframe thead th {\n",
       "        text-align: right;\n",
       "    }\n",
       "</style>\n",
       "<table border=\"1\" class=\"dataframe\">\n",
       "  <thead>\n",
       "    <tr style=\"text-align: right;\">\n",
       "      <th></th>\n",
       "      <th>valor_real</th>\n",
       "      <th>prediccion</th>\n",
       "    </tr>\n",
       "  </thead>\n",
       "  <tbody>\n",
       "    <tr>\n",
       "      <th>0</th>\n",
       "      <td>1.55</td>\n",
       "      <td>1.511544</td>\n",
       "    </tr>\n",
       "    <tr>\n",
       "      <th>1</th>\n",
       "      <td>1.68</td>\n",
       "      <td>1.677125</td>\n",
       "    </tr>\n",
       "    <tr>\n",
       "      <th>2</th>\n",
       "      <td>1.80</td>\n",
       "      <td>1.694208</td>\n",
       "    </tr>\n",
       "    <tr>\n",
       "      <th>3</th>\n",
       "      <td>1.70</td>\n",
       "      <td>1.757602</td>\n",
       "    </tr>\n",
       "    <tr>\n",
       "      <th>4</th>\n",
       "      <td>1.70</td>\n",
       "      <td>1.696967</td>\n",
       "    </tr>\n",
       "    <tr>\n",
       "      <th>5</th>\n",
       "      <td>1.60</td>\n",
       "      <td>1.670292</td>\n",
       "    </tr>\n",
       "    <tr>\n",
       "      <th>6</th>\n",
       "      <td>1.50</td>\n",
       "      <td>1.652551</td>\n",
       "    </tr>\n",
       "    <tr>\n",
       "      <th>7</th>\n",
       "      <td>1.75</td>\n",
       "      <td>1.552543</td>\n",
       "    </tr>\n",
       "    <tr>\n",
       "      <th>8</th>\n",
       "      <td>1.57</td>\n",
       "      <td>1.631189</td>\n",
       "    </tr>\n",
       "    <tr>\n",
       "      <th>9</th>\n",
       "      <td>1.80</td>\n",
       "      <td>1.743936</td>\n",
       "    </tr>\n",
       "    <tr>\n",
       "      <th>10</th>\n",
       "      <td>1.60</td>\n",
       "      <td>1.508127</td>\n",
       "    </tr>\n",
       "    <tr>\n",
       "      <th>11</th>\n",
       "      <td>1.65</td>\n",
       "      <td>1.633790</td>\n",
       "    </tr>\n",
       "    <tr>\n",
       "      <th>12</th>\n",
       "      <td>1.80</td>\n",
       "      <td>1.658521</td>\n",
       "    </tr>\n",
       "    <tr>\n",
       "      <th>13</th>\n",
       "      <td>1.65</td>\n",
       "      <td>1.617522</td>\n",
       "    </tr>\n",
       "    <tr>\n",
       "      <th>14</th>\n",
       "      <td>1.75</td>\n",
       "      <td>1.768715</td>\n",
       "    </tr>\n",
       "    <tr>\n",
       "      <th>15</th>\n",
       "      <td>1.85</td>\n",
       "      <td>1.680541</td>\n",
       "    </tr>\n",
       "    <tr>\n",
       "      <th>16</th>\n",
       "      <td>1.70</td>\n",
       "      <td>1.667956</td>\n",
       "    </tr>\n",
       "    <tr>\n",
       "      <th>17</th>\n",
       "      <td>1.60</td>\n",
       "      <td>1.660042</td>\n",
       "    </tr>\n",
       "    <tr>\n",
       "      <th>18</th>\n",
       "      <td>1.20</td>\n",
       "      <td>1.579940</td>\n",
       "    </tr>\n",
       "    <tr>\n",
       "      <th>19</th>\n",
       "      <td>1.75</td>\n",
       "      <td>1.577322</td>\n",
       "    </tr>\n",
       "  </tbody>\n",
       "</table>\n",
       "</div>"
      ],
      "text/plain": [
       "    valor_real  prediccion\n",
       "0         1.55    1.511544\n",
       "1         1.68    1.677125\n",
       "2         1.80    1.694208\n",
       "3         1.70    1.757602\n",
       "4         1.70    1.696967\n",
       "5         1.60    1.670292\n",
       "6         1.50    1.652551\n",
       "7         1.75    1.552543\n",
       "8         1.57    1.631189\n",
       "9         1.80    1.743936\n",
       "10        1.60    1.508127\n",
       "11        1.65    1.633790\n",
       "12        1.80    1.658521\n",
       "13        1.65    1.617522\n",
       "14        1.75    1.768715\n",
       "15        1.85    1.680541\n",
       "16        1.70    1.667956\n",
       "17        1.60    1.660042\n",
       "18        1.20    1.579940\n",
       "19        1.75    1.577322"
      ]
     },
     "execution_count": 41,
     "metadata": {},
     "output_type": "execute_result"
    }
   ],
   "source": [
    "df_predicciones = pd.DataFrame({'valor_real':y_test, 'prediccion':y_test_predict})\n",
    "df_predicciones = df_predicciones.reset_index(drop = True)\n",
    "df_predicciones.head(20)"
   ]
  },
  {
   "cell_type": "code",
   "execution_count": null,
   "metadata": {},
   "outputs": [],
   "source": []
  },
  {
   "cell_type": "code",
   "execution_count": null,
   "metadata": {},
   "outputs": [],
   "source": []
  }
 ],
 "metadata": {
  "colab": {
   "authorship_tag": "ABX9TyPFF9YwPeiZGHJ9Z8OIAqfj",
   "include_colab_link": true,
   "provenance": []
  },
  "kernelspec": {
   "display_name": "Python 3 (ipykernel)",
   "language": "python",
   "name": "python3"
  },
  "language_info": {
   "codemirror_mode": {
    "name": "ipython",
    "version": 3
   },
   "file_extension": ".py",
   "mimetype": "text/x-python",
   "name": "python",
   "nbconvert_exporter": "python",
   "pygments_lexer": "ipython3",
   "version": "3.10.6"
  },
  "toc": {
   "base_numbering": 1,
   "nav_menu": {},
   "number_sections": false,
   "sideBar": true,
   "skip_h1_title": false,
   "title_cell": "Table of Contents",
   "title_sidebar": "Contents",
   "toc_cell": false,
   "toc_position": {
    "height": "calc(100% - 180px)",
    "left": "10px",
    "top": "150px",
    "width": "300.15px"
   },
   "toc_section_display": true,
   "toc_window_display": true
  },
  "varInspector": {
   "cols": {
    "lenName": 16,
    "lenType": 16,
    "lenVar": 40
   },
   "kernels_config": {
    "python": {
     "delete_cmd_postfix": "",
     "delete_cmd_prefix": "del ",
     "library": "var_list.py",
     "varRefreshCmd": "print(var_dic_list())"
    },
    "r": {
     "delete_cmd_postfix": ") ",
     "delete_cmd_prefix": "rm(",
     "library": "var_list.r",
     "varRefreshCmd": "cat(var_dic_list()) "
    }
   },
   "types_to_exclude": [
    "module",
    "function",
    "builtin_function_or_method",
    "instance",
    "_Feature"
   ],
   "window_display": false
  }
 },
 "nbformat": 4,
 "nbformat_minor": 1
}
