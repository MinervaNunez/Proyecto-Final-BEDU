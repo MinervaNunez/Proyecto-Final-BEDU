{
 "cells": [
  {
   "cell_type": "markdown",
   "metadata": {
    "colab_type": "text",
    "id": "view-in-github"
   },
   "source": [
    "<a href=\"https://colab.research.google.com/github/MinervaNunez/Proyecto-de-Python-BEDU/blob/main/bedu_proyecto_python.ipynb\" target=\"_parent\"><img src=\"https://colab.research.google.com/assets/colab-badge.svg\" alt=\"Open In Colab\"/></a>"
   ]
  },
  {
   "cell_type": "markdown",
   "metadata": {
    "id": "j4pLbdnVBPPd"
   },
   "source": [
    "# Proyecto de Python Equipo 8\n",
    "\n",
    ">   *   Nicky García Fierros (nickygarcia@ciencias.unam.mx)\n",
    ">   *   Kevin Martin Rivera Castro (kevinrc.unam@gmail.com)\n",
    ">   *   Jesús Manuel Jimenez Cardoza (chucho003@hotmail.com)\n",
    ">   *   Minerva Estefanía Núñez Manjarrez (estefania.nun.man@gmail.com)\n",
    ">   *   Luis Mateo Patricio Pineda (mateopa@gmail.com)"
   ]
  },
  {
   "cell_type": "markdown",
   "metadata": {},
   "source": [
    "---\n",
    "\n",
    "## Librerías necesarias\n",
    "\n",
    "---"
   ]
  },
  {
   "cell_type": "code",
   "execution_count": 91,
   "metadata": {
    "ExecuteTime": {
     "end_time": "2022-12-10T03:46:20.938995Z",
     "start_time": "2022-12-10T03:46:20.936667Z"
    }
   },
   "outputs": [],
   "source": [
    "import pandas as pd\n",
    "import numpy as np\n",
    "import requests"
   ]
  },
  {
   "cell_type": "markdown",
   "metadata": {},
   "source": [
    "---\n",
    "\n",
    "## Colección de Datos\n",
    "\n",
    "---"
   ]
  },
  {
   "cell_type": "markdown",
   "metadata": {},
   "source": [
    "### Lectura de datos"
   ]
  },
  {
   "cell_type": "markdown",
   "metadata": {},
   "source": [
    "Leemos el archivo `.csv` a partir de la URL. En caso de error de conexión por falla del servidor, leemos el dataset directamente de nuestro repostitorio de GitHub."
   ]
  },
  {
   "cell_type": "code",
   "execution_count": 92,
   "metadata": {
    "ExecuteTime": {
     "end_time": "2022-12-10T03:46:49.371474Z",
     "start_time": "2022-12-10T03:46:20.942014Z"
    }
   },
   "outputs": [],
   "source": [
    "df = pd.read_csv('https://raw.githubusercontent.com/MinervaNunez/Proyecto-de-Python-BEDU/main/RNPEDFC.csv', encoding='ISO-8859-1')"
   ]
  },
  {
   "cell_type": "code",
   "execution_count": 93,
   "metadata": {
    "ExecuteTime": {
     "end_time": "2022-12-10T03:46:49.383306Z",
     "start_time": "2022-12-10T03:46:49.372735Z"
    },
    "scrolled": true
   },
   "outputs": [
    {
     "data": {
      "text/html": [
       "<div>\n",
       "<style scoped>\n",
       "    .dataframe tbody tr th:only-of-type {\n",
       "        vertical-align: middle;\n",
       "    }\n",
       "\n",
       "    .dataframe tbody tr th {\n",
       "        vertical-align: top;\n",
       "    }\n",
       "\n",
       "    .dataframe thead th {\n",
       "        text-align: right;\n",
       "    }\n",
       "</style>\n",
       "<table border=\"1\" class=\"dataframe\">\n",
       "  <thead>\n",
       "    <tr style=\"text-align: right;\">\n",
       "      <th></th>\n",
       "      <th>Fecha en que se le vio por ultima vez</th>\n",
       "      <th>Hora en que se le vio por ultima vez</th>\n",
       "      <th>Pais en que se le vio por ultima vez</th>\n",
       "      <th>Entidad en que se le vio por ultima vez</th>\n",
       "      <th>Municipio en que se le vio por ultima vez</th>\n",
       "      <th>Localidad en que se le vio por ultima vez</th>\n",
       "      <th>Nacionalidad</th>\n",
       "      <th>Estatura</th>\n",
       "      <th>Complexion</th>\n",
       "      <th>Sexo</th>\n",
       "      <th>Edad</th>\n",
       "      <th>Descripcion de senas particulares</th>\n",
       "      <th>Etnia</th>\n",
       "      <th>Discapacidad</th>\n",
       "      <th>Dependencia que envio la informacion</th>\n",
       "    </tr>\n",
       "  </thead>\n",
       "  <tbody>\n",
       "    <tr>\n",
       "      <th>0</th>\n",
       "      <td>2012-03-18</td>\n",
       "      <td>05:00:00</td>\n",
       "      <td>MEXICO</td>\n",
       "      <td>SONORA</td>\n",
       "      <td>NAVOJOA</td>\n",
       "      <td>NAVOJOA</td>\n",
       "      <td>MEXICANA</td>\n",
       "      <td>1.1</td>\n",
       "      <td>DELGADA</td>\n",
       "      <td>MUJER</td>\n",
       "      <td>7</td>\n",
       "      <td>TIENE UNA CICATRIZ EN LA RODILLA IZQUIERDA POR...</td>\n",
       "      <td>NO ESPECIFICADO</td>\n",
       "      <td>NINGUNO</td>\n",
       "      <td>FGE - SONORA</td>\n",
       "    </tr>\n",
       "    <tr>\n",
       "      <th>1</th>\n",
       "      <td>2007-02-05</td>\n",
       "      <td>02:00:26</td>\n",
       "      <td>MEXICO</td>\n",
       "      <td>ESTADO DE MEXICO</td>\n",
       "      <td>VALLE DE BRAVO</td>\n",
       "      <td>VALLE DE BRAVO</td>\n",
       "      <td>MEXICANA</td>\n",
       "      <td>1.1</td>\n",
       "      <td>DELGADA</td>\n",
       "      <td>MUJER</td>\n",
       "      <td>4</td>\n",
       "      <td>NO ESPECIFICADO</td>\n",
       "      <td>NO ESPECIFICADO</td>\n",
       "      <td>NINGUNO</td>\n",
       "      <td>FGJ - ESTADO DE MEXICO</td>\n",
       "    </tr>\n",
       "    <tr>\n",
       "      <th>2</th>\n",
       "      <td>2009-03-14</td>\n",
       "      <td>08:30:54</td>\n",
       "      <td>MEXICO</td>\n",
       "      <td>ESTADO DE MEXICO</td>\n",
       "      <td>CHALCO</td>\n",
       "      <td>CHALCO</td>\n",
       "      <td>MEXICANA</td>\n",
       "      <td>1.1</td>\n",
       "      <td>DELGADA</td>\n",
       "      <td>HOMBRE</td>\n",
       "      <td>6</td>\n",
       "      <td>MANCHAS, PARTE SUPERIOR DE PIERNA DERECHA, CIC...</td>\n",
       "      <td>NO ESPECIFICADO</td>\n",
       "      <td>NINGUNO</td>\n",
       "      <td>FGJ - ESTADO DE MEXICO</td>\n",
       "    </tr>\n",
       "    <tr>\n",
       "      <th>3</th>\n",
       "      <td>2006-12-23</td>\n",
       "      <td>08:00:28</td>\n",
       "      <td>MEXICO</td>\n",
       "      <td>ESTADO DE MEXICO</td>\n",
       "      <td>TLALNEPANTLA DE BAZ</td>\n",
       "      <td>TLALNEPANTLA DE BAZ</td>\n",
       "      <td>MEXICANA</td>\n",
       "      <td>1.1</td>\n",
       "      <td>DELGADA</td>\n",
       "      <td>HOMBRE</td>\n",
       "      <td>10</td>\n",
       "      <td>LUNARES, A LA ALTURA DE LA CINTURAFORMA DE MAN...</td>\n",
       "      <td>NO ESPECIFICADO</td>\n",
       "      <td>NINGUNO</td>\n",
       "      <td>FGJ - ESTADO DE MEXICO</td>\n",
       "    </tr>\n",
       "    <tr>\n",
       "      <th>4</th>\n",
       "      <td>2008-01-11</td>\n",
       "      <td>12:00:17</td>\n",
       "      <td>MEXICO</td>\n",
       "      <td>ESTADO DE MEXICO</td>\n",
       "      <td>TOLUCA</td>\n",
       "      <td>TOLUCA</td>\n",
       "      <td>MEXICANA</td>\n",
       "      <td>1.1</td>\n",
       "      <td>DELGADA</td>\n",
       "      <td>HOMBRE</td>\n",
       "      <td>4</td>\n",
       "      <td>NO ESPECIFICADO</td>\n",
       "      <td>NO ESPECIFICADO</td>\n",
       "      <td>NINGUNO</td>\n",
       "      <td>FGJ - ESTADO DE MEXICO</td>\n",
       "    </tr>\n",
       "    <tr>\n",
       "      <th>...</th>\n",
       "      <td>...</td>\n",
       "      <td>...</td>\n",
       "      <td>...</td>\n",
       "      <td>...</td>\n",
       "      <td>...</td>\n",
       "      <td>...</td>\n",
       "      <td>...</td>\n",
       "      <td>...</td>\n",
       "      <td>...</td>\n",
       "      <td>...</td>\n",
       "      <td>...</td>\n",
       "      <td>...</td>\n",
       "      <td>...</td>\n",
       "      <td>...</td>\n",
       "      <td>...</td>\n",
       "    </tr>\n",
       "    <tr>\n",
       "      <th>36260</th>\n",
       "      <td>2018-04-26</td>\n",
       "      <td>08:00:00</td>\n",
       "      <td>MEXICO</td>\n",
       "      <td>PUEBLA</td>\n",
       "      <td>PUEBLA</td>\n",
       "      <td>PUEBLA</td>\n",
       "      <td>MEXICANA</td>\n",
       "      <td>1.6</td>\n",
       "      <td>DELGADA</td>\n",
       "      <td>HOMBRE</td>\n",
       "      <td>22</td>\n",
       "      <td>LUNAR EN LA MEJILLA Y TATUAJE EN EL CUELLO EN ...</td>\n",
       "      <td>NO ESPECIFICADO</td>\n",
       "      <td>NINGUNO</td>\n",
       "      <td>FGE - PUEBLA</td>\n",
       "    </tr>\n",
       "    <tr>\n",
       "      <th>36261</th>\n",
       "      <td>2018-01-08</td>\n",
       "      <td>11:00:00</td>\n",
       "      <td>MEXICO</td>\n",
       "      <td>COLIMA</td>\n",
       "      <td>VILLA DE ALVAREZ</td>\n",
       "      <td>VILLA DE ALVAREZ</td>\n",
       "      <td>MEXICANA</td>\n",
       "      <td>1.7</td>\n",
       "      <td>ROBUSTA</td>\n",
       "      <td>MUJER</td>\n",
       "      <td>27</td>\n",
       "      <td>EL OJO IZQUIERDO TIENE UN ENFERMEDAD COMO TIC,...</td>\n",
       "      <td>NO ESPECIFICADO</td>\n",
       "      <td>NINGUNO</td>\n",
       "      <td>PGJ - COLIMA</td>\n",
       "    </tr>\n",
       "    <tr>\n",
       "      <th>36262</th>\n",
       "      <td>2015-02-02</td>\n",
       "      <td>07:00:00</td>\n",
       "      <td>MEXICO</td>\n",
       "      <td>PUEBLA</td>\n",
       "      <td>CHILA</td>\n",
       "      <td>CHILAS DE LAS FLORES</td>\n",
       "      <td>MEXICANA</td>\n",
       "      <td>1.77</td>\n",
       "      <td>MEDIANA</td>\n",
       "      <td>MUJER</td>\n",
       "      <td>86</td>\n",
       "      <td>NO ESPECIFICADO</td>\n",
       "      <td>NO ESPECIFICADO</td>\n",
       "      <td>NINGUNO</td>\n",
       "      <td>FGE - PUEBLA</td>\n",
       "    </tr>\n",
       "    <tr>\n",
       "      <th>36263</th>\n",
       "      <td>2017-08-22</td>\n",
       "      <td>04:00:00</td>\n",
       "      <td>MEXICO</td>\n",
       "      <td>COLIMA</td>\n",
       "      <td>VILLA DE ALVAREZ</td>\n",
       "      <td>VILLA DE ALVAREZ</td>\n",
       "      <td>MEXICANA</td>\n",
       "      <td>1.76</td>\n",
       "      <td>ROBUSTA</td>\n",
       "      <td>HOMBRE</td>\n",
       "      <td>41</td>\n",
       "      <td>TATUAJE EN EL BRAZO IZQUIERDO CON LA IMAGEN DE...</td>\n",
       "      <td>NO ESPECIFICADO</td>\n",
       "      <td>NINGUNO</td>\n",
       "      <td>PGJ - COLIMA</td>\n",
       "    </tr>\n",
       "    <tr>\n",
       "      <th>36264</th>\n",
       "      <td>2018-04-11</td>\n",
       "      <td>02:00:00</td>\n",
       "      <td>MEXICO</td>\n",
       "      <td>NUEVO LEON</td>\n",
       "      <td>SAN NICOLAS DE LOS GARZA</td>\n",
       "      <td>SAN NICOLAS DE LOS GARZA</td>\n",
       "      <td>MEXICANA</td>\n",
       "      <td>1.6</td>\n",
       "      <td>DELGADA</td>\n",
       "      <td>MUJER</td>\n",
       "      <td>14</td>\n",
       "      <td>NO ESPECIFICADO</td>\n",
       "      <td>NO ESPECIFICADO</td>\n",
       "      <td>NINGUNO</td>\n",
       "      <td>PGJ - NUEVO LEON</td>\n",
       "    </tr>\n",
       "  </tbody>\n",
       "</table>\n",
       "<p>36265 rows × 15 columns</p>\n",
       "</div>"
      ],
      "text/plain": [
       "      Fecha en que se le vio por ultima vez  \\\n",
       "0                                2012-03-18   \n",
       "1                                2007-02-05   \n",
       "2                                2009-03-14   \n",
       "3                                2006-12-23   \n",
       "4                                2008-01-11   \n",
       "...                                     ...   \n",
       "36260                            2018-04-26   \n",
       "36261                            2018-01-08   \n",
       "36262                            2015-02-02   \n",
       "36263                            2017-08-22   \n",
       "36264                            2018-04-11   \n",
       "\n",
       "      Hora en que se le vio por ultima vez  \\\n",
       "0                                 05:00:00   \n",
       "1                                 02:00:26   \n",
       "2                                 08:30:54   \n",
       "3                                 08:00:28   \n",
       "4                                 12:00:17   \n",
       "...                                    ...   \n",
       "36260                             08:00:00   \n",
       "36261                             11:00:00   \n",
       "36262                             07:00:00   \n",
       "36263                             04:00:00   \n",
       "36264                             02:00:00   \n",
       "\n",
       "      Pais en que se le vio por ultima vez  \\\n",
       "0                                   MEXICO   \n",
       "1                                   MEXICO   \n",
       "2                                   MEXICO   \n",
       "3                                   MEXICO   \n",
       "4                                   MEXICO   \n",
       "...                                    ...   \n",
       "36260                               MEXICO   \n",
       "36261                               MEXICO   \n",
       "36262                               MEXICO   \n",
       "36263                               MEXICO   \n",
       "36264                               MEXICO   \n",
       "\n",
       "      Entidad en que se le vio por ultima vez  \\\n",
       "0                                      SONORA   \n",
       "1                            ESTADO DE MEXICO   \n",
       "2                            ESTADO DE MEXICO   \n",
       "3                            ESTADO DE MEXICO   \n",
       "4                            ESTADO DE MEXICO   \n",
       "...                                       ...   \n",
       "36260                                  PUEBLA   \n",
       "36261                                  COLIMA   \n",
       "36262                                  PUEBLA   \n",
       "36263                                  COLIMA   \n",
       "36264                              NUEVO LEON   \n",
       "\n",
       "      Municipio en que se le vio por ultima vez  \\\n",
       "0                                       NAVOJOA   \n",
       "1                                VALLE DE BRAVO   \n",
       "2                                        CHALCO   \n",
       "3                           TLALNEPANTLA DE BAZ   \n",
       "4                                        TOLUCA   \n",
       "...                                         ...   \n",
       "36260                                    PUEBLA   \n",
       "36261                          VILLA DE ALVAREZ   \n",
       "36262                                     CHILA   \n",
       "36263                          VILLA DE ALVAREZ   \n",
       "36264                  SAN NICOLAS DE LOS GARZA   \n",
       "\n",
       "      Localidad en que se le vio por ultima vez Nacionalidad Estatura  \\\n",
       "0                                       NAVOJOA     MEXICANA      1.1   \n",
       "1                                VALLE DE BRAVO     MEXICANA      1.1   \n",
       "2                                        CHALCO     MEXICANA      1.1   \n",
       "3                           TLALNEPANTLA DE BAZ     MEXICANA      1.1   \n",
       "4                                        TOLUCA     MEXICANA      1.1   \n",
       "...                                         ...          ...      ...   \n",
       "36260                                    PUEBLA     MEXICANA      1.6   \n",
       "36261                          VILLA DE ALVAREZ     MEXICANA      1.7   \n",
       "36262                      CHILAS DE LAS FLORES     MEXICANA     1.77   \n",
       "36263                          VILLA DE ALVAREZ     MEXICANA     1.76   \n",
       "36264                  SAN NICOLAS DE LOS GARZA     MEXICANA      1.6   \n",
       "\n",
       "      Complexion    Sexo Edad  \\\n",
       "0        DELGADA   MUJER    7   \n",
       "1        DELGADA   MUJER    4   \n",
       "2        DELGADA  HOMBRE    6   \n",
       "3        DELGADA  HOMBRE   10   \n",
       "4        DELGADA  HOMBRE    4   \n",
       "...          ...     ...  ...   \n",
       "36260    DELGADA  HOMBRE   22   \n",
       "36261    ROBUSTA   MUJER   27   \n",
       "36262    MEDIANA   MUJER   86   \n",
       "36263    ROBUSTA  HOMBRE   41   \n",
       "36264    DELGADA   MUJER   14   \n",
       "\n",
       "                       Descripcion de senas particulares            Etnia  \\\n",
       "0      TIENE UNA CICATRIZ EN LA RODILLA IZQUIERDA POR...  NO ESPECIFICADO   \n",
       "1                                        NO ESPECIFICADO  NO ESPECIFICADO   \n",
       "2      MANCHAS, PARTE SUPERIOR DE PIERNA DERECHA, CIC...  NO ESPECIFICADO   \n",
       "3      LUNARES, A LA ALTURA DE LA CINTURAFORMA DE MAN...  NO ESPECIFICADO   \n",
       "4                                        NO ESPECIFICADO  NO ESPECIFICADO   \n",
       "...                                                  ...              ...   \n",
       "36260  LUNAR EN LA MEJILLA Y TATUAJE EN EL CUELLO EN ...  NO ESPECIFICADO   \n",
       "36261  EL OJO IZQUIERDO TIENE UN ENFERMEDAD COMO TIC,...  NO ESPECIFICADO   \n",
       "36262                                    NO ESPECIFICADO  NO ESPECIFICADO   \n",
       "36263  TATUAJE EN EL BRAZO IZQUIERDO CON LA IMAGEN DE...  NO ESPECIFICADO   \n",
       "36264                                    NO ESPECIFICADO  NO ESPECIFICADO   \n",
       "\n",
       "      Discapacidad Dependencia que envio la informacion  \n",
       "0          NINGUNO                         FGE - SONORA  \n",
       "1          NINGUNO               FGJ - ESTADO DE MEXICO  \n",
       "2          NINGUNO               FGJ - ESTADO DE MEXICO  \n",
       "3          NINGUNO               FGJ - ESTADO DE MEXICO  \n",
       "4          NINGUNO               FGJ - ESTADO DE MEXICO  \n",
       "...            ...                                  ...  \n",
       "36260      NINGUNO                         FGE - PUEBLA  \n",
       "36261      NINGUNO                         PGJ - COLIMA  \n",
       "36262      NINGUNO                         FGE - PUEBLA  \n",
       "36263      NINGUNO                         PGJ - COLIMA  \n",
       "36264      NINGUNO                     PGJ - NUEVO LEON  \n",
       "\n",
       "[36265 rows x 15 columns]"
      ]
     },
     "execution_count": 93,
     "metadata": {},
     "output_type": "execute_result"
    }
   ],
   "source": [
    "df"
   ]
  },
  {
   "cell_type": "markdown",
   "metadata": {},
   "source": [
    "##  Limpieza de datos"
   ]
  },
  {
   "cell_type": "markdown",
   "metadata": {},
   "source": [
    "### Busqueda de NaNs"
   ]
  },
  {
   "cell_type": "code",
   "execution_count": 94,
   "metadata": {
    "ExecuteTime": {
     "end_time": "2022-12-10T03:46:49.437660Z",
     "start_time": "2022-12-10T03:46:49.384682Z"
    }
   },
   "outputs": [
    {
     "data": {
      "text/plain": [
       "Fecha en que se le vio por ultima vez        0\n",
       "Hora en que se le vio por ultima vez         0\n",
       "Pais en que se le vio por ultima vez         0\n",
       "Entidad en que se le vio por ultima vez      0\n",
       "Municipio en que se le vio por ultima vez    0\n",
       "Localidad en que se le vio por ultima vez    0\n",
       "Nacionalidad                                 0\n",
       "Estatura                                     0\n",
       "Complexion                                   0\n",
       "Sexo                                         0\n",
       "Edad                                         0\n",
       "Descripcion de senas particulares            0\n",
       "Etnia                                        0\n",
       "Discapacidad                                 0\n",
       "Dependencia que envio la informacion         0\n",
       "dtype: int64"
      ]
     },
     "execution_count": 94,
     "metadata": {},
     "output_type": "execute_result"
    }
   ],
   "source": [
    "df.isna().sum()"
   ]
  },
  {
   "cell_type": "markdown",
   "metadata": {},
   "source": [
    "> Como nos percatamos en el análisis exploratorio, no contamos con valores faltantes indicados como `NaN`, sin embargo, identificamos que en nuestro dataset la categoría `NO ESPECIFICADO` y sus variaciones en cuanto a su escritura (`No Especificado`,  `no ESPECIFICADO`) fungen como registros de valores faltantes."
   ]
  },
  {
   "cell_type": "markdown",
   "metadata": {},
   "source": [
    "Vamos a realizar el conteo por columna de las ocurrencias del valor `NO ESPECIFICADO` (y sus variaciones) indicando el porcentaje que representa el número de faltantes respecto al total de registros en nuestro `DataFrame`. "
   ]
  },
  {
   "cell_type": "code",
   "execution_count": 95,
   "metadata": {
    "ExecuteTime": {
     "end_time": "2022-12-10T03:46:49.518303Z",
     "start_time": "2022-12-10T03:46:49.439863Z"
    },
    "scrolled": false
   },
   "outputs": [
    {
     "name": "stdout",
     "output_type": "stream",
     "text": [
      "Columna                                    =NO ESPECIFICADO=  Porcentaje\n",
      "\n",
      "Fecha en que se le vio por ultima vez      |              338      0.93%\n",
      "Hora en que se le vio por ultima vez       |               16      0.04%\n",
      "Pais en que se le vio por ultima vez       |                0       0.0%\n",
      "Entidad en que se le vio por ultima vez    |               29      0.08%\n",
      "Municipio en que se le vio por ultima vez  |              668      1.84%\n",
      "Localidad en que se le vio por ultima vez  |             3413      9.41%\n",
      "Nacionalidad                               |             2040      5.63%\n",
      "Estatura                                   |            11008     30.35%\n",
      "Complexion                                 |            11295     31.15%\n",
      "Sexo                                       |                0       0.0%\n",
      "Edad                                       |             3156       8.7%\n",
      "Descripcion de senas particulares          |            18914     52.15%\n",
      "Etnia                                      |            36133     99.64%\n",
      "Discapacidad                               |             1047      2.89%\n",
      "Dependencia que envio la informacion       |                0       0.0%\n"
     ]
    }
   ],
   "source": [
    "print(f'{(\"Columna\"):42} =NO ESPECIFICADO=  Porcentaje\\n')\n",
    "for col in df.columns:\n",
    "    total = (df[col] == \"NO ESPECIFICADO\").sum()+(df[col] == \"No Especificado\").sum()+(df[col] == \"no ESPECIFICADO\").sum()\n",
    "    print(f'{(col):42} | {(total):16} {(round((total*100)/df.shape[0], 2)):9}%')"
   ]
  },
  {
   "cell_type": "markdown",
   "metadata": {},
   "source": [
    "> Tenemos columnas con nula presencia de faltantes, poca presencia y algunas columnas en donde la cantidad de faltantes es considerable. Pasemos a **tomar decisiones** sobre como trabajaremos con los valores faltantes en cada columna."
   ]
  },
  {
   "cell_type": "markdown",
   "metadata": {},
   "source": [
    "Primero crearemos una **copia de nuestro `DataFrame`** original para conservarlo."
   ]
  },
  {
   "cell_type": "code",
   "execution_count": 96,
   "metadata": {
    "ExecuteTime": {
     "end_time": "2022-12-10T03:46:49.525445Z",
     "start_time": "2022-12-10T03:46:49.519925Z"
    }
   },
   "outputs": [],
   "source": [
    "df_original = df.copy()"
   ]
  },
  {
   "cell_type": "markdown",
   "metadata": {},
   "source": [
    "Ahora transformemos todos nuestros valores de `NO ESPECIFICADO` (y sus variaciones) a `NaN`."
   ]
  },
  {
   "cell_type": "code",
   "execution_count": 97,
   "metadata": {
    "ExecuteTime": {
     "end_time": "2022-12-10T03:46:49.574369Z",
     "start_time": "2022-12-10T03:46:49.527524Z"
    }
   },
   "outputs": [],
   "source": [
    "df = df.replace('NO ESPECIFICADO',np.NaN)\n",
    "df = df.replace('No Especificado',np.NaN)\n",
    "df = df.replace('no ESPECIFICADO',np.NaN)"
   ]
  },
  {
   "cell_type": "code",
   "execution_count": 98,
   "metadata": {
    "ExecuteTime": {
     "end_time": "2022-12-10T03:46:49.620874Z",
     "start_time": "2022-12-10T03:46:49.575602Z"
    },
    "scrolled": true
   },
   "outputs": [
    {
     "data": {
      "text/plain": [
       "Fecha en que se le vio por ultima vez          338\n",
       "Hora en que se le vio por ultima vez            16\n",
       "Pais en que se le vio por ultima vez             0\n",
       "Entidad en que se le vio por ultima vez         29\n",
       "Municipio en que se le vio por ultima vez      668\n",
       "Localidad en que se le vio por ultima vez     3413\n",
       "Nacionalidad                                  2040\n",
       "Estatura                                     11008\n",
       "Complexion                                   11295\n",
       "Sexo                                             0\n",
       "Edad                                          3156\n",
       "Descripcion de senas particulares            18914\n",
       "Etnia                                        36133\n",
       "Discapacidad                                  1047\n",
       "Dependencia que envio la informacion             0\n",
       "dtype: int64"
      ]
     },
     "execution_count": 98,
     "metadata": {},
     "output_type": "execute_result"
    }
   ],
   "source": [
    "df.isna().sum()"
   ]
  },
  {
   "cell_type": "markdown",
   "metadata": {},
   "source": [
    "> Podemos ver que el conteo de faltantes coincide con el que realizamos previamente."
   ]
  },
  {
   "cell_type": "markdown",
   "metadata": {},
   "source": [
    "### Limpiando NaNs"
   ]
  },
  {
   "cell_type": "markdown",
   "metadata": {},
   "source": [
    "**Fecha en que se le vio por ultima vez**"
   ]
  },
  {
   "cell_type": "markdown",
   "metadata": {},
   "source": [
    "La variable que registra la fecha en la que se vio por última vez a una persona es una variable muy importante en nuestro conjunto de datos y en el contexto del problema. Rellenar esta variable con algún tipo de dato puede hacer que el valor asignado pierda sentido o generar información errónea acerca del problema. Por esto eliminaremos los registros que contengan valores faltantes en esta columna."
   ]
  },
  {
   "cell_type": "code",
   "execution_count": 99,
   "metadata": {
    "ExecuteTime": {
     "end_time": "2022-12-10T03:46:49.642698Z",
     "start_time": "2022-12-10T03:46:49.622844Z"
    }
   },
   "outputs": [],
   "source": [
    "df = df.dropna(subset=['Fecha en que se le vio por ultima vez'])"
   ]
  },
  {
   "cell_type": "code",
   "execution_count": 100,
   "metadata": {
    "ExecuteTime": {
     "end_time": "2022-12-10T03:46:49.705348Z",
     "start_time": "2022-12-10T03:46:49.646924Z"
    }
   },
   "outputs": [
    {
     "data": {
      "text/plain": [
       "Fecha en que se le vio por ultima vez            0\n",
       "Hora en que se le vio por ultima vez             0\n",
       "Pais en que se le vio por ultima vez             0\n",
       "Entidad en que se le vio por ultima vez         26\n",
       "Municipio en que se le vio por ultima vez      635\n",
       "Localidad en que se le vio por ultima vez     3345\n",
       "Nacionalidad                                  2028\n",
       "Estatura                                     10784\n",
       "Complexion                                   11157\n",
       "Sexo                                             0\n",
       "Edad                                          3088\n",
       "Descripcion de senas particulares            18704\n",
       "Etnia                                        35795\n",
       "Discapacidad                                  1043\n",
       "Dependencia que envio la informacion             0\n",
       "dtype: int64"
      ]
     },
     "execution_count": 100,
     "metadata": {},
     "output_type": "execute_result"
    }
   ],
   "source": [
    "df.isna().sum()"
   ]
  },
  {
   "cell_type": "markdown",
   "metadata": {},
   "source": [
    "> Observamos que con las filas eliminadas a partir de los faltantes en las fechas, también eliminamos los registros faltantes en `Hora en que se le vio por última vez`, esto no representa una gran repercusión, pues al igual que la columna de fechas, los registros de horas eran datos importantes que no nos convenía rellenar y manipular."
   ]
  },
  {
   "cell_type": "markdown",
   "metadata": {},
   "source": [
    "**Pais en que se le vio por ultima vez**"
   ]
  },
  {
   "cell_type": "markdown",
   "metadata": {},
   "source": [
    "Esta columna tiene el mismo valor (`MEXICO`) para todos los registros de la lista, por el contexto del problema podemos inferir el porqué de este valor. Podemos eliminar esta columna, pues no representa información relevante."
   ]
  },
  {
   "cell_type": "code",
   "execution_count": 101,
   "metadata": {
    "ExecuteTime": {
     "end_time": "2022-12-10T03:46:49.717816Z",
     "start_time": "2022-12-10T03:46:49.709007Z"
    }
   },
   "outputs": [],
   "source": [
    "df = df.drop(columns=['Pais en que se le vio por ultima vez'])"
   ]
  },
  {
   "cell_type": "markdown",
   "metadata": {},
   "source": [
    "**Etnia**"
   ]
  },
  {
   "cell_type": "markdown",
   "metadata": {},
   "source": [
    "La columna `Etnia` tiene 36133 registros con el valor “no especificado”, es una cantidad muy grande y posiblemente no nos aporte mucho para un análisis. "
   ]
  },
  {
   "cell_type": "code",
   "execution_count": 102,
   "metadata": {
    "ExecuteTime": {
     "end_time": "2022-12-10T03:46:49.728540Z",
     "start_time": "2022-12-10T03:46:49.719985Z"
    }
   },
   "outputs": [],
   "source": [
    "df = df.drop(columns=['Etnia'])"
   ]
  },
  {
   "cell_type": "code",
   "execution_count": 103,
   "metadata": {
    "ExecuteTime": {
     "end_time": "2022-12-10T03:46:49.734204Z",
     "start_time": "2022-12-10T03:46:49.730117Z"
    }
   },
   "outputs": [
    {
     "data": {
      "text/plain": [
       "Index(['Fecha en que se le vio por ultima vez',\n",
       "       'Hora en que se le vio por ultima vez',\n",
       "       'Entidad en que se le vio por ultima vez',\n",
       "       'Municipio en que se le vio por ultima vez',\n",
       "       'Localidad en que se le vio por ultima vez', 'Nacionalidad', 'Estatura',\n",
       "       'Complexion', 'Sexo', 'Edad', 'Descripcion de senas particulares',\n",
       "       'Discapacidad', 'Dependencia que envio la informacion'],\n",
       "      dtype='object')"
      ]
     },
     "execution_count": 103,
     "metadata": {},
     "output_type": "execute_result"
    }
   ],
   "source": [
    "df.columns"
   ]
  },
  {
   "cell_type": "markdown",
   "metadata": {},
   "source": [
    "> Las columnas han sido eliminadas correctamente de nuestro `DataFrame`."
   ]
  },
  {
   "cell_type": "markdown",
   "metadata": {},
   "source": [
    "Remplazamos los valores faltantes por la media en el caso de columnas numéricas que son relevantes para nuestro análisis. No se eliminan porque reducirían bastante el `DataFrame`, y no se remplazan por cero porque sería un valor con un significado incoherente (altura cero es algo que no existe)."
   ]
  },
  {
   "cell_type": "markdown",
   "metadata": {},
   "source": [
    "**Estatura**"
   ]
  },
  {
   "cell_type": "markdown",
   "metadata": {},
   "source": [
    "Esta es nuestra variable objetivo, por el momento conservaremos los valores faltantes pero al realizar nuestro modelo nos centraremos unicamente en los valores con información."
   ]
  },
  {
   "cell_type": "markdown",
   "metadata": {},
   "source": [
    "Adelantaremos el proceso de transformación en esta columna para facilitar la imputación. Exploremos nuevamente los valores que toma esta variable."
   ]
  },
  {
   "cell_type": "code",
   "execution_count": 104,
   "metadata": {
    "ExecuteTime": {
     "end_time": "2022-12-10T03:46:49.744302Z",
     "start_time": "2022-12-10T03:46:49.737618Z"
    },
    "scrolled": false
   },
   "outputs": [
    {
     "data": {
      "text/plain": [
       "1.7     4353\n",
       "1.6     3314\n",
       "1.65    2731\n",
       "1.75    1959\n",
       "1.8     1467\n",
       "        ... \n",
       "0.45       1\n",
       "0.51       1\n",
       "0.57       1\n",
       "1.33       1\n",
       "90         1\n",
       "Name: Estatura, Length: 152, dtype: int64"
      ]
     },
     "execution_count": 104,
     "metadata": {},
     "output_type": "execute_result"
    }
   ],
   "source": [
    "df['Estatura'].value_counts()"
   ]
  },
  {
   "cell_type": "markdown",
   "metadata": {},
   "source": [
    "> La mayoría de los valores se encuentran en un rango de 0 a 2.04, esto nos dice que se maneja la medición en metros. Sin embargo, encontramos valores superiores a 50, es muy probable que estos estén registrados en centímetros. "
   ]
  },
  {
   "cell_type": "markdown",
   "metadata": {},
   "source": [
    "Vamos a convertir nuestros valores a tipo flotante y manejarlos en metros, haciendo la conversión respectiva."
   ]
  },
  {
   "cell_type": "code",
   "execution_count": 105,
   "metadata": {
    "ExecuteTime": {
     "end_time": "2022-12-10T03:46:49.763353Z",
     "start_time": "2022-12-10T03:46:49.745951Z"
    }
   },
   "outputs": [],
   "source": [
    "df['Estatura'] = df['Estatura'].astype(float)\n",
    "df['Estatura'] = df['Estatura'].apply(lambda x: x/100 if (x >= 3) else x)"
   ]
  },
  {
   "cell_type": "markdown",
   "metadata": {},
   "source": [
    "> Ahora todas nuestras estaturas están representadas en metros."
   ]
  },
  {
   "cell_type": "code",
   "execution_count": 106,
   "metadata": {
    "ExecuteTime": {
     "end_time": "2022-12-10T03:46:49.775880Z",
     "start_time": "2022-12-10T03:46:49.765776Z"
    }
   },
   "outputs": [],
   "source": [
    "aux = df[~df['Estatura'].isnull()].copy()"
   ]
  },
  {
   "cell_type": "code",
   "execution_count": 107,
   "metadata": {
    "ExecuteTime": {
     "end_time": "2022-12-10T03:46:49.803555Z",
     "start_time": "2022-12-10T03:46:49.777431Z"
    }
   },
   "outputs": [
    {
     "data": {
      "text/plain": [
       "Fecha en que se le vio por ultima vez        0.000000\n",
       "Hora en que se le vio por ultima vez         0.000000\n",
       "Entidad en que se le vio por ultima vez      0.000795\n",
       "Municipio en que se le vio por ultima vez    0.011295\n",
       "Localidad en que se le vio por ultima vez    0.062443\n",
       "Nacionalidad                                 0.041204\n",
       "Estatura                                     0.000000\n",
       "Complexion                                   0.083522\n",
       "Sexo                                         0.000000\n",
       "Edad                                         0.044386\n",
       "Descripcion de senas particulares            0.396055\n",
       "Discapacidad                                 0.019290\n",
       "Dependencia que envio la informacion         0.000000\n",
       "dtype: float64"
      ]
     },
     "execution_count": 107,
     "metadata": {},
     "output_type": "execute_result"
    }
   ],
   "source": [
    "aux.isna().mean()"
   ]
  },
  {
   "cell_type": "markdown",
   "metadata": {},
   "source": [
    "**Edad**"
   ]
  },
  {
   "cell_type": "markdown",
   "metadata": {},
   "source": [
    "Aplicaremos una transformación similar en nuestra columna de edades, convirtiendo nuestros valores a enteros. "
   ]
  },
  {
   "cell_type": "markdown",
   "metadata": {},
   "source": [
    "Pasemos a la imputación usando la mediana."
   ]
  },
  {
   "cell_type": "code",
   "execution_count": 108,
   "metadata": {
    "ExecuteTime": {
     "end_time": "2022-12-10T03:46:49.812258Z",
     "start_time": "2022-12-10T03:46:49.805013Z"
    }
   },
   "outputs": [
    {
     "data": {
      "text/plain": [
       "28.0"
      ]
     },
     "execution_count": 108,
     "metadata": {},
     "output_type": "execute_result"
    }
   ],
   "source": [
    "edad_mediana = df['Edad'].median()\n",
    "edad_mediana"
   ]
  },
  {
   "cell_type": "code",
   "execution_count": 109,
   "metadata": {
    "ExecuteTime": {
     "end_time": "2022-12-10T03:46:49.821025Z",
     "start_time": "2022-12-10T03:46:49.813894Z"
    }
   },
   "outputs": [],
   "source": [
    "df['Edad'] = df['Edad'].fillna(edad_mediana)"
   ]
  },
  {
   "cell_type": "code",
   "execution_count": 110,
   "metadata": {
    "ExecuteTime": {
     "end_time": "2022-12-10T03:46:49.829956Z",
     "start_time": "2022-12-10T03:46:49.822420Z"
    }
   },
   "outputs": [
    {
     "data": {
      "text/plain": [
       "28"
      ]
     },
     "execution_count": 110,
     "metadata": {},
     "output_type": "execute_result"
    }
   ],
   "source": [
    "df['Edad'].median().astype(int)"
   ]
  },
  {
   "cell_type": "code",
   "execution_count": 111,
   "metadata": {
    "ExecuteTime": {
     "end_time": "2022-12-10T03:46:49.839025Z",
     "start_time": "2022-12-10T03:46:49.831624Z"
    }
   },
   "outputs": [],
   "source": [
    "df[\"Edad\"]= df[\"Edad\"].astype(int)"
   ]
  },
  {
   "cell_type": "markdown",
   "metadata": {
    "ExecuteTime": {
     "end_time": "2022-09-13T19:25:09.785598Z",
     "start_time": "2022-09-13T19:25:09.780889Z"
    }
   },
   "source": [
    "> Ahora todas nuestras edades están representadas en enteros."
   ]
  },
  {
   "cell_type": "code",
   "execution_count": 112,
   "metadata": {
    "ExecuteTime": {
     "end_time": "2022-12-10T03:46:49.874346Z",
     "start_time": "2022-12-10T03:46:49.841418Z"
    }
   },
   "outputs": [
    {
     "data": {
      "text/plain": [
       "Fecha en que se le vio por ultima vez            0\n",
       "Hora en que se le vio por ultima vez             0\n",
       "Entidad en que se le vio por ultima vez         26\n",
       "Municipio en que se le vio por ultima vez      635\n",
       "Localidad en que se le vio por ultima vez     3345\n",
       "Nacionalidad                                  2028\n",
       "Estatura                                     10784\n",
       "Complexion                                   11157\n",
       "Sexo                                             0\n",
       "Edad                                             0\n",
       "Descripcion de senas particulares            18704\n",
       "Discapacidad                                  1043\n",
       "Dependencia que envio la informacion             0\n",
       "dtype: int64"
      ]
     },
     "execution_count": 112,
     "metadata": {},
     "output_type": "execute_result"
    }
   ],
   "source": [
    "df.isna().sum()"
   ]
  },
  {
   "cell_type": "markdown",
   "metadata": {},
   "source": [
    "> Nuestros valores faltantes en `Edad` han sido remplazados por la mediana, y la mediana con los valores remplazados sigue siendo igual a 28."
   ]
  },
  {
   "cell_type": "markdown",
   "metadata": {},
   "source": [
    "En las columnas donde los valores faltantes siguen presentes, vale la pena conservar la categoría de `NO ESPECIFICADO`. Regresaremos los valores `NaN` al valor `NO ESPECIFICADO` (esta vez sin ninguna variación) en las columnas restantes, esas columnas son:\n",
    "\n",
    "*   `Entidad en que se le vio por ultima vez`\n",
    "*   `Municipio en que se le vio por ultima vez`\n",
    "*   `Localidad en que se le vio por ultima vez`\n",
    "*   `Nacionalidad`\n",
    "*   `Complexion`\n",
    "*   `Descripcion de senas particulares`\n",
    "*   `Discapacidad`"
   ]
  },
  {
   "cell_type": "code",
   "execution_count": 113,
   "metadata": {
    "ExecuteTime": {
     "end_time": "2022-12-10T03:46:49.936514Z",
     "start_time": "2022-12-10T03:46:49.876667Z"
    }
   },
   "outputs": [],
   "source": [
    "df.loc[:, df.columns != 'Estatura'] = df.loc[:, df.columns != 'Estatura'].fillna('NO ESPECIFICADO')"
   ]
  },
  {
   "cell_type": "code",
   "execution_count": 114,
   "metadata": {
    "ExecuteTime": {
     "end_time": "2022-12-10T03:46:49.970431Z",
     "start_time": "2022-12-10T03:46:49.937637Z"
    }
   },
   "outputs": [
    {
     "data": {
      "text/plain": [
       "Fecha en que se le vio por ultima vez            0\n",
       "Hora en que se le vio por ultima vez             0\n",
       "Entidad en que se le vio por ultima vez          0\n",
       "Municipio en que se le vio por ultima vez        0\n",
       "Localidad en que se le vio por ultima vez        0\n",
       "Nacionalidad                                     0\n",
       "Estatura                                     10784\n",
       "Complexion                                       0\n",
       "Sexo                                             0\n",
       "Edad                                             0\n",
       "Descripcion de senas particulares                0\n",
       "Discapacidad                                     0\n",
       "Dependencia que envio la informacion             0\n",
       "dtype: int64"
      ]
     },
     "execution_count": 114,
     "metadata": {},
     "output_type": "execute_result"
    }
   ],
   "source": [
    "df.isna().sum()"
   ]
  },
  {
   "cell_type": "markdown",
   "metadata": {},
   "source": [
    "> Hemos limpiado nuestro 'DataFrame' de datos faltantes a expeción de la estatura (variable objetivo)."
   ]
  },
  {
   "cell_type": "markdown",
   "metadata": {},
   "source": [
    "### Reindexando"
   ]
  },
  {
   "cell_type": "code",
   "execution_count": 115,
   "metadata": {
    "ExecuteTime": {
     "end_time": "2022-12-10T03:46:49.979261Z",
     "start_time": "2022-12-10T03:46:49.972134Z"
    }
   },
   "outputs": [
    {
     "data": {
      "text/html": [
       "<div>\n",
       "<style scoped>\n",
       "    .dataframe tbody tr th:only-of-type {\n",
       "        vertical-align: middle;\n",
       "    }\n",
       "\n",
       "    .dataframe tbody tr th {\n",
       "        vertical-align: top;\n",
       "    }\n",
       "\n",
       "    .dataframe thead th {\n",
       "        text-align: right;\n",
       "    }\n",
       "</style>\n",
       "<table border=\"1\" class=\"dataframe\">\n",
       "  <thead>\n",
       "    <tr style=\"text-align: right;\">\n",
       "      <th></th>\n",
       "      <th>Fecha en que se le vio por ultima vez</th>\n",
       "      <th>Hora en que se le vio por ultima vez</th>\n",
       "      <th>Entidad en que se le vio por ultima vez</th>\n",
       "      <th>Municipio en que se le vio por ultima vez</th>\n",
       "      <th>Localidad en que se le vio por ultima vez</th>\n",
       "      <th>Nacionalidad</th>\n",
       "      <th>Estatura</th>\n",
       "      <th>Complexion</th>\n",
       "      <th>Sexo</th>\n",
       "      <th>Edad</th>\n",
       "      <th>Descripcion de senas particulares</th>\n",
       "      <th>Discapacidad</th>\n",
       "      <th>Dependencia que envio la informacion</th>\n",
       "    </tr>\n",
       "  </thead>\n",
       "  <tbody>\n",
       "    <tr>\n",
       "      <th>36263</th>\n",
       "      <td>2017-08-22</td>\n",
       "      <td>04:00:00</td>\n",
       "      <td>COLIMA</td>\n",
       "      <td>VILLA DE ALVAREZ</td>\n",
       "      <td>VILLA DE ALVAREZ</td>\n",
       "      <td>MEXICANA</td>\n",
       "      <td>1.76</td>\n",
       "      <td>ROBUSTA</td>\n",
       "      <td>HOMBRE</td>\n",
       "      <td>41</td>\n",
       "      <td>TATUAJE EN EL BRAZO IZQUIERDO CON LA IMAGEN DE...</td>\n",
       "      <td>NINGUNO</td>\n",
       "      <td>PGJ - COLIMA</td>\n",
       "    </tr>\n",
       "    <tr>\n",
       "      <th>36264</th>\n",
       "      <td>2018-04-11</td>\n",
       "      <td>02:00:00</td>\n",
       "      <td>NUEVO LEON</td>\n",
       "      <td>SAN NICOLAS DE LOS GARZA</td>\n",
       "      <td>SAN NICOLAS DE LOS GARZA</td>\n",
       "      <td>MEXICANA</td>\n",
       "      <td>1.60</td>\n",
       "      <td>DELGADA</td>\n",
       "      <td>MUJER</td>\n",
       "      <td>14</td>\n",
       "      <td>NO ESPECIFICADO</td>\n",
       "      <td>NINGUNO</td>\n",
       "      <td>PGJ - NUEVO LEON</td>\n",
       "    </tr>\n",
       "  </tbody>\n",
       "</table>\n",
       "</div>"
      ],
      "text/plain": [
       "      Fecha en que se le vio por ultima vez  \\\n",
       "36263                            2017-08-22   \n",
       "36264                            2018-04-11   \n",
       "\n",
       "      Hora en que se le vio por ultima vez  \\\n",
       "36263                             04:00:00   \n",
       "36264                             02:00:00   \n",
       "\n",
       "      Entidad en que se le vio por ultima vez  \\\n",
       "36263                                  COLIMA   \n",
       "36264                              NUEVO LEON   \n",
       "\n",
       "      Municipio en que se le vio por ultima vez  \\\n",
       "36263                          VILLA DE ALVAREZ   \n",
       "36264                  SAN NICOLAS DE LOS GARZA   \n",
       "\n",
       "      Localidad en que se le vio por ultima vez Nacionalidad  Estatura  \\\n",
       "36263                          VILLA DE ALVAREZ     MEXICANA      1.76   \n",
       "36264                  SAN NICOLAS DE LOS GARZA     MEXICANA      1.60   \n",
       "\n",
       "      Complexion    Sexo  Edad  \\\n",
       "36263    ROBUSTA  HOMBRE    41   \n",
       "36264    DELGADA   MUJER    14   \n",
       "\n",
       "                       Descripcion de senas particulares Discapacidad  \\\n",
       "36263  TATUAJE EN EL BRAZO IZQUIERDO CON LA IMAGEN DE...      NINGUNO   \n",
       "36264                                    NO ESPECIFICADO      NINGUNO   \n",
       "\n",
       "      Dependencia que envio la informacion  \n",
       "36263                         PGJ - COLIMA  \n",
       "36264                     PGJ - NUEVO LEON  "
      ]
     },
     "execution_count": 115,
     "metadata": {},
     "output_type": "execute_result"
    }
   ],
   "source": [
    "df.tail(2)"
   ]
  },
  {
   "cell_type": "markdown",
   "metadata": {},
   "source": [
    "> Podemos ver que el número de filas ya no coincide con el índice del último registro. "
   ]
  },
  {
   "cell_type": "markdown",
   "metadata": {},
   "source": [
    "Vamos a reindexar y después establecer nuestros índices empezando desde 1."
   ]
  },
  {
   "cell_type": "code",
   "execution_count": 116,
   "metadata": {
    "ExecuteTime": {
     "end_time": "2022-12-10T03:46:49.985430Z",
     "start_time": "2022-12-10T03:46:49.981985Z"
    }
   },
   "outputs": [],
   "source": [
    "df = df.reset_index(drop=True)\n",
    "\n",
    "df.index = df.index + 1"
   ]
  },
  {
   "cell_type": "code",
   "execution_count": 117,
   "metadata": {
    "ExecuteTime": {
     "end_time": "2022-12-10T03:46:49.999779Z",
     "start_time": "2022-12-10T03:46:49.986708Z"
    }
   },
   "outputs": [
    {
     "data": {
      "text/html": [
       "<div>\n",
       "<style scoped>\n",
       "    .dataframe tbody tr th:only-of-type {\n",
       "        vertical-align: middle;\n",
       "    }\n",
       "\n",
       "    .dataframe tbody tr th {\n",
       "        vertical-align: top;\n",
       "    }\n",
       "\n",
       "    .dataframe thead th {\n",
       "        text-align: right;\n",
       "    }\n",
       "</style>\n",
       "<table border=\"1\" class=\"dataframe\">\n",
       "  <thead>\n",
       "    <tr style=\"text-align: right;\">\n",
       "      <th></th>\n",
       "      <th>Fecha en que se le vio por ultima vez</th>\n",
       "      <th>Hora en que se le vio por ultima vez</th>\n",
       "      <th>Entidad en que se le vio por ultima vez</th>\n",
       "      <th>Municipio en que se le vio por ultima vez</th>\n",
       "      <th>Localidad en que se le vio por ultima vez</th>\n",
       "      <th>Nacionalidad</th>\n",
       "      <th>Estatura</th>\n",
       "      <th>Complexion</th>\n",
       "      <th>Sexo</th>\n",
       "      <th>Edad</th>\n",
       "      <th>Descripcion de senas particulares</th>\n",
       "      <th>Discapacidad</th>\n",
       "      <th>Dependencia que envio la informacion</th>\n",
       "    </tr>\n",
       "  </thead>\n",
       "  <tbody>\n",
       "    <tr>\n",
       "      <th>1</th>\n",
       "      <td>2012-03-18</td>\n",
       "      <td>05:00:00</td>\n",
       "      <td>SONORA</td>\n",
       "      <td>NAVOJOA</td>\n",
       "      <td>NAVOJOA</td>\n",
       "      <td>MEXICANA</td>\n",
       "      <td>1.10</td>\n",
       "      <td>DELGADA</td>\n",
       "      <td>MUJER</td>\n",
       "      <td>7</td>\n",
       "      <td>TIENE UNA CICATRIZ EN LA RODILLA IZQUIERDA POR...</td>\n",
       "      <td>NINGUNO</td>\n",
       "      <td>FGE - SONORA</td>\n",
       "    </tr>\n",
       "    <tr>\n",
       "      <th>2</th>\n",
       "      <td>2007-02-05</td>\n",
       "      <td>02:00:26</td>\n",
       "      <td>ESTADO DE MEXICO</td>\n",
       "      <td>VALLE DE BRAVO</td>\n",
       "      <td>VALLE DE BRAVO</td>\n",
       "      <td>MEXICANA</td>\n",
       "      <td>1.10</td>\n",
       "      <td>DELGADA</td>\n",
       "      <td>MUJER</td>\n",
       "      <td>4</td>\n",
       "      <td>NO ESPECIFICADO</td>\n",
       "      <td>NINGUNO</td>\n",
       "      <td>FGJ - ESTADO DE MEXICO</td>\n",
       "    </tr>\n",
       "    <tr>\n",
       "      <th>3</th>\n",
       "      <td>2009-03-14</td>\n",
       "      <td>08:30:54</td>\n",
       "      <td>ESTADO DE MEXICO</td>\n",
       "      <td>CHALCO</td>\n",
       "      <td>CHALCO</td>\n",
       "      <td>MEXICANA</td>\n",
       "      <td>1.10</td>\n",
       "      <td>DELGADA</td>\n",
       "      <td>HOMBRE</td>\n",
       "      <td>6</td>\n",
       "      <td>MANCHAS, PARTE SUPERIOR DE PIERNA DERECHA, CIC...</td>\n",
       "      <td>NINGUNO</td>\n",
       "      <td>FGJ - ESTADO DE MEXICO</td>\n",
       "    </tr>\n",
       "    <tr>\n",
       "      <th>4</th>\n",
       "      <td>2006-12-23</td>\n",
       "      <td>08:00:28</td>\n",
       "      <td>ESTADO DE MEXICO</td>\n",
       "      <td>TLALNEPANTLA DE BAZ</td>\n",
       "      <td>TLALNEPANTLA DE BAZ</td>\n",
       "      <td>MEXICANA</td>\n",
       "      <td>1.10</td>\n",
       "      <td>DELGADA</td>\n",
       "      <td>HOMBRE</td>\n",
       "      <td>10</td>\n",
       "      <td>LUNARES, A LA ALTURA DE LA CINTURAFORMA DE MAN...</td>\n",
       "      <td>NINGUNO</td>\n",
       "      <td>FGJ - ESTADO DE MEXICO</td>\n",
       "    </tr>\n",
       "    <tr>\n",
       "      <th>5</th>\n",
       "      <td>2008-01-11</td>\n",
       "      <td>12:00:17</td>\n",
       "      <td>ESTADO DE MEXICO</td>\n",
       "      <td>TOLUCA</td>\n",
       "      <td>TOLUCA</td>\n",
       "      <td>MEXICANA</td>\n",
       "      <td>1.10</td>\n",
       "      <td>DELGADA</td>\n",
       "      <td>HOMBRE</td>\n",
       "      <td>4</td>\n",
       "      <td>NO ESPECIFICADO</td>\n",
       "      <td>NINGUNO</td>\n",
       "      <td>FGJ - ESTADO DE MEXICO</td>\n",
       "    </tr>\n",
       "    <tr>\n",
       "      <th>...</th>\n",
       "      <td>...</td>\n",
       "      <td>...</td>\n",
       "      <td>...</td>\n",
       "      <td>...</td>\n",
       "      <td>...</td>\n",
       "      <td>...</td>\n",
       "      <td>...</td>\n",
       "      <td>...</td>\n",
       "      <td>...</td>\n",
       "      <td>...</td>\n",
       "      <td>...</td>\n",
       "      <td>...</td>\n",
       "      <td>...</td>\n",
       "    </tr>\n",
       "    <tr>\n",
       "      <th>35923</th>\n",
       "      <td>2018-04-26</td>\n",
       "      <td>08:00:00</td>\n",
       "      <td>PUEBLA</td>\n",
       "      <td>PUEBLA</td>\n",
       "      <td>PUEBLA</td>\n",
       "      <td>MEXICANA</td>\n",
       "      <td>1.60</td>\n",
       "      <td>DELGADA</td>\n",
       "      <td>HOMBRE</td>\n",
       "      <td>22</td>\n",
       "      <td>LUNAR EN LA MEJILLA Y TATUAJE EN EL CUELLO EN ...</td>\n",
       "      <td>NINGUNO</td>\n",
       "      <td>FGE - PUEBLA</td>\n",
       "    </tr>\n",
       "    <tr>\n",
       "      <th>35924</th>\n",
       "      <td>2018-01-08</td>\n",
       "      <td>11:00:00</td>\n",
       "      <td>COLIMA</td>\n",
       "      <td>VILLA DE ALVAREZ</td>\n",
       "      <td>VILLA DE ALVAREZ</td>\n",
       "      <td>MEXICANA</td>\n",
       "      <td>1.70</td>\n",
       "      <td>ROBUSTA</td>\n",
       "      <td>MUJER</td>\n",
       "      <td>27</td>\n",
       "      <td>EL OJO IZQUIERDO TIENE UN ENFERMEDAD COMO TIC,...</td>\n",
       "      <td>NINGUNO</td>\n",
       "      <td>PGJ - COLIMA</td>\n",
       "    </tr>\n",
       "    <tr>\n",
       "      <th>35925</th>\n",
       "      <td>2015-02-02</td>\n",
       "      <td>07:00:00</td>\n",
       "      <td>PUEBLA</td>\n",
       "      <td>CHILA</td>\n",
       "      <td>CHILAS DE LAS FLORES</td>\n",
       "      <td>MEXICANA</td>\n",
       "      <td>1.77</td>\n",
       "      <td>MEDIANA</td>\n",
       "      <td>MUJER</td>\n",
       "      <td>86</td>\n",
       "      <td>NO ESPECIFICADO</td>\n",
       "      <td>NINGUNO</td>\n",
       "      <td>FGE - PUEBLA</td>\n",
       "    </tr>\n",
       "    <tr>\n",
       "      <th>35926</th>\n",
       "      <td>2017-08-22</td>\n",
       "      <td>04:00:00</td>\n",
       "      <td>COLIMA</td>\n",
       "      <td>VILLA DE ALVAREZ</td>\n",
       "      <td>VILLA DE ALVAREZ</td>\n",
       "      <td>MEXICANA</td>\n",
       "      <td>1.76</td>\n",
       "      <td>ROBUSTA</td>\n",
       "      <td>HOMBRE</td>\n",
       "      <td>41</td>\n",
       "      <td>TATUAJE EN EL BRAZO IZQUIERDO CON LA IMAGEN DE...</td>\n",
       "      <td>NINGUNO</td>\n",
       "      <td>PGJ - COLIMA</td>\n",
       "    </tr>\n",
       "    <tr>\n",
       "      <th>35927</th>\n",
       "      <td>2018-04-11</td>\n",
       "      <td>02:00:00</td>\n",
       "      <td>NUEVO LEON</td>\n",
       "      <td>SAN NICOLAS DE LOS GARZA</td>\n",
       "      <td>SAN NICOLAS DE LOS GARZA</td>\n",
       "      <td>MEXICANA</td>\n",
       "      <td>1.60</td>\n",
       "      <td>DELGADA</td>\n",
       "      <td>MUJER</td>\n",
       "      <td>14</td>\n",
       "      <td>NO ESPECIFICADO</td>\n",
       "      <td>NINGUNO</td>\n",
       "      <td>PGJ - NUEVO LEON</td>\n",
       "    </tr>\n",
       "  </tbody>\n",
       "</table>\n",
       "<p>35927 rows × 13 columns</p>\n",
       "</div>"
      ],
      "text/plain": [
       "      Fecha en que se le vio por ultima vez  \\\n",
       "1                                2012-03-18   \n",
       "2                                2007-02-05   \n",
       "3                                2009-03-14   \n",
       "4                                2006-12-23   \n",
       "5                                2008-01-11   \n",
       "...                                     ...   \n",
       "35923                            2018-04-26   \n",
       "35924                            2018-01-08   \n",
       "35925                            2015-02-02   \n",
       "35926                            2017-08-22   \n",
       "35927                            2018-04-11   \n",
       "\n",
       "      Hora en que se le vio por ultima vez  \\\n",
       "1                                 05:00:00   \n",
       "2                                 02:00:26   \n",
       "3                                 08:30:54   \n",
       "4                                 08:00:28   \n",
       "5                                 12:00:17   \n",
       "...                                    ...   \n",
       "35923                             08:00:00   \n",
       "35924                             11:00:00   \n",
       "35925                             07:00:00   \n",
       "35926                             04:00:00   \n",
       "35927                             02:00:00   \n",
       "\n",
       "      Entidad en que se le vio por ultima vez  \\\n",
       "1                                      SONORA   \n",
       "2                            ESTADO DE MEXICO   \n",
       "3                            ESTADO DE MEXICO   \n",
       "4                            ESTADO DE MEXICO   \n",
       "5                            ESTADO DE MEXICO   \n",
       "...                                       ...   \n",
       "35923                                  PUEBLA   \n",
       "35924                                  COLIMA   \n",
       "35925                                  PUEBLA   \n",
       "35926                                  COLIMA   \n",
       "35927                              NUEVO LEON   \n",
       "\n",
       "      Municipio en que se le vio por ultima vez  \\\n",
       "1                                       NAVOJOA   \n",
       "2                                VALLE DE BRAVO   \n",
       "3                                        CHALCO   \n",
       "4                           TLALNEPANTLA DE BAZ   \n",
       "5                                        TOLUCA   \n",
       "...                                         ...   \n",
       "35923                                    PUEBLA   \n",
       "35924                          VILLA DE ALVAREZ   \n",
       "35925                                     CHILA   \n",
       "35926                          VILLA DE ALVAREZ   \n",
       "35927                  SAN NICOLAS DE LOS GARZA   \n",
       "\n",
       "      Localidad en que se le vio por ultima vez Nacionalidad  Estatura  \\\n",
       "1                                       NAVOJOA     MEXICANA      1.10   \n",
       "2                                VALLE DE BRAVO     MEXICANA      1.10   \n",
       "3                                        CHALCO     MEXICANA      1.10   \n",
       "4                           TLALNEPANTLA DE BAZ     MEXICANA      1.10   \n",
       "5                                        TOLUCA     MEXICANA      1.10   \n",
       "...                                         ...          ...       ...   \n",
       "35923                                    PUEBLA     MEXICANA      1.60   \n",
       "35924                          VILLA DE ALVAREZ     MEXICANA      1.70   \n",
       "35925                      CHILAS DE LAS FLORES     MEXICANA      1.77   \n",
       "35926                          VILLA DE ALVAREZ     MEXICANA      1.76   \n",
       "35927                  SAN NICOLAS DE LOS GARZA     MEXICANA      1.60   \n",
       "\n",
       "      Complexion    Sexo  Edad  \\\n",
       "1        DELGADA   MUJER     7   \n",
       "2        DELGADA   MUJER     4   \n",
       "3        DELGADA  HOMBRE     6   \n",
       "4        DELGADA  HOMBRE    10   \n",
       "5        DELGADA  HOMBRE     4   \n",
       "...          ...     ...   ...   \n",
       "35923    DELGADA  HOMBRE    22   \n",
       "35924    ROBUSTA   MUJER    27   \n",
       "35925    MEDIANA   MUJER    86   \n",
       "35926    ROBUSTA  HOMBRE    41   \n",
       "35927    DELGADA   MUJER    14   \n",
       "\n",
       "                       Descripcion de senas particulares Discapacidad  \\\n",
       "1      TIENE UNA CICATRIZ EN LA RODILLA IZQUIERDA POR...      NINGUNO   \n",
       "2                                        NO ESPECIFICADO      NINGUNO   \n",
       "3      MANCHAS, PARTE SUPERIOR DE PIERNA DERECHA, CIC...      NINGUNO   \n",
       "4      LUNARES, A LA ALTURA DE LA CINTURAFORMA DE MAN...      NINGUNO   \n",
       "5                                        NO ESPECIFICADO      NINGUNO   \n",
       "...                                                  ...          ...   \n",
       "35923  LUNAR EN LA MEJILLA Y TATUAJE EN EL CUELLO EN ...      NINGUNO   \n",
       "35924  EL OJO IZQUIERDO TIENE UN ENFERMEDAD COMO TIC,...      NINGUNO   \n",
       "35925                                    NO ESPECIFICADO      NINGUNO   \n",
       "35926  TATUAJE EN EL BRAZO IZQUIERDO CON LA IMAGEN DE...      NINGUNO   \n",
       "35927                                    NO ESPECIFICADO      NINGUNO   \n",
       "\n",
       "      Dependencia que envio la informacion  \n",
       "1                             FGE - SONORA  \n",
       "2                   FGJ - ESTADO DE MEXICO  \n",
       "3                   FGJ - ESTADO DE MEXICO  \n",
       "4                   FGJ - ESTADO DE MEXICO  \n",
       "5                   FGJ - ESTADO DE MEXICO  \n",
       "...                                    ...  \n",
       "35923                         FGE - PUEBLA  \n",
       "35924                         PGJ - COLIMA  \n",
       "35925                         FGE - PUEBLA  \n",
       "35926                         PGJ - COLIMA  \n",
       "35927                     PGJ - NUEVO LEON  \n",
       "\n",
       "[35927 rows x 13 columns]"
      ]
     },
     "execution_count": 117,
     "metadata": {},
     "output_type": "execute_result"
    }
   ],
   "source": [
    "df"
   ]
  },
  {
   "cell_type": "markdown",
   "metadata": {},
   "source": [
    "> Ahora el número de filas ya no coincide con el índice del último registro y la indexación comienza desde 1. "
   ]
  },
  {
   "cell_type": "markdown",
   "metadata": {},
   "source": [
    "### Renombrando columnas"
   ]
  },
  {
   "cell_type": "code",
   "execution_count": 118,
   "metadata": {
    "ExecuteTime": {
     "end_time": "2022-12-10T03:46:50.005206Z",
     "start_time": "2022-12-10T03:46:50.002008Z"
    }
   },
   "outputs": [
    {
     "data": {
      "text/plain": [
       "Index(['Fecha en que se le vio por ultima vez',\n",
       "       'Hora en que se le vio por ultima vez',\n",
       "       'Entidad en que se le vio por ultima vez',\n",
       "       'Municipio en que se le vio por ultima vez',\n",
       "       'Localidad en que se le vio por ultima vez', 'Nacionalidad', 'Estatura',\n",
       "       'Complexion', 'Sexo', 'Edad', 'Descripcion de senas particulares',\n",
       "       'Discapacidad', 'Dependencia que envio la informacion'],\n",
       "      dtype='object')"
      ]
     },
     "execution_count": 118,
     "metadata": {},
     "output_type": "execute_result"
    }
   ],
   "source": [
    "df.columns"
   ]
  },
  {
   "cell_type": "markdown",
   "metadata": {},
   "source": [
    "> Observamos el nombre de las columnas, podemos estandarizar los nombres para cumplir la convención snake case."
   ]
  },
  {
   "cell_type": "markdown",
   "metadata": {},
   "source": [
    "Construimos un diccionario con el mapeo de los nombres de las columnas esperados."
   ]
  },
  {
   "cell_type": "code",
   "execution_count": 119,
   "metadata": {
    "ExecuteTime": {
     "end_time": "2022-12-10T03:46:50.022679Z",
     "start_time": "2022-12-10T03:46:50.009622Z"
    }
   },
   "outputs": [
    {
     "data": {
      "text/html": [
       "<div>\n",
       "<style scoped>\n",
       "    .dataframe tbody tr th:only-of-type {\n",
       "        vertical-align: middle;\n",
       "    }\n",
       "\n",
       "    .dataframe tbody tr th {\n",
       "        vertical-align: top;\n",
       "    }\n",
       "\n",
       "    .dataframe thead th {\n",
       "        text-align: right;\n",
       "    }\n",
       "</style>\n",
       "<table border=\"1\" class=\"dataframe\">\n",
       "  <thead>\n",
       "    <tr style=\"text-align: right;\">\n",
       "      <th></th>\n",
       "      <th>fecha</th>\n",
       "      <th>hora</th>\n",
       "      <th>entidad</th>\n",
       "      <th>municipio</th>\n",
       "      <th>localidad</th>\n",
       "      <th>nacionalidad</th>\n",
       "      <th>estatura</th>\n",
       "      <th>complexion</th>\n",
       "      <th>sexo</th>\n",
       "      <th>edad</th>\n",
       "      <th>senas_particulares</th>\n",
       "      <th>discapacidad</th>\n",
       "      <th>dependecia_origen</th>\n",
       "    </tr>\n",
       "  </thead>\n",
       "  <tbody>\n",
       "    <tr>\n",
       "      <th>1</th>\n",
       "      <td>2012-03-18</td>\n",
       "      <td>05:00:00</td>\n",
       "      <td>SONORA</td>\n",
       "      <td>NAVOJOA</td>\n",
       "      <td>NAVOJOA</td>\n",
       "      <td>MEXICANA</td>\n",
       "      <td>1.10</td>\n",
       "      <td>DELGADA</td>\n",
       "      <td>MUJER</td>\n",
       "      <td>7</td>\n",
       "      <td>TIENE UNA CICATRIZ EN LA RODILLA IZQUIERDA POR...</td>\n",
       "      <td>NINGUNO</td>\n",
       "      <td>FGE - SONORA</td>\n",
       "    </tr>\n",
       "    <tr>\n",
       "      <th>2</th>\n",
       "      <td>2007-02-05</td>\n",
       "      <td>02:00:26</td>\n",
       "      <td>ESTADO DE MEXICO</td>\n",
       "      <td>VALLE DE BRAVO</td>\n",
       "      <td>VALLE DE BRAVO</td>\n",
       "      <td>MEXICANA</td>\n",
       "      <td>1.10</td>\n",
       "      <td>DELGADA</td>\n",
       "      <td>MUJER</td>\n",
       "      <td>4</td>\n",
       "      <td>NO ESPECIFICADO</td>\n",
       "      <td>NINGUNO</td>\n",
       "      <td>FGJ - ESTADO DE MEXICO</td>\n",
       "    </tr>\n",
       "    <tr>\n",
       "      <th>3</th>\n",
       "      <td>2009-03-14</td>\n",
       "      <td>08:30:54</td>\n",
       "      <td>ESTADO DE MEXICO</td>\n",
       "      <td>CHALCO</td>\n",
       "      <td>CHALCO</td>\n",
       "      <td>MEXICANA</td>\n",
       "      <td>1.10</td>\n",
       "      <td>DELGADA</td>\n",
       "      <td>HOMBRE</td>\n",
       "      <td>6</td>\n",
       "      <td>MANCHAS, PARTE SUPERIOR DE PIERNA DERECHA, CIC...</td>\n",
       "      <td>NINGUNO</td>\n",
       "      <td>FGJ - ESTADO DE MEXICO</td>\n",
       "    </tr>\n",
       "    <tr>\n",
       "      <th>4</th>\n",
       "      <td>2006-12-23</td>\n",
       "      <td>08:00:28</td>\n",
       "      <td>ESTADO DE MEXICO</td>\n",
       "      <td>TLALNEPANTLA DE BAZ</td>\n",
       "      <td>TLALNEPANTLA DE BAZ</td>\n",
       "      <td>MEXICANA</td>\n",
       "      <td>1.10</td>\n",
       "      <td>DELGADA</td>\n",
       "      <td>HOMBRE</td>\n",
       "      <td>10</td>\n",
       "      <td>LUNARES, A LA ALTURA DE LA CINTURAFORMA DE MAN...</td>\n",
       "      <td>NINGUNO</td>\n",
       "      <td>FGJ - ESTADO DE MEXICO</td>\n",
       "    </tr>\n",
       "    <tr>\n",
       "      <th>5</th>\n",
       "      <td>2008-01-11</td>\n",
       "      <td>12:00:17</td>\n",
       "      <td>ESTADO DE MEXICO</td>\n",
       "      <td>TOLUCA</td>\n",
       "      <td>TOLUCA</td>\n",
       "      <td>MEXICANA</td>\n",
       "      <td>1.10</td>\n",
       "      <td>DELGADA</td>\n",
       "      <td>HOMBRE</td>\n",
       "      <td>4</td>\n",
       "      <td>NO ESPECIFICADO</td>\n",
       "      <td>NINGUNO</td>\n",
       "      <td>FGJ - ESTADO DE MEXICO</td>\n",
       "    </tr>\n",
       "    <tr>\n",
       "      <th>...</th>\n",
       "      <td>...</td>\n",
       "      <td>...</td>\n",
       "      <td>...</td>\n",
       "      <td>...</td>\n",
       "      <td>...</td>\n",
       "      <td>...</td>\n",
       "      <td>...</td>\n",
       "      <td>...</td>\n",
       "      <td>...</td>\n",
       "      <td>...</td>\n",
       "      <td>...</td>\n",
       "      <td>...</td>\n",
       "      <td>...</td>\n",
       "    </tr>\n",
       "    <tr>\n",
       "      <th>35923</th>\n",
       "      <td>2018-04-26</td>\n",
       "      <td>08:00:00</td>\n",
       "      <td>PUEBLA</td>\n",
       "      <td>PUEBLA</td>\n",
       "      <td>PUEBLA</td>\n",
       "      <td>MEXICANA</td>\n",
       "      <td>1.60</td>\n",
       "      <td>DELGADA</td>\n",
       "      <td>HOMBRE</td>\n",
       "      <td>22</td>\n",
       "      <td>LUNAR EN LA MEJILLA Y TATUAJE EN EL CUELLO EN ...</td>\n",
       "      <td>NINGUNO</td>\n",
       "      <td>FGE - PUEBLA</td>\n",
       "    </tr>\n",
       "    <tr>\n",
       "      <th>35924</th>\n",
       "      <td>2018-01-08</td>\n",
       "      <td>11:00:00</td>\n",
       "      <td>COLIMA</td>\n",
       "      <td>VILLA DE ALVAREZ</td>\n",
       "      <td>VILLA DE ALVAREZ</td>\n",
       "      <td>MEXICANA</td>\n",
       "      <td>1.70</td>\n",
       "      <td>ROBUSTA</td>\n",
       "      <td>MUJER</td>\n",
       "      <td>27</td>\n",
       "      <td>EL OJO IZQUIERDO TIENE UN ENFERMEDAD COMO TIC,...</td>\n",
       "      <td>NINGUNO</td>\n",
       "      <td>PGJ - COLIMA</td>\n",
       "    </tr>\n",
       "    <tr>\n",
       "      <th>35925</th>\n",
       "      <td>2015-02-02</td>\n",
       "      <td>07:00:00</td>\n",
       "      <td>PUEBLA</td>\n",
       "      <td>CHILA</td>\n",
       "      <td>CHILAS DE LAS FLORES</td>\n",
       "      <td>MEXICANA</td>\n",
       "      <td>1.77</td>\n",
       "      <td>MEDIANA</td>\n",
       "      <td>MUJER</td>\n",
       "      <td>86</td>\n",
       "      <td>NO ESPECIFICADO</td>\n",
       "      <td>NINGUNO</td>\n",
       "      <td>FGE - PUEBLA</td>\n",
       "    </tr>\n",
       "    <tr>\n",
       "      <th>35926</th>\n",
       "      <td>2017-08-22</td>\n",
       "      <td>04:00:00</td>\n",
       "      <td>COLIMA</td>\n",
       "      <td>VILLA DE ALVAREZ</td>\n",
       "      <td>VILLA DE ALVAREZ</td>\n",
       "      <td>MEXICANA</td>\n",
       "      <td>1.76</td>\n",
       "      <td>ROBUSTA</td>\n",
       "      <td>HOMBRE</td>\n",
       "      <td>41</td>\n",
       "      <td>TATUAJE EN EL BRAZO IZQUIERDO CON LA IMAGEN DE...</td>\n",
       "      <td>NINGUNO</td>\n",
       "      <td>PGJ - COLIMA</td>\n",
       "    </tr>\n",
       "    <tr>\n",
       "      <th>35927</th>\n",
       "      <td>2018-04-11</td>\n",
       "      <td>02:00:00</td>\n",
       "      <td>NUEVO LEON</td>\n",
       "      <td>SAN NICOLAS DE LOS GARZA</td>\n",
       "      <td>SAN NICOLAS DE LOS GARZA</td>\n",
       "      <td>MEXICANA</td>\n",
       "      <td>1.60</td>\n",
       "      <td>DELGADA</td>\n",
       "      <td>MUJER</td>\n",
       "      <td>14</td>\n",
       "      <td>NO ESPECIFICADO</td>\n",
       "      <td>NINGUNO</td>\n",
       "      <td>PGJ - NUEVO LEON</td>\n",
       "    </tr>\n",
       "  </tbody>\n",
       "</table>\n",
       "<p>35927 rows × 13 columns</p>\n",
       "</div>"
      ],
      "text/plain": [
       "            fecha      hora           entidad                 municipio  \\\n",
       "1      2012-03-18  05:00:00            SONORA                   NAVOJOA   \n",
       "2      2007-02-05  02:00:26  ESTADO DE MEXICO            VALLE DE BRAVO   \n",
       "3      2009-03-14  08:30:54  ESTADO DE MEXICO                    CHALCO   \n",
       "4      2006-12-23  08:00:28  ESTADO DE MEXICO       TLALNEPANTLA DE BAZ   \n",
       "5      2008-01-11  12:00:17  ESTADO DE MEXICO                    TOLUCA   \n",
       "...           ...       ...               ...                       ...   \n",
       "35923  2018-04-26  08:00:00            PUEBLA                    PUEBLA   \n",
       "35924  2018-01-08  11:00:00            COLIMA          VILLA DE ALVAREZ   \n",
       "35925  2015-02-02  07:00:00            PUEBLA                     CHILA   \n",
       "35926  2017-08-22  04:00:00            COLIMA          VILLA DE ALVAREZ   \n",
       "35927  2018-04-11  02:00:00        NUEVO LEON  SAN NICOLAS DE LOS GARZA   \n",
       "\n",
       "                      localidad nacionalidad  estatura complexion    sexo  \\\n",
       "1                       NAVOJOA     MEXICANA      1.10    DELGADA   MUJER   \n",
       "2                VALLE DE BRAVO     MEXICANA      1.10    DELGADA   MUJER   \n",
       "3                        CHALCO     MEXICANA      1.10    DELGADA  HOMBRE   \n",
       "4           TLALNEPANTLA DE BAZ     MEXICANA      1.10    DELGADA  HOMBRE   \n",
       "5                        TOLUCA     MEXICANA      1.10    DELGADA  HOMBRE   \n",
       "...                         ...          ...       ...        ...     ...   \n",
       "35923                    PUEBLA     MEXICANA      1.60    DELGADA  HOMBRE   \n",
       "35924          VILLA DE ALVAREZ     MEXICANA      1.70    ROBUSTA   MUJER   \n",
       "35925      CHILAS DE LAS FLORES     MEXICANA      1.77    MEDIANA   MUJER   \n",
       "35926          VILLA DE ALVAREZ     MEXICANA      1.76    ROBUSTA  HOMBRE   \n",
       "35927  SAN NICOLAS DE LOS GARZA     MEXICANA      1.60    DELGADA   MUJER   \n",
       "\n",
       "       edad                                 senas_particulares discapacidad  \\\n",
       "1         7  TIENE UNA CICATRIZ EN LA RODILLA IZQUIERDA POR...      NINGUNO   \n",
       "2         4                                    NO ESPECIFICADO      NINGUNO   \n",
       "3         6  MANCHAS, PARTE SUPERIOR DE PIERNA DERECHA, CIC...      NINGUNO   \n",
       "4        10  LUNARES, A LA ALTURA DE LA CINTURAFORMA DE MAN...      NINGUNO   \n",
       "5         4                                    NO ESPECIFICADO      NINGUNO   \n",
       "...     ...                                                ...          ...   \n",
       "35923    22  LUNAR EN LA MEJILLA Y TATUAJE EN EL CUELLO EN ...      NINGUNO   \n",
       "35924    27  EL OJO IZQUIERDO TIENE UN ENFERMEDAD COMO TIC,...      NINGUNO   \n",
       "35925    86                                    NO ESPECIFICADO      NINGUNO   \n",
       "35926    41  TATUAJE EN EL BRAZO IZQUIERDO CON LA IMAGEN DE...      NINGUNO   \n",
       "35927    14                                    NO ESPECIFICADO      NINGUNO   \n",
       "\n",
       "            dependecia_origen  \n",
       "1                FGE - SONORA  \n",
       "2      FGJ - ESTADO DE MEXICO  \n",
       "3      FGJ - ESTADO DE MEXICO  \n",
       "4      FGJ - ESTADO DE MEXICO  \n",
       "5      FGJ - ESTADO DE MEXICO  \n",
       "...                       ...  \n",
       "35923            FGE - PUEBLA  \n",
       "35924            PGJ - COLIMA  \n",
       "35925            FGE - PUEBLA  \n",
       "35926            PGJ - COLIMA  \n",
       "35927        PGJ - NUEVO LEON  \n",
       "\n",
       "[35927 rows x 13 columns]"
      ]
     },
     "execution_count": 119,
     "metadata": {},
     "output_type": "execute_result"
    }
   ],
   "source": [
    "column_name_mapping = {\n",
    "    'Fecha en que se le vio por ultima vez': 'fecha',\n",
    "    'Hora en que se le vio por ultima vez': 'hora',\n",
    "    'Entidad en que se le vio por ultima vez': 'entidad',\n",
    "    'Municipio en que se le vio por ultima vez': 'municipio',\n",
    "    'Localidad en que se le vio por ultima vez': 'localidad',\n",
    "    'Nacionalidad': 'nacionalidad',\n",
    "    'Estatura': 'estatura',\n",
    "    'Complexion': 'complexion',\n",
    "    'Sexo': 'sexo',\n",
    "    'Edad': 'edad',\n",
    "    'Descripcion de senas particulares': 'senas_particulares',\n",
    "    'Discapacidad': 'discapacidad',\n",
    "    'Dependencia que envio la informacion': 'dependecia_origen'\n",
    "    \n",
    "}\n",
    "\n",
    "df = df.rename(columns=column_name_mapping)\n",
    "df"
   ]
  },
  {
   "cell_type": "markdown",
   "metadata": {},
   "source": [
    "> Nuestros nombres se encuentran estandarizados y cumplen la convención **snake case**."
   ]
  },
  {
   "cell_type": "markdown",
   "metadata": {},
   "source": [
    "---\n",
    "\n",
    "## Transformación, filtración y ordenamiento de datos\n",
    "\n",
    "---"
   ]
  },
  {
   "cell_type": "markdown",
   "metadata": {},
   "source": [
    "### Casting"
   ]
  },
  {
   "cell_type": "markdown",
   "metadata": {},
   "source": [
    "Observemos nuevamente nuestras columnas y su tipo de dato."
   ]
  },
  {
   "cell_type": "code",
   "execution_count": 120,
   "metadata": {
    "ExecuteTime": {
     "end_time": "2022-12-10T03:46:50.029179Z",
     "start_time": "2022-12-10T03:46:50.023772Z"
    },
    "scrolled": true
   },
   "outputs": [
    {
     "data": {
      "text/plain": [
       "fecha                  object\n",
       "hora                   object\n",
       "entidad                object\n",
       "municipio              object\n",
       "localidad              object\n",
       "nacionalidad           object\n",
       "estatura              float64\n",
       "complexion             object\n",
       "sexo                   object\n",
       "edad                    int64\n",
       "senas_particulares     object\n",
       "discapacidad           object\n",
       "dependecia_origen      object\n",
       "dtype: object"
      ]
     },
     "execution_count": 120,
     "metadata": {},
     "output_type": "execute_result"
    }
   ],
   "source": [
    "df.dtypes"
   ]
  },
  {
   "cell_type": "markdown",
   "metadata": {},
   "source": [
    "> Ya realizamos el casting correspondiente en nuestras variables numéricas `estatura` y `edad` pero aún tenemos dos columnas que tienen un tipo de dato incorrecto. "
   ]
  },
  {
   "cell_type": "markdown",
   "metadata": {},
   "source": [
    "Usaremos el método `astype` y un diccionario de conversión para cambiar el tipo de datos de las columnas `fecha` y `hora`."
   ]
  },
  {
   "cell_type": "code",
   "execution_count": 121,
   "metadata": {
    "ExecuteTime": {
     "end_time": "2022-12-10T03:46:50.036158Z",
     "start_time": "2022-12-10T03:46:50.033323Z"
    }
   },
   "outputs": [],
   "source": [
    "diccionario_de_conversion = {\n",
    "    'fecha': 'datetime64',\n",
    "    'hora': 'datetime64'\n",
    "}"
   ]
  },
  {
   "cell_type": "code",
   "execution_count": 122,
   "metadata": {
    "ExecuteTime": {
     "end_time": "2022-12-10T03:46:50.086244Z",
     "start_time": "2022-12-10T03:46:50.037802Z"
    }
   },
   "outputs": [],
   "source": [
    "df = df.astype(diccionario_de_conversion)"
   ]
  },
  {
   "cell_type": "code",
   "execution_count": 123,
   "metadata": {
    "ExecuteTime": {
     "end_time": "2022-12-10T03:46:50.095983Z",
     "start_time": "2022-12-10T03:46:50.088205Z"
    }
   },
   "outputs": [
    {
     "data": {
      "text/plain": [
       "1       2012-03-18\n",
       "2       2007-02-05\n",
       "3       2009-03-14\n",
       "4       2006-12-23\n",
       "5       2008-01-11\n",
       "           ...    \n",
       "35923   2018-04-26\n",
       "35924   2018-01-08\n",
       "35925   2015-02-02\n",
       "35926   2017-08-22\n",
       "35927   2018-04-11\n",
       "Name: fecha, Length: 35927, dtype: datetime64[ns]"
      ]
     },
     "execution_count": 123,
     "metadata": {},
     "output_type": "execute_result"
    }
   ],
   "source": [
    "df['fecha']"
   ]
  },
  {
   "cell_type": "code",
   "execution_count": 124,
   "metadata": {
    "ExecuteTime": {
     "end_time": "2022-12-10T03:46:50.102229Z",
     "start_time": "2022-12-10T03:46:50.097075Z"
    }
   },
   "outputs": [
    {
     "data": {
      "text/plain": [
       "1       2022-12-09 05:00:00\n",
       "2       2022-12-09 02:00:26\n",
       "3       2022-12-09 08:30:54\n",
       "4       2022-12-09 08:00:28\n",
       "5       2022-12-09 12:00:17\n",
       "                ...        \n",
       "35923   2022-12-09 08:00:00\n",
       "35924   2022-12-09 11:00:00\n",
       "35925   2022-12-09 07:00:00\n",
       "35926   2022-12-09 04:00:00\n",
       "35927   2022-12-09 02:00:00\n",
       "Name: hora, Length: 35927, dtype: datetime64[ns]"
      ]
     },
     "execution_count": 124,
     "metadata": {},
     "output_type": "execute_result"
    }
   ],
   "source": [
    "df['hora']"
   ]
  },
  {
   "cell_type": "markdown",
   "metadata": {},
   "source": [
    "> Las variables fecha y hora ya son de tipo `datetime64`, sin embargo, a los valores de hora se les ha agregado la fecha actual, debemos corregir esto."
   ]
  },
  {
   "cell_type": "markdown",
   "metadata": {},
   "source": [
    "Extraemos únicamente el registro del tiempo de la columna `hora`."
   ]
  },
  {
   "cell_type": "code",
   "execution_count": 125,
   "metadata": {
    "ExecuteTime": {
     "end_time": "2022-12-10T03:46:50.115477Z",
     "start_time": "2022-12-10T03:46:50.103448Z"
    }
   },
   "outputs": [
    {
     "data": {
      "text/plain": [
       "1        05:00:00\n",
       "2        02:00:26\n",
       "3        08:30:54\n",
       "4        08:00:28\n",
       "5        12:00:17\n",
       "           ...   \n",
       "35923    08:00:00\n",
       "35924    11:00:00\n",
       "35925    07:00:00\n",
       "35926    04:00:00\n",
       "35927    02:00:00\n",
       "Name: hora, Length: 35927, dtype: object"
      ]
     },
     "execution_count": 125,
     "metadata": {},
     "output_type": "execute_result"
    }
   ],
   "source": [
    "df['hora'] = df['hora'].dt.time\n",
    "df['hora']"
   ]
  },
  {
   "cell_type": "code",
   "execution_count": 126,
   "metadata": {
    "ExecuteTime": {
     "end_time": "2022-12-10T03:46:50.121490Z",
     "start_time": "2022-12-10T03:46:50.116729Z"
    }
   },
   "outputs": [
    {
     "data": {
      "text/plain": [
       "fecha                 datetime64[ns]\n",
       "hora                          object\n",
       "entidad                       object\n",
       "municipio                     object\n",
       "localidad                     object\n",
       "nacionalidad                  object\n",
       "estatura                     float64\n",
       "complexion                    object\n",
       "sexo                          object\n",
       "edad                           int64\n",
       "senas_particulares            object\n",
       "discapacidad                  object\n",
       "dependecia_origen             object\n",
       "dtype: object"
      ]
     },
     "execution_count": 126,
     "metadata": {},
     "output_type": "execute_result"
    }
   ],
   "source": [
    "df.dtypes"
   ]
  },
  {
   "cell_type": "markdown",
   "metadata": {},
   "source": [
    "> Vemos que el formato de `fecha` ahora aparece como `datetime64[ns]`, en el caso de la columna `hora` lo sigue mostrando como object porque es una extracción de  `datetime64[ns]`."
   ]
  },
  {
   "cell_type": "markdown",
   "metadata": {
    "ExecuteTime": {
     "end_time": "2022-09-14T00:40:37.260277Z",
     "start_time": "2022-09-14T00:40:37.256744Z"
    }
   },
   "source": [
    "### Manipulación de Strings"
   ]
  },
  {
   "cell_type": "code",
   "execution_count": 127,
   "metadata": {
    "ExecuteTime": {
     "end_time": "2022-12-10T03:46:50.130493Z",
     "start_time": "2022-12-10T03:46:50.122742Z"
    }
   },
   "outputs": [
    {
     "data": {
      "text/html": [
       "<div>\n",
       "<style scoped>\n",
       "    .dataframe tbody tr th:only-of-type {\n",
       "        vertical-align: middle;\n",
       "    }\n",
       "\n",
       "    .dataframe tbody tr th {\n",
       "        vertical-align: top;\n",
       "    }\n",
       "\n",
       "    .dataframe thead th {\n",
       "        text-align: right;\n",
       "    }\n",
       "</style>\n",
       "<table border=\"1\" class=\"dataframe\">\n",
       "  <thead>\n",
       "    <tr style=\"text-align: right;\">\n",
       "      <th></th>\n",
       "      <th>fecha</th>\n",
       "      <th>hora</th>\n",
       "      <th>entidad</th>\n",
       "      <th>municipio</th>\n",
       "      <th>localidad</th>\n",
       "      <th>nacionalidad</th>\n",
       "      <th>estatura</th>\n",
       "      <th>complexion</th>\n",
       "      <th>sexo</th>\n",
       "      <th>edad</th>\n",
       "      <th>senas_particulares</th>\n",
       "      <th>discapacidad</th>\n",
       "      <th>dependecia_origen</th>\n",
       "    </tr>\n",
       "  </thead>\n",
       "  <tbody>\n",
       "    <tr>\n",
       "      <th>1</th>\n",
       "      <td>2012-03-18</td>\n",
       "      <td>05:00:00</td>\n",
       "      <td>SONORA</td>\n",
       "      <td>NAVOJOA</td>\n",
       "      <td>NAVOJOA</td>\n",
       "      <td>MEXICANA</td>\n",
       "      <td>1.1</td>\n",
       "      <td>DELGADA</td>\n",
       "      <td>MUJER</td>\n",
       "      <td>7</td>\n",
       "      <td>TIENE UNA CICATRIZ EN LA RODILLA IZQUIERDA POR...</td>\n",
       "      <td>NINGUNO</td>\n",
       "      <td>FGE - SONORA</td>\n",
       "    </tr>\n",
       "    <tr>\n",
       "      <th>2</th>\n",
       "      <td>2007-02-05</td>\n",
       "      <td>02:00:26</td>\n",
       "      <td>ESTADO DE MEXICO</td>\n",
       "      <td>VALLE DE BRAVO</td>\n",
       "      <td>VALLE DE BRAVO</td>\n",
       "      <td>MEXICANA</td>\n",
       "      <td>1.1</td>\n",
       "      <td>DELGADA</td>\n",
       "      <td>MUJER</td>\n",
       "      <td>4</td>\n",
       "      <td>NO ESPECIFICADO</td>\n",
       "      <td>NINGUNO</td>\n",
       "      <td>FGJ - ESTADO DE MEXICO</td>\n",
       "    </tr>\n",
       "    <tr>\n",
       "      <th>3</th>\n",
       "      <td>2009-03-14</td>\n",
       "      <td>08:30:54</td>\n",
       "      <td>ESTADO DE MEXICO</td>\n",
       "      <td>CHALCO</td>\n",
       "      <td>CHALCO</td>\n",
       "      <td>MEXICANA</td>\n",
       "      <td>1.1</td>\n",
       "      <td>DELGADA</td>\n",
       "      <td>HOMBRE</td>\n",
       "      <td>6</td>\n",
       "      <td>MANCHAS, PARTE SUPERIOR DE PIERNA DERECHA, CIC...</td>\n",
       "      <td>NINGUNO</td>\n",
       "      <td>FGJ - ESTADO DE MEXICO</td>\n",
       "    </tr>\n",
       "  </tbody>\n",
       "</table>\n",
       "</div>"
      ],
      "text/plain": [
       "       fecha      hora           entidad       municipio       localidad  \\\n",
       "1 2012-03-18  05:00:00            SONORA         NAVOJOA         NAVOJOA   \n",
       "2 2007-02-05  02:00:26  ESTADO DE MEXICO  VALLE DE BRAVO  VALLE DE BRAVO   \n",
       "3 2009-03-14  08:30:54  ESTADO DE MEXICO          CHALCO          CHALCO   \n",
       "\n",
       "  nacionalidad  estatura complexion    sexo  edad  \\\n",
       "1     MEXICANA       1.1    DELGADA   MUJER     7   \n",
       "2     MEXICANA       1.1    DELGADA   MUJER     4   \n",
       "3     MEXICANA       1.1    DELGADA  HOMBRE     6   \n",
       "\n",
       "                                  senas_particulares discapacidad  \\\n",
       "1  TIENE UNA CICATRIZ EN LA RODILLA IZQUIERDA POR...      NINGUNO   \n",
       "2                                    NO ESPECIFICADO      NINGUNO   \n",
       "3  MANCHAS, PARTE SUPERIOR DE PIERNA DERECHA, CIC...      NINGUNO   \n",
       "\n",
       "        dependecia_origen  \n",
       "1            FGE - SONORA  \n",
       "2  FGJ - ESTADO DE MEXICO  \n",
       "3  FGJ - ESTADO DE MEXICO  "
      ]
     },
     "execution_count": 127,
     "metadata": {},
     "output_type": "execute_result"
    }
   ],
   "source": [
    "df.head(3)"
   ]
  },
  {
   "cell_type": "markdown",
   "metadata": {},
   "source": [
    "Los textos de nuestras variables de tipo `string` están en mayúsculas. Vamos a modificar el patrón iniciando con mayúscula la primera letra de cada palabra."
   ]
  },
  {
   "cell_type": "code",
   "execution_count": 128,
   "metadata": {
    "ExecuteTime": {
     "end_time": "2022-12-10T03:46:50.207941Z",
     "start_time": "2022-12-10T03:46:50.131564Z"
    }
   },
   "outputs": [],
   "source": [
    "columnas = ['entidad', 'municipio', 'localidad', 'nacionalidad', 'complexion', 'sexo', 'senas_particulares', 'discapacidad']\n",
    "\n",
    "for col in columnas:\n",
    "    df[col] = df[col].str.title()"
   ]
  },
  {
   "cell_type": "markdown",
   "metadata": {},
   "source": [
    "En el caso de los valores de dependencia origen nos encontramos con las siglas de las dependencias, por lo tanto, debemos mantenerlas de esta forma. Podemos extraer las letras correspondientes a las siglas y aplicar `.str.title()` únicamente en el resto del texto."
   ]
  },
  {
   "cell_type": "code",
   "execution_count": 129,
   "metadata": {
    "ExecuteTime": {
     "end_time": "2022-12-10T03:46:50.249467Z",
     "start_time": "2022-12-10T03:46:50.209373Z"
    }
   },
   "outputs": [],
   "source": [
    "df['dependecia_origen'] = df['dependecia_origen'].str[:6] + df['dependecia_origen'].str[6:].str.title()"
   ]
  },
  {
   "cell_type": "code",
   "execution_count": 130,
   "metadata": {
    "ExecuteTime": {
     "end_time": "2022-12-10T03:46:50.270767Z",
     "start_time": "2022-12-10T03:46:50.252100Z"
    },
    "scrolled": false
   },
   "outputs": [
    {
     "data": {
      "text/html": [
       "<div>\n",
       "<style scoped>\n",
       "    .dataframe tbody tr th:only-of-type {\n",
       "        vertical-align: middle;\n",
       "    }\n",
       "\n",
       "    .dataframe tbody tr th {\n",
       "        vertical-align: top;\n",
       "    }\n",
       "\n",
       "    .dataframe thead th {\n",
       "        text-align: right;\n",
       "    }\n",
       "</style>\n",
       "<table border=\"1\" class=\"dataframe\">\n",
       "  <thead>\n",
       "    <tr style=\"text-align: right;\">\n",
       "      <th></th>\n",
       "      <th>fecha</th>\n",
       "      <th>hora</th>\n",
       "      <th>entidad</th>\n",
       "      <th>municipio</th>\n",
       "      <th>localidad</th>\n",
       "      <th>nacionalidad</th>\n",
       "      <th>estatura</th>\n",
       "      <th>complexion</th>\n",
       "      <th>sexo</th>\n",
       "      <th>edad</th>\n",
       "      <th>senas_particulares</th>\n",
       "      <th>discapacidad</th>\n",
       "      <th>dependecia_origen</th>\n",
       "    </tr>\n",
       "  </thead>\n",
       "  <tbody>\n",
       "    <tr>\n",
       "      <th>1</th>\n",
       "      <td>2012-03-18</td>\n",
       "      <td>05:00:00</td>\n",
       "      <td>Sonora</td>\n",
       "      <td>Navojoa</td>\n",
       "      <td>Navojoa</td>\n",
       "      <td>Mexicana</td>\n",
       "      <td>1.10</td>\n",
       "      <td>Delgada</td>\n",
       "      <td>Mujer</td>\n",
       "      <td>7</td>\n",
       "      <td>Tiene Una Cicatriz En La Rodilla Izquierda Por...</td>\n",
       "      <td>Ninguno</td>\n",
       "      <td>FGE - Sonora</td>\n",
       "    </tr>\n",
       "    <tr>\n",
       "      <th>2</th>\n",
       "      <td>2007-02-05</td>\n",
       "      <td>02:00:26</td>\n",
       "      <td>Estado De Mexico</td>\n",
       "      <td>Valle De Bravo</td>\n",
       "      <td>Valle De Bravo</td>\n",
       "      <td>Mexicana</td>\n",
       "      <td>1.10</td>\n",
       "      <td>Delgada</td>\n",
       "      <td>Mujer</td>\n",
       "      <td>4</td>\n",
       "      <td>No Especificado</td>\n",
       "      <td>Ninguno</td>\n",
       "      <td>FGJ - Estado De Mexico</td>\n",
       "    </tr>\n",
       "    <tr>\n",
       "      <th>3</th>\n",
       "      <td>2009-03-14</td>\n",
       "      <td>08:30:54</td>\n",
       "      <td>Estado De Mexico</td>\n",
       "      <td>Chalco</td>\n",
       "      <td>Chalco</td>\n",
       "      <td>Mexicana</td>\n",
       "      <td>1.10</td>\n",
       "      <td>Delgada</td>\n",
       "      <td>Hombre</td>\n",
       "      <td>6</td>\n",
       "      <td>Manchas, Parte Superior De Pierna Derecha, Cic...</td>\n",
       "      <td>Ninguno</td>\n",
       "      <td>FGJ - Estado De Mexico</td>\n",
       "    </tr>\n",
       "    <tr>\n",
       "      <th>4</th>\n",
       "      <td>2006-12-23</td>\n",
       "      <td>08:00:28</td>\n",
       "      <td>Estado De Mexico</td>\n",
       "      <td>Tlalnepantla De Baz</td>\n",
       "      <td>Tlalnepantla De Baz</td>\n",
       "      <td>Mexicana</td>\n",
       "      <td>1.10</td>\n",
       "      <td>Delgada</td>\n",
       "      <td>Hombre</td>\n",
       "      <td>10</td>\n",
       "      <td>Lunares, A La Altura De La Cinturaforma De Man...</td>\n",
       "      <td>Ninguno</td>\n",
       "      <td>FGJ - Estado De Mexico</td>\n",
       "    </tr>\n",
       "    <tr>\n",
       "      <th>5</th>\n",
       "      <td>2008-01-11</td>\n",
       "      <td>12:00:17</td>\n",
       "      <td>Estado De Mexico</td>\n",
       "      <td>Toluca</td>\n",
       "      <td>Toluca</td>\n",
       "      <td>Mexicana</td>\n",
       "      <td>1.10</td>\n",
       "      <td>Delgada</td>\n",
       "      <td>Hombre</td>\n",
       "      <td>4</td>\n",
       "      <td>No Especificado</td>\n",
       "      <td>Ninguno</td>\n",
       "      <td>FGJ - Estado De Mexico</td>\n",
       "    </tr>\n",
       "    <tr>\n",
       "      <th>...</th>\n",
       "      <td>...</td>\n",
       "      <td>...</td>\n",
       "      <td>...</td>\n",
       "      <td>...</td>\n",
       "      <td>...</td>\n",
       "      <td>...</td>\n",
       "      <td>...</td>\n",
       "      <td>...</td>\n",
       "      <td>...</td>\n",
       "      <td>...</td>\n",
       "      <td>...</td>\n",
       "      <td>...</td>\n",
       "      <td>...</td>\n",
       "    </tr>\n",
       "    <tr>\n",
       "      <th>35923</th>\n",
       "      <td>2018-04-26</td>\n",
       "      <td>08:00:00</td>\n",
       "      <td>Puebla</td>\n",
       "      <td>Puebla</td>\n",
       "      <td>Puebla</td>\n",
       "      <td>Mexicana</td>\n",
       "      <td>1.60</td>\n",
       "      <td>Delgada</td>\n",
       "      <td>Hombre</td>\n",
       "      <td>22</td>\n",
       "      <td>Lunar En La Mejilla Y Tatuaje En El Cuello En ...</td>\n",
       "      <td>Ninguno</td>\n",
       "      <td>FGE - Puebla</td>\n",
       "    </tr>\n",
       "    <tr>\n",
       "      <th>35924</th>\n",
       "      <td>2018-01-08</td>\n",
       "      <td>11:00:00</td>\n",
       "      <td>Colima</td>\n",
       "      <td>Villa De Alvarez</td>\n",
       "      <td>Villa De Alvarez</td>\n",
       "      <td>Mexicana</td>\n",
       "      <td>1.70</td>\n",
       "      <td>Robusta</td>\n",
       "      <td>Mujer</td>\n",
       "      <td>27</td>\n",
       "      <td>El Ojo Izquierdo Tiene Un Enfermedad Como Tic,...</td>\n",
       "      <td>Ninguno</td>\n",
       "      <td>PGJ - Colima</td>\n",
       "    </tr>\n",
       "    <tr>\n",
       "      <th>35925</th>\n",
       "      <td>2015-02-02</td>\n",
       "      <td>07:00:00</td>\n",
       "      <td>Puebla</td>\n",
       "      <td>Chila</td>\n",
       "      <td>Chilas De Las Flores</td>\n",
       "      <td>Mexicana</td>\n",
       "      <td>1.77</td>\n",
       "      <td>Mediana</td>\n",
       "      <td>Mujer</td>\n",
       "      <td>86</td>\n",
       "      <td>No Especificado</td>\n",
       "      <td>Ninguno</td>\n",
       "      <td>FGE - Puebla</td>\n",
       "    </tr>\n",
       "    <tr>\n",
       "      <th>35926</th>\n",
       "      <td>2017-08-22</td>\n",
       "      <td>04:00:00</td>\n",
       "      <td>Colima</td>\n",
       "      <td>Villa De Alvarez</td>\n",
       "      <td>Villa De Alvarez</td>\n",
       "      <td>Mexicana</td>\n",
       "      <td>1.76</td>\n",
       "      <td>Robusta</td>\n",
       "      <td>Hombre</td>\n",
       "      <td>41</td>\n",
       "      <td>Tatuaje En El Brazo Izquierdo Con La Imagen De...</td>\n",
       "      <td>Ninguno</td>\n",
       "      <td>PGJ - Colima</td>\n",
       "    </tr>\n",
       "    <tr>\n",
       "      <th>35927</th>\n",
       "      <td>2018-04-11</td>\n",
       "      <td>02:00:00</td>\n",
       "      <td>Nuevo Leon</td>\n",
       "      <td>San Nicolas De Los Garza</td>\n",
       "      <td>San Nicolas De Los Garza</td>\n",
       "      <td>Mexicana</td>\n",
       "      <td>1.60</td>\n",
       "      <td>Delgada</td>\n",
       "      <td>Mujer</td>\n",
       "      <td>14</td>\n",
       "      <td>No Especificado</td>\n",
       "      <td>Ninguno</td>\n",
       "      <td>PGJ - Nuevo Leon</td>\n",
       "    </tr>\n",
       "  </tbody>\n",
       "</table>\n",
       "<p>35927 rows × 13 columns</p>\n",
       "</div>"
      ],
      "text/plain": [
       "           fecha      hora           entidad                 municipio  \\\n",
       "1     2012-03-18  05:00:00            Sonora                   Navojoa   \n",
       "2     2007-02-05  02:00:26  Estado De Mexico            Valle De Bravo   \n",
       "3     2009-03-14  08:30:54  Estado De Mexico                    Chalco   \n",
       "4     2006-12-23  08:00:28  Estado De Mexico       Tlalnepantla De Baz   \n",
       "5     2008-01-11  12:00:17  Estado De Mexico                    Toluca   \n",
       "...          ...       ...               ...                       ...   \n",
       "35923 2018-04-26  08:00:00            Puebla                    Puebla   \n",
       "35924 2018-01-08  11:00:00            Colima          Villa De Alvarez   \n",
       "35925 2015-02-02  07:00:00            Puebla                     Chila   \n",
       "35926 2017-08-22  04:00:00            Colima          Villa De Alvarez   \n",
       "35927 2018-04-11  02:00:00        Nuevo Leon  San Nicolas De Los Garza   \n",
       "\n",
       "                      localidad nacionalidad  estatura complexion    sexo  \\\n",
       "1                       Navojoa     Mexicana      1.10    Delgada   Mujer   \n",
       "2                Valle De Bravo     Mexicana      1.10    Delgada   Mujer   \n",
       "3                        Chalco     Mexicana      1.10    Delgada  Hombre   \n",
       "4           Tlalnepantla De Baz     Mexicana      1.10    Delgada  Hombre   \n",
       "5                        Toluca     Mexicana      1.10    Delgada  Hombre   \n",
       "...                         ...          ...       ...        ...     ...   \n",
       "35923                    Puebla     Mexicana      1.60    Delgada  Hombre   \n",
       "35924          Villa De Alvarez     Mexicana      1.70    Robusta   Mujer   \n",
       "35925      Chilas De Las Flores     Mexicana      1.77    Mediana   Mujer   \n",
       "35926          Villa De Alvarez     Mexicana      1.76    Robusta  Hombre   \n",
       "35927  San Nicolas De Los Garza     Mexicana      1.60    Delgada   Mujer   \n",
       "\n",
       "       edad                                 senas_particulares discapacidad  \\\n",
       "1         7  Tiene Una Cicatriz En La Rodilla Izquierda Por...      Ninguno   \n",
       "2         4                                    No Especificado      Ninguno   \n",
       "3         6  Manchas, Parte Superior De Pierna Derecha, Cic...      Ninguno   \n",
       "4        10  Lunares, A La Altura De La Cinturaforma De Man...      Ninguno   \n",
       "5         4                                    No Especificado      Ninguno   \n",
       "...     ...                                                ...          ...   \n",
       "35923    22  Lunar En La Mejilla Y Tatuaje En El Cuello En ...      Ninguno   \n",
       "35924    27  El Ojo Izquierdo Tiene Un Enfermedad Como Tic,...      Ninguno   \n",
       "35925    86                                    No Especificado      Ninguno   \n",
       "35926    41  Tatuaje En El Brazo Izquierdo Con La Imagen De...      Ninguno   \n",
       "35927    14                                    No Especificado      Ninguno   \n",
       "\n",
       "            dependecia_origen  \n",
       "1                FGE - Sonora  \n",
       "2      FGJ - Estado De Mexico  \n",
       "3      FGJ - Estado De Mexico  \n",
       "4      FGJ - Estado De Mexico  \n",
       "5      FGJ - Estado De Mexico  \n",
       "...                       ...  \n",
       "35923            FGE - Puebla  \n",
       "35924            PGJ - Colima  \n",
       "35925            FGE - Puebla  \n",
       "35926            PGJ - Colima  \n",
       "35927        PGJ - Nuevo Leon  \n",
       "\n",
       "[35927 rows x 13 columns]"
      ]
     },
     "execution_count": 130,
     "metadata": {},
     "output_type": "execute_result"
    }
   ],
   "source": [
    "df"
   ]
  },
  {
   "cell_type": "markdown",
   "metadata": {},
   "source": [
    "> Ahora todas nuestras columnas texto, tienen un formato uniforme. "
   ]
  },
  {
   "cell_type": "markdown",
   "metadata": {},
   "source": [
    "---\n",
    "\n",
    "## Exportar DataFrame resultante a CSV\n",
    "\n",
    "---"
   ]
  },
  {
   "cell_type": "markdown",
   "metadata": {},
   "source": [
    "Antes de guardar nuestro `DataFrame` final vamos a reordenar nuestras columnas para que nuestros datos tengan un mejor orden."
   ]
  },
  {
   "cell_type": "code",
   "execution_count": 132,
   "metadata": {
    "ExecuteTime": {
     "end_time": "2022-12-10T03:48:06.181501Z",
     "start_time": "2022-12-10T03:48:06.152398Z"
    }
   },
   "outputs": [
    {
     "data": {
      "text/html": [
       "<div>\n",
       "<style scoped>\n",
       "    .dataframe tbody tr th:only-of-type {\n",
       "        vertical-align: middle;\n",
       "    }\n",
       "\n",
       "    .dataframe tbody tr th {\n",
       "        vertical-align: top;\n",
       "    }\n",
       "\n",
       "    .dataframe thead th {\n",
       "        text-align: right;\n",
       "    }\n",
       "</style>\n",
       "<table border=\"1\" class=\"dataframe\">\n",
       "  <thead>\n",
       "    <tr style=\"text-align: right;\">\n",
       "      <th></th>\n",
       "      <th>fecha</th>\n",
       "      <th>hora</th>\n",
       "      <th>entidad</th>\n",
       "      <th>municipio</th>\n",
       "      <th>localidad</th>\n",
       "      <th>nacionalidad</th>\n",
       "      <th>sexo</th>\n",
       "      <th>edad</th>\n",
       "      <th>estatura</th>\n",
       "      <th>complexion</th>\n",
       "      <th>senas_particulares</th>\n",
       "      <th>discapacidad</th>\n",
       "      <th>dependecia_origen</th>\n",
       "    </tr>\n",
       "  </thead>\n",
       "  <tbody>\n",
       "    <tr>\n",
       "      <th>1</th>\n",
       "      <td>2012-03-18</td>\n",
       "      <td>05:00:00</td>\n",
       "      <td>Sonora</td>\n",
       "      <td>Navojoa</td>\n",
       "      <td>Navojoa</td>\n",
       "      <td>Mexicana</td>\n",
       "      <td>Mujer</td>\n",
       "      <td>7</td>\n",
       "      <td>1.10</td>\n",
       "      <td>Delgada</td>\n",
       "      <td>Tiene Una Cicatriz En La Rodilla Izquierda Por...</td>\n",
       "      <td>Ninguno</td>\n",
       "      <td>FGE - Sonora</td>\n",
       "    </tr>\n",
       "    <tr>\n",
       "      <th>2</th>\n",
       "      <td>2007-02-05</td>\n",
       "      <td>02:00:26</td>\n",
       "      <td>Estado De Mexico</td>\n",
       "      <td>Valle De Bravo</td>\n",
       "      <td>Valle De Bravo</td>\n",
       "      <td>Mexicana</td>\n",
       "      <td>Mujer</td>\n",
       "      <td>4</td>\n",
       "      <td>1.10</td>\n",
       "      <td>Delgada</td>\n",
       "      <td>No Especificado</td>\n",
       "      <td>Ninguno</td>\n",
       "      <td>FGJ - Estado De Mexico</td>\n",
       "    </tr>\n",
       "    <tr>\n",
       "      <th>3</th>\n",
       "      <td>2009-03-14</td>\n",
       "      <td>08:30:54</td>\n",
       "      <td>Estado De Mexico</td>\n",
       "      <td>Chalco</td>\n",
       "      <td>Chalco</td>\n",
       "      <td>Mexicana</td>\n",
       "      <td>Hombre</td>\n",
       "      <td>6</td>\n",
       "      <td>1.10</td>\n",
       "      <td>Delgada</td>\n",
       "      <td>Manchas, Parte Superior De Pierna Derecha, Cic...</td>\n",
       "      <td>Ninguno</td>\n",
       "      <td>FGJ - Estado De Mexico</td>\n",
       "    </tr>\n",
       "    <tr>\n",
       "      <th>4</th>\n",
       "      <td>2006-12-23</td>\n",
       "      <td>08:00:28</td>\n",
       "      <td>Estado De Mexico</td>\n",
       "      <td>Tlalnepantla De Baz</td>\n",
       "      <td>Tlalnepantla De Baz</td>\n",
       "      <td>Mexicana</td>\n",
       "      <td>Hombre</td>\n",
       "      <td>10</td>\n",
       "      <td>1.10</td>\n",
       "      <td>Delgada</td>\n",
       "      <td>Lunares, A La Altura De La Cinturaforma De Man...</td>\n",
       "      <td>Ninguno</td>\n",
       "      <td>FGJ - Estado De Mexico</td>\n",
       "    </tr>\n",
       "    <tr>\n",
       "      <th>5</th>\n",
       "      <td>2008-01-11</td>\n",
       "      <td>12:00:17</td>\n",
       "      <td>Estado De Mexico</td>\n",
       "      <td>Toluca</td>\n",
       "      <td>Toluca</td>\n",
       "      <td>Mexicana</td>\n",
       "      <td>Hombre</td>\n",
       "      <td>4</td>\n",
       "      <td>1.10</td>\n",
       "      <td>Delgada</td>\n",
       "      <td>No Especificado</td>\n",
       "      <td>Ninguno</td>\n",
       "      <td>FGJ - Estado De Mexico</td>\n",
       "    </tr>\n",
       "    <tr>\n",
       "      <th>...</th>\n",
       "      <td>...</td>\n",
       "      <td>...</td>\n",
       "      <td>...</td>\n",
       "      <td>...</td>\n",
       "      <td>...</td>\n",
       "      <td>...</td>\n",
       "      <td>...</td>\n",
       "      <td>...</td>\n",
       "      <td>...</td>\n",
       "      <td>...</td>\n",
       "      <td>...</td>\n",
       "      <td>...</td>\n",
       "      <td>...</td>\n",
       "    </tr>\n",
       "    <tr>\n",
       "      <th>35923</th>\n",
       "      <td>2018-04-26</td>\n",
       "      <td>08:00:00</td>\n",
       "      <td>Puebla</td>\n",
       "      <td>Puebla</td>\n",
       "      <td>Puebla</td>\n",
       "      <td>Mexicana</td>\n",
       "      <td>Hombre</td>\n",
       "      <td>22</td>\n",
       "      <td>1.60</td>\n",
       "      <td>Delgada</td>\n",
       "      <td>Lunar En La Mejilla Y Tatuaje En El Cuello En ...</td>\n",
       "      <td>Ninguno</td>\n",
       "      <td>FGE - Puebla</td>\n",
       "    </tr>\n",
       "    <tr>\n",
       "      <th>35924</th>\n",
       "      <td>2018-01-08</td>\n",
       "      <td>11:00:00</td>\n",
       "      <td>Colima</td>\n",
       "      <td>Villa De Alvarez</td>\n",
       "      <td>Villa De Alvarez</td>\n",
       "      <td>Mexicana</td>\n",
       "      <td>Mujer</td>\n",
       "      <td>27</td>\n",
       "      <td>1.70</td>\n",
       "      <td>Robusta</td>\n",
       "      <td>El Ojo Izquierdo Tiene Un Enfermedad Como Tic,...</td>\n",
       "      <td>Ninguno</td>\n",
       "      <td>PGJ - Colima</td>\n",
       "    </tr>\n",
       "    <tr>\n",
       "      <th>35925</th>\n",
       "      <td>2015-02-02</td>\n",
       "      <td>07:00:00</td>\n",
       "      <td>Puebla</td>\n",
       "      <td>Chila</td>\n",
       "      <td>Chilas De Las Flores</td>\n",
       "      <td>Mexicana</td>\n",
       "      <td>Mujer</td>\n",
       "      <td>86</td>\n",
       "      <td>1.77</td>\n",
       "      <td>Mediana</td>\n",
       "      <td>No Especificado</td>\n",
       "      <td>Ninguno</td>\n",
       "      <td>FGE - Puebla</td>\n",
       "    </tr>\n",
       "    <tr>\n",
       "      <th>35926</th>\n",
       "      <td>2017-08-22</td>\n",
       "      <td>04:00:00</td>\n",
       "      <td>Colima</td>\n",
       "      <td>Villa De Alvarez</td>\n",
       "      <td>Villa De Alvarez</td>\n",
       "      <td>Mexicana</td>\n",
       "      <td>Hombre</td>\n",
       "      <td>41</td>\n",
       "      <td>1.76</td>\n",
       "      <td>Robusta</td>\n",
       "      <td>Tatuaje En El Brazo Izquierdo Con La Imagen De...</td>\n",
       "      <td>Ninguno</td>\n",
       "      <td>PGJ - Colima</td>\n",
       "    </tr>\n",
       "    <tr>\n",
       "      <th>35927</th>\n",
       "      <td>2018-04-11</td>\n",
       "      <td>02:00:00</td>\n",
       "      <td>Nuevo Leon</td>\n",
       "      <td>San Nicolas De Los Garza</td>\n",
       "      <td>San Nicolas De Los Garza</td>\n",
       "      <td>Mexicana</td>\n",
       "      <td>Mujer</td>\n",
       "      <td>14</td>\n",
       "      <td>1.60</td>\n",
       "      <td>Delgada</td>\n",
       "      <td>No Especificado</td>\n",
       "      <td>Ninguno</td>\n",
       "      <td>PGJ - Nuevo Leon</td>\n",
       "    </tr>\n",
       "  </tbody>\n",
       "</table>\n",
       "<p>35927 rows × 13 columns</p>\n",
       "</div>"
      ],
      "text/plain": [
       "           fecha      hora           entidad                 municipio  \\\n",
       "1     2012-03-18  05:00:00            Sonora                   Navojoa   \n",
       "2     2007-02-05  02:00:26  Estado De Mexico            Valle De Bravo   \n",
       "3     2009-03-14  08:30:54  Estado De Mexico                    Chalco   \n",
       "4     2006-12-23  08:00:28  Estado De Mexico       Tlalnepantla De Baz   \n",
       "5     2008-01-11  12:00:17  Estado De Mexico                    Toluca   \n",
       "...          ...       ...               ...                       ...   \n",
       "35923 2018-04-26  08:00:00            Puebla                    Puebla   \n",
       "35924 2018-01-08  11:00:00            Colima          Villa De Alvarez   \n",
       "35925 2015-02-02  07:00:00            Puebla                     Chila   \n",
       "35926 2017-08-22  04:00:00            Colima          Villa De Alvarez   \n",
       "35927 2018-04-11  02:00:00        Nuevo Leon  San Nicolas De Los Garza   \n",
       "\n",
       "                      localidad nacionalidad    sexo  edad  estatura  \\\n",
       "1                       Navojoa     Mexicana   Mujer     7      1.10   \n",
       "2                Valle De Bravo     Mexicana   Mujer     4      1.10   \n",
       "3                        Chalco     Mexicana  Hombre     6      1.10   \n",
       "4           Tlalnepantla De Baz     Mexicana  Hombre    10      1.10   \n",
       "5                        Toluca     Mexicana  Hombre     4      1.10   \n",
       "...                         ...          ...     ...   ...       ...   \n",
       "35923                    Puebla     Mexicana  Hombre    22      1.60   \n",
       "35924          Villa De Alvarez     Mexicana   Mujer    27      1.70   \n",
       "35925      Chilas De Las Flores     Mexicana   Mujer    86      1.77   \n",
       "35926          Villa De Alvarez     Mexicana  Hombre    41      1.76   \n",
       "35927  San Nicolas De Los Garza     Mexicana   Mujer    14      1.60   \n",
       "\n",
       "      complexion                                 senas_particulares  \\\n",
       "1        Delgada  Tiene Una Cicatriz En La Rodilla Izquierda Por...   \n",
       "2        Delgada                                    No Especificado   \n",
       "3        Delgada  Manchas, Parte Superior De Pierna Derecha, Cic...   \n",
       "4        Delgada  Lunares, A La Altura De La Cinturaforma De Man...   \n",
       "5        Delgada                                    No Especificado   \n",
       "...          ...                                                ...   \n",
       "35923    Delgada  Lunar En La Mejilla Y Tatuaje En El Cuello En ...   \n",
       "35924    Robusta  El Ojo Izquierdo Tiene Un Enfermedad Como Tic,...   \n",
       "35925    Mediana                                    No Especificado   \n",
       "35926    Robusta  Tatuaje En El Brazo Izquierdo Con La Imagen De...   \n",
       "35927    Delgada                                    No Especificado   \n",
       "\n",
       "      discapacidad       dependecia_origen  \n",
       "1          Ninguno            FGE - Sonora  \n",
       "2          Ninguno  FGJ - Estado De Mexico  \n",
       "3          Ninguno  FGJ - Estado De Mexico  \n",
       "4          Ninguno  FGJ - Estado De Mexico  \n",
       "5          Ninguno  FGJ - Estado De Mexico  \n",
       "...            ...                     ...  \n",
       "35923      Ninguno            FGE - Puebla  \n",
       "35924      Ninguno            PGJ - Colima  \n",
       "35925      Ninguno            FGE - Puebla  \n",
       "35926      Ninguno            PGJ - Colima  \n",
       "35927      Ninguno        PGJ - Nuevo Leon  \n",
       "\n",
       "[35927 rows x 13 columns]"
      ]
     },
     "execution_count": 132,
     "metadata": {},
     "output_type": "execute_result"
    }
   ],
   "source": [
    "df = df[['fecha', 'hora',\n",
    "         'entidad', 'municipio', 'localidad', 'nacionalidad',\n",
    "         'sexo', 'edad', 'estatura', 'complexion', 'senas_particulares','discapacidad', 'dependecia_origen']]\n",
    "df"
   ]
  },
  {
   "cell_type": "markdown",
   "metadata": {},
   "source": [
    "Finalmente, el `DataFrame` resultante se puede exportar como archivo `.csv`."
   ]
  },
  {
   "cell_type": "code",
   "execution_count": 133,
   "metadata": {
    "ExecuteTime": {
     "end_time": "2022-12-10T03:48:20.593586Z",
     "start_time": "2022-12-10T03:48:20.311333Z"
    }
   },
   "outputs": [],
   "source": [
    "df.to_csv('RNPEDFC_Final.csv', index=False, encoding='ISO-8859-1')"
   ]
  }
 ],
 "metadata": {
  "colab": {
   "authorship_tag": "ABX9TyPFF9YwPeiZGHJ9Z8OIAqfj",
   "include_colab_link": true,
   "provenance": []
  },
  "kernelspec": {
   "display_name": "Python 3 (ipykernel)",
   "language": "python",
   "name": "python3"
  },
  "language_info": {
   "codemirror_mode": {
    "name": "ipython",
    "version": 3
   },
   "file_extension": ".py",
   "mimetype": "text/x-python",
   "name": "python",
   "nbconvert_exporter": "python",
   "pygments_lexer": "ipython3",
   "version": "3.10.6"
  },
  "toc": {
   "base_numbering": 1,
   "nav_menu": {},
   "number_sections": false,
   "sideBar": true,
   "skip_h1_title": false,
   "title_cell": "Table of Contents",
   "title_sidebar": "Contents",
   "toc_cell": false,
   "toc_position": {
    "height": "calc(100% - 180px)",
    "left": "10px",
    "top": "150px",
    "width": "300.15px"
   },
   "toc_section_display": true,
   "toc_window_display": true
  },
  "varInspector": {
   "cols": {
    "lenName": 16,
    "lenType": 16,
    "lenVar": 40
   },
   "kernels_config": {
    "python": {
     "delete_cmd_postfix": "",
     "delete_cmd_prefix": "del ",
     "library": "var_list.py",
     "varRefreshCmd": "print(var_dic_list())"
    },
    "r": {
     "delete_cmd_postfix": ") ",
     "delete_cmd_prefix": "rm(",
     "library": "var_list.r",
     "varRefreshCmd": "cat(var_dic_list()) "
    }
   },
   "types_to_exclude": [
    "module",
    "function",
    "builtin_function_or_method",
    "instance",
    "_Feature"
   ],
   "window_display": false
  }
 },
 "nbformat": 4,
 "nbformat_minor": 1
}
